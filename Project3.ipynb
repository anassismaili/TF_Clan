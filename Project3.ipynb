{
  "nbformat": 4,
  "nbformat_minor": 0,
  "metadata": {
    "colab": {
      "name": "Project3.ipynb",
      "provenance": []
    },
    "kernelspec": {
      "name": "python3",
      "display_name": "Python 3"
    },
    "language_info": {
      "name": "python"
    }
  },
  "cells": [
    {
      "cell_type": "code",
      "execution_count": 1,
      "metadata": {
        "id": "H2gON5Cn47Ui"
      },
      "outputs": [],
      "source": [
        "import pandas as pd\n",
        "import numpy as np\n",
        "import matplotlib.pyplot as plt\n",
        "from scipy.stats import multivariate_normal as mvn\n",
        "import random\n",
        "import seaborn as sns\n",
        "import math\n",
        "from google.colab import drive\n",
        "from scipy import stats"
      ]
    },
    {
      "cell_type": "code",
      "source": [
        "df = pd.read_csv('/content/drive/MyDrive/Colab Notebooks/Clean_data/raw_house_data.csv')\n",
        "df.shape"
      ],
      "metadata": {
        "colab": {
          "base_uri": "https://localhost:8080/"
        },
        "id": "4bylrRZj7TxS",
        "outputId": "ce26fc2c-3873-413c-ad7c-08785e3d946f"
      },
      "execution_count": 2,
      "outputs": [
        {
          "output_type": "execute_result",
          "data": {
            "text/plain": [
              "(5000, 16)"
            ]
          },
          "metadata": {},
          "execution_count": 2
        }
      ]
    },
    {
      "cell_type": "code",
      "source": [
        "df.columns"
      ],
      "metadata": {
        "colab": {
          "base_uri": "https://localhost:8080/"
        },
        "id": "XBf8lTIc7fVy",
        "outputId": "013400ba-6193-475e-d286-662c05184faa"
      },
      "execution_count": 3,
      "outputs": [
        {
          "output_type": "execute_result",
          "data": {
            "text/plain": [
              "Index(['MLS', 'sold_price', 'zipcode', 'longitude', 'latitude', 'lot_acres',\n",
              "       'taxes', 'year_built', 'bedrooms', 'bathrooms', 'sqrt_ft', 'garage',\n",
              "       'kitchen_features', 'fireplaces', 'floor_covering', 'HOA'],\n",
              "      dtype='object')"
            ]
          },
          "metadata": {},
          "execution_count": 3
        }
      ]
    },
    {
      "cell_type": "code",
      "source": [
        "df.hist(figsize=(10,5))"
      ],
      "metadata": {
        "colab": {
          "base_uri": "https://localhost:8080/",
          "height": 523
        },
        "id": "VSWSqzkY7lN6",
        "outputId": "5b2b2858-1ff6-4e97-c78b-3fb82c7c5cd5"
      },
      "execution_count": 4,
      "outputs": [
        {
          "output_type": "execute_result",
          "data": {
            "text/plain": [
              "array([[<matplotlib.axes._subplots.AxesSubplot object at 0x7f2e1b4e5350>,\n",
              "        <matplotlib.axes._subplots.AxesSubplot object at 0x7f2e1b4c1850>,\n",
              "        <matplotlib.axes._subplots.AxesSubplot object at 0x7f2e1b479e50>],\n",
              "       [<matplotlib.axes._subplots.AxesSubplot object at 0x7f2e1b43b490>,\n",
              "        <matplotlib.axes._subplots.AxesSubplot object at 0x7f2e1b3f3a90>,\n",
              "        <matplotlib.axes._subplots.AxesSubplot object at 0x7f2e1b3b50d0>],\n",
              "       [<matplotlib.axes._subplots.AxesSubplot object at 0x7f2e1b36d750>,\n",
              "        <matplotlib.axes._subplots.AxesSubplot object at 0x7f2e1b323c90>,\n",
              "        <matplotlib.axes._subplots.AxesSubplot object at 0x7f2e1b323cd0>]],\n",
              "      dtype=object)"
            ]
          },
          "metadata": {},
          "execution_count": 4
        },
        {
          "output_type": "display_data",
          "data": {
            "text/plain": [
              "<Figure size 720x360 with 9 Axes>"
            ],
            "image/png": "[encoded data removed]"
          },
          "metadata": {
            "needs_background": "light"
          }
        }
      ]
    },
    {
      "cell_type": "code",
      "source": [
        "df.describe()"
      ],
      "metadata": {
        "colab": {
          "base_uri": "https://localhost:8080/",
          "height": 300
        },
        "id": "WO2HOxMd706h",
        "outputId": "8e1c80d0-03ce-4a00-f4d5-562f2a311373"
      },
      "execution_count": 5,
      "outputs": [
        {
          "output_type": "execute_result",
          "data": {
            "text/plain": [
              "                MLS    sold_price       zipcode    longitude     latitude  \\\n",
              "count  5.000000e+03  5.000000e+03   5000.000000  5000.000000  5000.000000   \n",
              "mean   2.127070e+07  7.746262e+05  85723.025600  -110.912107    32.308512   \n",
              "std    2.398508e+06  3.185556e+05     38.061712     0.120629     0.178028   \n",
              "min    3.042851e+06  1.690000e+05  85118.000000  -112.520168    31.356362   \n",
              "25%    2.140718e+07  5.850000e+05  85718.000000  -110.979260    32.277484   \n",
              "50%    2.161469e+07  6.750000e+05  85737.000000  -110.923420    32.318517   \n",
              "75%    2.180480e+07  8.350000e+05  85749.000000  -110.859078    32.394334   \n",
              "max    2.192856e+07  5.300000e+06  86323.000000  -109.454637    34.927884   \n",
              "\n",
              "         lot_acres         taxes  year_built     bedrooms  \n",
              "count  4990.000000  5.000000e+03  5000.00000  5000.000000  \n",
              "mean      4.661317  9.402828e+03  1992.32800     3.933800  \n",
              "std      51.685230  1.729385e+05    65.48614     1.245362  \n",
              "min       0.000000  0.000000e+00     0.00000     1.000000  \n",
              "25%       0.580000  4.803605e+03  1987.00000     3.000000  \n",
              "50%       0.990000  6.223760e+03  1999.00000     4.000000  \n",
              "75%       1.757500  8.082830e+03  2006.00000     4.000000  \n",
              "max    2154.000000  1.221508e+07  2019.00000    36.000000  "
            ],
            "text/html": [
              "\n",
              "  <div id=\"df-2031c369-d128-4990-8e72-14a8202ac162\">\n",
              "    <div class=\"colab-df-container\">\n",
              "      <div>\n",
              "<style scoped>\n",
              "    .dataframe tbody tr th:only-of-type {\n",
              "        vertical-align: middle;\n",
              "    }\n",
              "\n",
              "    .dataframe tbody tr th {\n",
              "        vertical-align: top;\n",
              "    }\n",
              "\n",
              "    .dataframe thead th {\n",
              "        text-align: right;\n",
              "    }\n",
              "</style>\n",
              "<table border=\"1\" class=\"dataframe\">\n",
              "  <thead>\n",
              "    <tr style=\"text-align: right;\">\n",
              "      <th></th>\n",
              "      <th>MLS</th>\n",
              "      <th>sold_price</th>\n",
              "      <th>zipcode</th>\n",
              "      <th>longitude</th>\n",
              "      <th>latitude</th>\n",
              "      <th>lot_acres</th>\n",
              "      <th>taxes</th>\n",
              "      <th>year_built</th>\n",
              "      <th>bedrooms</th>\n",
              "    </tr>\n",
              "  </thead>\n",
              "  <tbody>\n",
              "    <tr>\n",
              "      <th>count</th>\n",
              "      <td>5.000000e+03</td>\n",
              "      <td>5.000000e+03</td>\n",
              "      <td>5000.000000</td>\n",
              "      <td>5000.000000</td>\n",
              "      <td>5000.000000</td>\n",
              "      <td>4990.000000</td>\n",
              "      <td>5.000000e+03</td>\n",
              "      <td>5000.00000</td>\n",
              "      <td>5000.000000</td>\n",
              "    </tr>\n",
              "    <tr>\n",
              "      <th>mean</th>\n",
              "      <td>2.127070e+07</td>\n",
              "      <td>7.746262e+05</td>\n",
              "      <td>85723.025600</td>\n",
              "      <td>-110.912107</td>\n",
              "      <td>32.308512</td>\n",
              "      <td>4.661317</td>\n",
              "      <td>9.402828e+03</td>\n",
              "      <td>1992.32800</td>\n",
              "      <td>3.933800</td>\n",
              "    </tr>\n",
              "    <tr>\n",
              "      <th>std</th>\n",
              "      <td>2.398508e+06</td>\n",
              "      <td>3.185556e+05</td>\n",
              "      <td>38.061712</td>\n",
              "      <td>0.120629</td>\n",
              "      <td>0.178028</td>\n",
              "      <td>51.685230</td>\n",
              "      <td>1.729385e+05</td>\n",
              "      <td>65.48614</td>\n",
              "      <td>1.245362</td>\n",
              "    </tr>\n",
              "    <tr>\n",
              "      <th>min</th>\n",
              "      <td>3.042851e+06</td>\n",
              "      <td>1.690000e+05</td>\n",
              "      <td>85118.000000</td>\n",
              "      <td>-112.520168</td>\n",
              "      <td>31.356362</td>\n",
              "      <td>0.000000</td>\n",
              "      <td>0.000000e+00</td>\n",
              "      <td>0.00000</td>\n",
              "      <td>1.000000</td>\n",
              "    </tr>\n",
              "    <tr>\n",
              "      <th>25%</th>\n",
              "      <td>2.140718e+07</td>\n",
              "      <td>5.850000e+05</td>\n",
              "      <td>85718.000000</td>\n",
              "      <td>-110.979260</td>\n",
              "      <td>32.277484</td>\n",
              "      <td>0.580000</td>\n",
              "      <td>4.803605e+03</td>\n",
              "      <td>1987.00000</td>\n",
              "      <td>3.000000</td>\n",
              "    </tr>\n",
              "    <tr>\n",
              "      <th>50%</th>\n",
              "      <td>2.161469e+07</td>\n",
              "      <td>6.750000e+05</td>\n",
              "      <td>85737.000000</td>\n",
              "      <td>-110.923420</td>\n",
              "      <td>32.318517</td>\n",
              "      <td>0.990000</td>\n",
              "      <td>6.223760e+03</td>\n",
              "      <td>1999.00000</td>\n",
              "      <td>4.000000</td>\n",
              "    </tr>\n",
              "    <tr>\n",
              "      <th>75%</th>\n",
              "      <td>2.180480e+07</td>\n",
              "      <td>8.350000e+05</td>\n",
              "      <td>85749.000000</td>\n",
              "      <td>-110.859078</td>\n",
              "      <td>32.394334</td>\n",
              "      <td>1.757500</td>\n",
              "      <td>8.082830e+03</td>\n",
              "      <td>2006.00000</td>\n",
              "      <td>4.000000</td>\n",
              "    </tr>\n",
              "    <tr>\n",
              "      <th>max</th>\n",
              "      <td>2.192856e+07</td>\n",
              "      <td>5.300000e+06</td>\n",
              "      <td>86323.000000</td>\n",
              "      <td>-109.454637</td>\n",
              "      <td>34.927884</td>\n",
              "      <td>2154.000000</td>\n",
              "      <td>1.221508e+07</td>\n",
              "      <td>2019.00000</td>\n",
              "      <td>36.000000</td>\n",
              "    </tr>\n",
              "  </tbody>\n",
              "</table>\n",
              "</div>\n",
              "      <button class=\"colab-df-convert\" onclick=\"convertToInteractive('df-2031c369-d128-4990-8e72-14a8202ac162')\"\n",
              "              title=\"Convert this dataframe to an interactive table.\"\n",
              "              style=\"display:none;\">\n",
              "        \n",
              "  <svg xmlns=\"http://www.w3.org/2000/svg\" height=\"24px\"viewBox=\"0 0 24 24\"\n",
              "       width=\"24px\">\n",
              "    <path d=\"M0 0h24v24H0V0z\" fill=\"none\"/>\n",
              "    <path d=\"M18.56 5.44l.94 2.06.94-2.06 2.06-.94-2.06-.94-.94-2.06-.94 2.06-2.06.94zm-11 1L8.5 8.5l.94-2.06 2.06-.94-2.06-.94L8.5 2.5l-.94 2.06-2.06.94zm10 10l.94 2.06.94-2.06 2.06-.94-2.06-.94-.94-2.06-.94 2.06-2.06.94z\"/><path d=\"M17.41 7.96l-1.37-1.37c-.4-.4-.92-.59-1.43-.59-.52 0-1.04.2-1.43.59L10.3 9.45l-7.72 7.72c-.78.78-.78 2.05 0 2.83L4 21.41c.39.39.9.59 1.41.59.51 0 1.02-.2 1.41-.59l7.78-7.78 2.81-2.81c.8-.78.8-2.07 0-2.86zM5.41 20L4 18.59l7.72-7.72 1.47 1.35L5.41 20z\"/>\n",
              "  </svg>\n",
              "      </button>\n",
              "      \n",
              "  <style>\n",
              "    .colab-df-container {\n",
              "      display:flex;\n",
              "      flex-wrap:wrap;\n",
              "      gap: 12px;\n",
              "    }\n",
              "\n",
              "    .colab-df-convert {\n",
              "      background-color: #E8F0FE;\n",
              "      border: none;\n",
              "      border-radius: 50%;\n",
              "      cursor: pointer;\n",
              "      display: none;\n",
              "      fill: #1967D2;\n",
              "      height: 32px;\n",
              "      padding: 0 0 0 0;\n",
              "      width: 32px;\n",
              "    }\n",
              "\n",
              "    .colab-df-convert:hover {\n",
              "      background-color: #E2EBFA;\n",
              "      box-shadow: 0px 1px 2px rgba(60, 64, 67, 0.3), 0px 1px 3px 1px rgba(60, 64, 67, 0.15);\n",
              "      fill: #174EA6;\n",
              "    }\n",
              "\n",
              "    [theme=dark] .colab-df-convert {\n",
              "      background-color: #3B4455;\n",
              "      fill: #D2E3FC;\n",
              "    }\n",
              "\n",
              "    [theme=dark] .colab-df-convert:hover {\n",
              "      background-color: #434B5C;\n",
              "      box-shadow: 0px 1px 3px 1px rgba(0, 0, 0, 0.15);\n",
              "      filter: drop-shadow(0px 1px 2px rgba(0, 0, 0, 0.3));\n",
              "      fill: #FFFFFF;\n",
              "    }\n",
              "  </style>\n",
              "\n",
              "      <script>\n",
              "        const buttonEl =\n",
              "          document.querySelector('#df-2031c369-d128-4990-8e72-14a8202ac162 button.colab-df-convert');\n",
              "        buttonEl.style.display =\n",
              "          google.colab.kernel.accessAllowed ? 'block' : 'none';\n",
              "\n",
              "        async function convertToInteractive(key) {\n",
              "          const element = document.querySelector('#df-2031c369-d128-4990-8e72-14a8202ac162');\n",
              "          const dataTable =\n",
              "            await google.colab.kernel.invokeFunction('convertToInteractive',\n",
              "                                                     [key], {});\n",
              "          if (!dataTable) return;\n",
              "\n",
              "          const docLinkHtml = 'Like what you see? Visit the ' +\n",
              "            '<a target=\"_blank\" href=https://colab.research.google.com/notebooks/data_table.ipynb>data table notebook</a>'\n",
              "            + ' to learn more about interactive tables.';\n",
              "          element.innerHTML = '';\n",
              "          dataTable['output_type'] = 'display_data';\n",
              "          await google.colab.output.renderOutput(dataTable, element);\n",
              "          const docLink = document.createElement('div');\n",
              "          docLink.innerHTML = docLinkHtml;\n",
              "          element.appendChild(docLink);\n",
              "        }\n",
              "      </script>\n",
              "    </div>\n",
              "  </div>\n",
              "  "
            ]
          },
          "metadata": {},
          "execution_count": 5
        }
      ]
    },
    {
      "cell_type": "code",
      "source": [
        "df.dtypes"
      ],
      "metadata": {
        "colab": {
          "base_uri": "https://localhost:8080/"
        },
        "id": "52e9aIFx8gl5",
        "outputId": "7d0fc949-d6cc-4dc9-a92b-db7511a6c1da"
      },
      "execution_count": 6,
      "outputs": [
        {
          "output_type": "execute_result",
          "data": {
            "text/plain": [
              "MLS                   int64\n",
              "sold_price          float64\n",
              "zipcode               int64\n",
              "longitude           float64\n",
              "latitude            float64\n",
              "lot_acres           float64\n",
              "taxes               float64\n",
              "year_built            int64\n",
              "bedrooms              int64\n",
              "bathrooms            object\n",
              "sqrt_ft              object\n",
              "garage               object\n",
              "kitchen_features     object\n",
              "fireplaces           object\n",
              "floor_covering       object\n",
              "HOA                  object\n",
              "dtype: object"
            ]
          },
          "metadata": {},
          "execution_count": 6
        }
      ]
    },
    {
      "cell_type": "code",
      "source": [
        "df.isna().sum()"
      ],
      "metadata": {
        "colab": {
          "base_uri": "https://localhost:8080/"
        },
        "id": "h0ukL8xH9TrL",
        "outputId": "4ccaf8bb-4ccc-424b-9117-f2b080cabd4c"
      },
      "execution_count": 7,
      "outputs": [
        {
          "output_type": "execute_result",
          "data": {
            "text/plain": [
              "MLS                  0\n",
              "sold_price           0\n",
              "zipcode              0\n",
              "longitude            0\n",
              "latitude             0\n",
              "lot_acres           10\n",
              "taxes                0\n",
              "year_built           0\n",
              "bedrooms             0\n",
              "bathrooms            0\n",
              "sqrt_ft              0\n",
              "garage               0\n",
              "kitchen_features     0\n",
              "fireplaces           0\n",
              "floor_covering       0\n",
              "HOA                  0\n",
              "dtype: int64"
            ]
          },
          "metadata": {},
          "execution_count": 7
        }
      ]
    },
    {
      "cell_type": "code",
      "source": [
        "df['HOA'].unique()"
      ],
      "metadata": {
        "colab": {
          "base_uri": "https://localhost:8080/"
        },
        "id": "vU1TDPN89Vz6",
        "outputId": "fba8c86c-712e-4200-8bd4-c4acbba9ec00"
      },
      "execution_count": 8,
      "outputs": [
        {
          "output_type": "execute_result",
          "data": {
            "text/plain": [
              "array(['0', 'None', '55', '422', '220', '421', '141.67', '357', '148',\n",
              "       '20,000', '142', '173', '167', '123', '300', '194', '1,717', '342',\n",
              "       '240', '437', '112', '199', '178', '550', '258', '188', '169',\n",
              "       '124', '320', '213', '153', '105', '159', '193', '69', '208', '50',\n",
              "       '168', '191', '79', '157', '323', '1,100', '250', '158', '127',\n",
              "       '149', '83', '118', '219', '88', '180', '259', '128', '117', '48',\n",
              "       '130', '132', '135', '152', '33', '143', '5', '157.33', '129',\n",
              "       '171', '273', '162', '131', '134', '211', '203', '190', '145',\n",
              "       '83.33', '63', '177.34', '57', '115', '166', '184', '164', '125',\n",
              "       '216', '195', '106', '214', '238', '212.88', '4', '30', '150',\n",
              "       '19', '160', '138', '141', '146', '1,270', '15', '95', '19,480',\n",
              "       '116', '311', '94', '21', '295', '57.33', '243', '23', '34', '215',\n",
              "       '41', '18', '110', '233', '322', '43', '232', '100', '133', '4.16',\n",
              "       '202', '700', '121', '40', '51', '179', '58', '102', '175', '97',\n",
              "       '25', '139', '120', '137', '53', '2,000', '242', '49.43', '333',\n",
              "       '270', '84', '8', '165', '506', '63.98', '35', '64', '258.08',\n",
              "       '108', '187', '186', '1,600', '212', '12', '209', '107', '45',\n",
              "       '52', '42', '145.83', '22', '96', '93', '122', '200', '241', '161',\n",
              "       '37.5', '119.66', '155', '299', '154', '170', '221', '303', '140',\n",
              "       '425', '172', '68', '75', '71', '44', '37', '6', '285', '67',\n",
              "       '54.16', '9', '113', '17', '192', '1,010', '78', '609', '26',\n",
              "       '213.88', '16', '54', '11', '39', '144', '56', '156', '263', '92',\n",
              "       '119', '60', '76', '70', '516', '141.66', '343', '72', '126', '80',\n",
              "       '247', '193.5', '20', '114', '43.75', '73', '317', '36.02',\n",
              "       '1,290', '147', '32', '10', '332.66', '43.01', '198', '332.67',\n",
              "       '69.16', '33.33', '16.67', '205', '58.33', '174', '249', '38',\n",
              "       '66', '40.55', '2', '43.71', '103', '13', '185', '111', '98',\n",
              "       '166.66', '8.33', '74', '49', '59', '89', '85', '62', '66.67',\n",
              "       '151', '225.21', '65', '86', '109', '101', '81', '24', '77',\n",
              "       '1,769', '50.42', '47', '73.72', '149.5', '188.33', '257', '73.33',\n",
              "       '269', '4.17', '99', '225', '390', '40.77', '3', '194.51', '6.25',\n",
              "       '55.58', '7', '87', '90', '53.34', '1,000', '275.08', '123.44',\n",
              "       '267', '183', '136', '16.66', '97.66', '39.59', '58.36', '40.78',\n",
              "       '62.5', '290', '330', '46', '36', '41.08', '5.5', '176', '1',\n",
              "       '226', '15.41', '283', '82', '91', '252', '14', '275', '29', '324',\n",
              "       '325', '87.66', '42.38', '5,900', '350', '233.33', '83.34',\n",
              "       '8,333', '765', '68.66', '253', '15.45', '5.25', '88.33', '1,200',\n",
              "       '60.5', '31', '189', '487.88', '20.83', '328', '168.92', '14.58',\n",
              "       '368', '57.5', '61', '46.95', '750', '84.75', '34.17', '8.34',\n",
              "       '5.41', '66.66', '45.9', '337', '202.75', '149.04', '134.5',\n",
              "       '2.08', '35.83', '212.38', '10.83', '41.61', '925', '132.66',\n",
              "       '41.66', '500', '99.66', '18.75', '177', '234', '28', '104', '294',\n",
              "       '38.55', '63.33', '11.08', '210', '112.38', '5.4', '36.66',\n",
              "       '78.65'], dtype=object)"
            ]
          },
          "metadata": {},
          "execution_count": 8
        }
      ]
    },
    {
      "cell_type": "code",
      "source": [
        "df['garage'].unique()"
      ],
      "metadata": {
        "colab": {
          "base_uri": "https://localhost:8080/"
        },
        "id": "exgJ-LL895xw",
        "outputId": "274a4c03-ea22-4112-c7bd-b326ffc732a5"
      },
      "execution_count": 9,
      "outputs": [
        {
          "output_type": "execute_result",
          "data": {
            "text/plain": [
              "array(['0', 'None', '4', '3', '5', '2', '6', '15', '8', '7', '4.5', '3.5',\n",
              "       '2.5', '1', '9', '22', '30', '12', '10', '11', '20', '13'],\n",
              "      dtype=object)"
            ]
          },
          "metadata": {},
          "execution_count": 9
        }
      ]
    },
    {
      "cell_type": "code",
      "source": [
        "df['bathrooms'].unique()"
      ],
      "metadata": {
        "colab": {
          "base_uri": "https://localhost:8080/"
        },
        "id": "d3svTJgU-F2I",
        "outputId": "af6158f8-2010-47f9-cae1-88191746537b"
      },
      "execution_count": 10,
      "outputs": [
        {
          "output_type": "execute_result",
          "data": {
            "text/plain": [
              "array(['10', '2', '3', '5', '6', '4', '8', '7', '15', '4.5', '1', '9',\n",
              "       '11', '18', '14', '3.5', 'None', '35', '2.5', '36'], dtype=object)"
            ]
          },
          "metadata": {},
          "execution_count": 10
        }
      ]
    },
    {
      "cell_type": "code",
      "source": [
        "df['kitchen_features'].unique()"
      ],
      "metadata": {
        "colab": {
          "base_uri": "https://localhost:8080/"
        },
        "id": "bcbH7Pe6-g9x",
        "outputId": "c593850e-afc5-4ac5-cb94-80c8075abb49"
      },
      "execution_count": 11,
      "outputs": [
        {
          "output_type": "execute_result",
          "data": {
            "text/plain": [
              "array(['Dishwasher, Freezer, Refrigerator, Oven',\n",
              "       'Dishwasher, Garbage Disposal',\n",
              "       'Dishwasher, Garbage Disposal, Refrigerator', ...,\n",
              "       'Dishwasher, Electric Range, Island, Refrigerator, Reverse Osmosis, Appliance Color: Stainless',\n",
              "       'Dishwasher, Double Sink, Garbage Disposal, Gas Range, Pantry: Cabinet, Appliance Color: Stainless, Countertops: Granite slab, Microwave: Stainless over oven, Oven: wall',\n",
              "       'Compactor, Dishwasher, Double Sink, Island, Appliance Color: Stainless'],\n",
              "      dtype=object)"
            ]
          },
          "metadata": {},
          "execution_count": 11
        }
      ]
    },
    {
      "cell_type": "code",
      "source": [
        "df['garage'].replace('None', np.nan, inplace=True)\n",
        "df['bathrooms'].replace('None', np.nan, inplace=True)\n",
        "df['sqrt_ft'].replace('None', np.nan, inplace=True)\n"
      ],
      "metadata": {
        "id": "_2m8k2Tu-nEJ"
      },
      "execution_count": 12,
      "outputs": []
    },
    {
      "cell_type": "code",
      "source": [
        "df['garage'].unique()"
      ],
      "metadata": {
        "colab": {
          "base_uri": "https://localhost:8080/"
        },
        "id": "KOFj8Qf7-uuh",
        "outputId": "e7a9e464-f9f7-4cd6-aa20-e7136f6b0859"
      },
      "execution_count": 13,
      "outputs": [
        {
          "output_type": "execute_result",
          "data": {
            "text/plain": [
              "array(['0', nan, '4', '3', '5', '2', '6', '15', '8', '7', '4.5', '3.5',\n",
              "       '2.5', '1', '9', '22', '30', '12', '10', '11', '20', '13'],\n",
              "      dtype=object)"
            ]
          },
          "metadata": {},
          "execution_count": 13
        }
      ]
    },
    {
      "cell_type": "code",
      "source": [
        "df['HOA'].unique()"
      ],
      "metadata": {
        "colab": {
          "base_uri": "https://localhost:8080/"
        },
        "id": "7LVuDjuy_M-J",
        "outputId": "afd86b08-77ff-4c4a-cd0c-beca2892eb06"
      },
      "execution_count": 14,
      "outputs": [
        {
          "output_type": "execute_result",
          "data": {
            "text/plain": [
              "array(['0', 'None', '55', '422', '220', '421', '141.67', '357', '148',\n",
              "       '20,000', '142', '173', '167', '123', '300', '194', '1,717', '342',\n",
              "       '240', '437', '112', '199', '178', '550', '258', '188', '169',\n",
              "       '124', '320', '213', '153', '105', '159', '193', '69', '208', '50',\n",
              "       '168', '191', '79', '157', '323', '1,100', '250', '158', '127',\n",
              "       '149', '83', '118', '219', '88', '180', '259', '128', '117', '48',\n",
              "       '130', '132', '135', '152', '33', '143', '5', '157.33', '129',\n",
              "       '171', '273', '162', '131', '134', '211', '203', '190', '145',\n",
              "       '83.33', '63', '177.34', '57', '115', '166', '184', '164', '125',\n",
              "       '216', '195', '106', '214', '238', '212.88', '4', '30', '150',\n",
              "       '19', '160', '138', '141', '146', '1,270', '15', '95', '19,480',\n",
              "       '116', '311', '94', '21', '295', '57.33', '243', '23', '34', '215',\n",
              "       '41', '18', '110', '233', '322', '43', '232', '100', '133', '4.16',\n",
              "       '202', '700', '121', '40', '51', '179', '58', '102', '175', '97',\n",
              "       '25', '139', '120', '137', '53', '2,000', '242', '49.43', '333',\n",
              "       '270', '84', '8', '165', '506', '63.98', '35', '64', '258.08',\n",
              "       '108', '187', '186', '1,600', '212', '12', '209', '107', '45',\n",
              "       '52', '42', '145.83', '22', '96', '93', '122', '200', '241', '161',\n",
              "       '37.5', '119.66', '155', '299', '154', '170', '221', '303', '140',\n",
              "       '425', '172', '68', '75', '71', '44', '37', '6', '285', '67',\n",
              "       '54.16', '9', '113', '17', '192', '1,010', '78', '609', '26',\n",
              "       '213.88', '16', '54', '11', '39', '144', '56', '156', '263', '92',\n",
              "       '119', '60', '76', '70', '516', '141.66', '343', '72', '126', '80',\n",
              "       '247', '193.5', '20', '114', '43.75', '73', '317', '36.02',\n",
              "       '1,290', '147', '32', '10', '332.66', '43.01', '198', '332.67',\n",
              "       '69.16', '33.33', '16.67', '205', '58.33', '174', '249', '38',\n",
              "       '66', '40.55', '2', '43.71', '103', '13', '185', '111', '98',\n",
              "       '166.66', '8.33', '74', '49', '59', '89', '85', '62', '66.67',\n",
              "       '151', '225.21', '65', '86', '109', '101', '81', '24', '77',\n",
              "       '1,769', '50.42', '47', '73.72', '149.5', '188.33', '257', '73.33',\n",
              "       '269', '4.17', '99', '225', '390', '40.77', '3', '194.51', '6.25',\n",
              "       '55.58', '7', '87', '90', '53.34', '1,000', '275.08', '123.44',\n",
              "       '267', '183', '136', '16.66', '97.66', '39.59', '58.36', '40.78',\n",
              "       '62.5', '290', '330', '46', '36', '41.08', '5.5', '176', '1',\n",
              "       '226', '15.41', '283', '82', '91', '252', '14', '275', '29', '324',\n",
              "       '325', '87.66', '42.38', '5,900', '350', '233.33', '83.34',\n",
              "       '8,333', '765', '68.66', '253', '15.45', '5.25', '88.33', '1,200',\n",
              "       '60.5', '31', '189', '487.88', '20.83', '328', '168.92', '14.58',\n",
              "       '368', '57.5', '61', '46.95', '750', '84.75', '34.17', '8.34',\n",
              "       '5.41', '66.66', '45.9', '337', '202.75', '149.04', '134.5',\n",
              "       '2.08', '35.83', '212.38', '10.83', '41.61', '925', '132.66',\n",
              "       '41.66', '500', '99.66', '18.75', '177', '234', '28', '104', '294',\n",
              "       '38.55', '63.33', '11.08', '210', '112.38', '5.4', '36.66',\n",
              "       '78.65'], dtype=object)"
            ]
          },
          "metadata": {},
          "execution_count": 14
        }
      ]
    },
    {
      "cell_type": "code",
      "source": [
        "df['HOA'].replace('None', np.nan, inplace=True)"
      ],
      "metadata": {
        "id": "npvZj_aFCb3H"
      },
      "execution_count": 15,
      "outputs": []
    },
    {
      "cell_type": "code",
      "source": [
        "df['HOA'].replace(',','', regex=True)"
      ],
      "metadata": {
        "colab": {
          "base_uri": "https://localhost:8080/"
        },
        "id": "Xz7pHsibCqln",
        "outputId": "a3f802ac-a761-46de-ebad-e498c64af288"
      },
      "execution_count": 16,
      "outputs": [
        {
          "output_type": "execute_result",
          "data": {
            "text/plain": [
              "0         0\n",
              "1         0\n",
              "2       NaN\n",
              "3       NaN\n",
              "4        55\n",
              "       ... \n",
              "4995    NaN\n",
              "4996     43\n",
              "4997    NaN\n",
              "4998    NaN\n",
              "4999    NaN\n",
              "Name: HOA, Length: 5000, dtype: object"
            ]
          },
          "metadata": {},
          "execution_count": 16
        }
      ]
    },
    {
      "cell_type": "code",
      "source": [
        "df['HOA'].dtypes"
      ],
      "metadata": {
        "id": "DYPFrAUcC2CQ",
        "outputId": "1b672c44-64db-4267-9938-522a13ad1fde",
        "colab": {
          "base_uri": "https://localhost:8080/"
        }
      },
      "execution_count": 17,
      "outputs": [
        {
          "output_type": "execute_result",
          "data": {
            "text/plain": [
              "dtype('O')"
            ]
          },
          "metadata": {},
          "execution_count": 17
        }
      ]
    },
    {
      "cell_type": "code",
      "source": [
        "df.isna().sum()"
      ],
      "metadata": {
        "colab": {
          "base_uri": "https://localhost:8080/"
        },
        "id": "XcdiLu8zKLCm",
        "outputId": "b543f717-51fb-4bcf-bbc8-76a856487501"
      },
      "execution_count": 18,
      "outputs": [
        {
          "output_type": "execute_result",
          "data": {
            "text/plain": [
              "MLS                   0\n",
              "sold_price            0\n",
              "zipcode               0\n",
              "longitude             0\n",
              "latitude              0\n",
              "lot_acres            10\n",
              "taxes                 0\n",
              "year_built            0\n",
              "bedrooms              0\n",
              "bathrooms             6\n",
              "sqrt_ft              56\n",
              "garage                7\n",
              "kitchen_features      0\n",
              "fireplaces            0\n",
              "floor_covering        0\n",
              "HOA                 562\n",
              "dtype: int64"
            ]
          },
          "metadata": {},
          "execution_count": 18
        }
      ]
    },
    {
      "cell_type": "code",
      "source": [
        "corr = df.corr()\n",
        "plt.figure(figsize=(10,5))\n",
        "sns.heatmap(corr, annot = True)\n"
      ],
      "metadata": {
        "colab": {
          "base_uri": "https://localhost:8080/",
          "height": 342
        },
        "id": "7ZEcSLEKKRMF",
        "outputId": "6275e8bd-0ea0-471e-9053-6b1749708121"
      },
      "execution_count": 19,
      "outputs": [
        {
          "output_type": "execute_result",
          "data": {
            "text/plain": [
              "<matplotlib.axes._subplots.AxesSubplot at 0x7f2e1abd8ed0>"
            ]
          },
          "metadata": {},
          "execution_count": 19
        },
        {
          "output_type": "display_data",
          "data": {
            "text/plain": [
              "<Figure size 720x360 with 2 Axes>"
            ],
            "image/png": "[encoded data removed]"
          },
          "metadata": {
            "needs_background": "light"
          }
        }
      ]
    },
    {
      "cell_type": "code",
      "source": [
        "df['HOA']"
      ],
      "metadata": {
        "colab": {
          "base_uri": "https://localhost:8080/"
        },
        "id": "N_-ouI3Ae7Ps",
        "outputId": "be981d34-21d7-4773-fa73-4873f9a9cd51"
      },
      "execution_count": 20,
      "outputs": [
        {
          "output_type": "execute_result",
          "data": {
            "text/plain": [
              "0         0\n",
              "1         0\n",
              "2       NaN\n",
              "3       NaN\n",
              "4        55\n",
              "       ... \n",
              "4995    NaN\n",
              "4996     43\n",
              "4997    NaN\n",
              "4998    NaN\n",
              "4999    NaN\n",
              "Name: HOA, Length: 5000, dtype: object"
            ]
          },
          "metadata": {},
          "execution_count": 20
        }
      ]
    },
    {
      "cell_type": "code",
      "source": [
        "df['HOA'].replace(np.nan, '-1', inplace=True)"
      ],
      "metadata": {
        "id": "1zx1Ly36fFWT"
      },
      "execution_count": 21,
      "outputs": []
    },
    {
      "cell_type": "code",
      "source": [
        "df['HOA']"
      ],
      "metadata": {
        "colab": {
          "base_uri": "https://localhost:8080/"
        },
        "id": "S2eAnP7tfLsD",
        "outputId": "2793d599-24b9-44d2-d037-0ee4b0ce7a64"
      },
      "execution_count": 22,
      "outputs": [
        {
          "output_type": "execute_result",
          "data": {
            "text/plain": [
              "0        0\n",
              "1        0\n",
              "2       -1\n",
              "3       -1\n",
              "4       55\n",
              "        ..\n",
              "4995    -1\n",
              "4996    43\n",
              "4997    -1\n",
              "4998    -1\n",
              "4999    -1\n",
              "Name: HOA, Length: 5000, dtype: object"
            ]
          },
          "metadata": {},
          "execution_count": 22
        }
      ]
    },
    {
      "cell_type": "code",
      "source": [
        "df['HOA'].unique()"
      ],
      "metadata": {
        "colab": {
          "base_uri": "https://localhost:8080/"
        },
        "id": "MO3QF_yofQmS",
        "outputId": "ea06c88a-71bd-4c83-e7ff-0ef6a5462c92"
      },
      "execution_count": 23,
      "outputs": [
        {
          "output_type": "execute_result",
          "data": {
            "text/plain": [
              "array(['0', '-1', '55', '422', '220', '421', '141.67', '357', '148',\n",
              "       '20,000', '142', '173', '167', '123', '300', '194', '1,717', '342',\n",
              "       '240', '437', '112', '199', '178', '550', '258', '188', '169',\n",
              "       '124', '320', '213', '153', '105', '159', '193', '69', '208', '50',\n",
              "       '168', '191', '79', '157', '323', '1,100', '250', '158', '127',\n",
              "       '149', '83', '118', '219', '88', '180', '259', '128', '117', '48',\n",
              "       '130', '132', '135', '152', '33', '143', '5', '157.33', '129',\n",
              "       '171', '273', '162', '131', '134', '211', '203', '190', '145',\n",
              "       '83.33', '63', '177.34', '57', '115', '166', '184', '164', '125',\n",
              "       '216', '195', '106', '214', '238', '212.88', '4', '30', '150',\n",
              "       '19', '160', '138', '141', '146', '1,270', '15', '95', '19,480',\n",
              "       '116', '311', '94', '21', '295', '57.33', '243', '23', '34', '215',\n",
              "       '41', '18', '110', '233', '322', '43', '232', '100', '133', '4.16',\n",
              "       '202', '700', '121', '40', '51', '179', '58', '102', '175', '97',\n",
              "       '25', '139', '120', '137', '53', '2,000', '242', '49.43', '333',\n",
              "       '270', '84', '8', '165', '506', '63.98', '35', '64', '258.08',\n",
              "       '108', '187', '186', '1,600', '212', '12', '209', '107', '45',\n",
              "       '52', '42', '145.83', '22', '96', '93', '122', '200', '241', '161',\n",
              "       '37.5', '119.66', '155', '299', '154', '170', '221', '303', '140',\n",
              "       '425', '172', '68', '75', '71', '44', '37', '6', '285', '67',\n",
              "       '54.16', '9', '113', '17', '192', '1,010', '78', '609', '26',\n",
              "       '213.88', '16', '54', '11', '39', '144', '56', '156', '263', '92',\n",
              "       '119', '60', '76', '70', '516', '141.66', '343', '72', '126', '80',\n",
              "       '247', '193.5', '20', '114', '43.75', '73', '317', '36.02',\n",
              "       '1,290', '147', '32', '10', '332.66', '43.01', '198', '332.67',\n",
              "       '69.16', '33.33', '16.67', '205', '58.33', '174', '249', '38',\n",
              "       '66', '40.55', '2', '43.71', '103', '13', '185', '111', '98',\n",
              "       '166.66', '8.33', '74', '49', '59', '89', '85', '62', '66.67',\n",
              "       '151', '225.21', '65', '86', '109', '101', '81', '24', '77',\n",
              "       '1,769', '50.42', '47', '73.72', '149.5', '188.33', '257', '73.33',\n",
              "       '269', '4.17', '99', '225', '390', '40.77', '3', '194.51', '6.25',\n",
              "       '55.58', '7', '87', '90', '53.34', '1,000', '275.08', '123.44',\n",
              "       '267', '183', '136', '16.66', '97.66', '39.59', '58.36', '40.78',\n",
              "       '62.5', '290', '330', '46', '36', '41.08', '5.5', '176', '1',\n",
              "       '226', '15.41', '283', '82', '91', '252', '14', '275', '29', '324',\n",
              "       '325', '87.66', '42.38', '5,900', '350', '233.33', '83.34',\n",
              "       '8,333', '765', '68.66', '253', '15.45', '5.25', '88.33', '1,200',\n",
              "       '60.5', '31', '189', '487.88', '20.83', '328', '168.92', '14.58',\n",
              "       '368', '57.5', '61', '46.95', '750', '84.75', '34.17', '8.34',\n",
              "       '5.41', '66.66', '45.9', '337', '202.75', '149.04', '134.5',\n",
              "       '2.08', '35.83', '212.38', '10.83', '41.61', '925', '132.66',\n",
              "       '41.66', '500', '99.66', '18.75', '177', '234', '28', '104', '294',\n",
              "       '38.55', '63.33', '11.08', '210', '112.38', '5.4', '36.66',\n",
              "       '78.65'], dtype=object)"
            ]
          },
          "metadata": {},
          "execution_count": 23
        }
      ]
    },
    {
      "cell_type": "code",
      "source": [
        "df['HOA'] = df.HOA.replace(',','', regex=True)"
      ],
      "metadata": {
        "id": "AZBk2LkWgBRj"
      },
      "execution_count": 24,
      "outputs": []
    },
    {
      "cell_type": "code",
      "source": [
        "df['HOA'].unique()"
      ],
      "metadata": {
        "colab": {
          "base_uri": "https://localhost:8080/"
        },
        "id": "82HKyKLVgFTa",
        "outputId": "e4e77f44-1b8d-4723-d59a-46933430ba22"
      },
      "execution_count": 25,
      "outputs": [
        {
          "output_type": "execute_result",
          "data": {
            "text/plain": [
              "array(['0', '-1', '55', '422', '220', '421', '141.67', '357', '148',\n",
              "       '20000', '142', '173', '167', '123', '300', '194', '1717', '342',\n",
              "       '240', '437', '112', '199', '178', '550', '258', '188', '169',\n",
              "       '124', '320', '213', '153', '105', '159', '193', '69', '208', '50',\n",
              "       '168', '191', '79', '157', '323', '1100', '250', '158', '127',\n",
              "       '149', '83', '118', '219', '88', '180', '259', '128', '117', '48',\n",
              "       '130', '132', '135', '152', '33', '143', '5', '157.33', '129',\n",
              "       '171', '273', '162', '131', '134', '211', '203', '190', '145',\n",
              "       '83.33', '63', '177.34', '57', '115', '166', '184', '164', '125',\n",
              "       '216', '195', '106', '214', '238', '212.88', '4', '30', '150',\n",
              "       '19', '160', '138', '141', '146', '1270', '15', '95', '19480',\n",
              "       '116', '311', '94', '21', '295', '57.33', '243', '23', '34', '215',\n",
              "       '41', '18', '110', '233', '322', '43', '232', '100', '133', '4.16',\n",
              "       '202', '700', '121', '40', '51', '179', '58', '102', '175', '97',\n",
              "       '25', '139', '120', '137', '53', '2000', '242', '49.43', '333',\n",
              "       '270', '84', '8', '165', '506', '63.98', '35', '64', '258.08',\n",
              "       '108', '187', '186', '1600', '212', '12', '209', '107', '45', '52',\n",
              "       '42', '145.83', '22', '96', '93', '122', '200', '241', '161',\n",
              "       '37.5', '119.66', '155', '299', '154', '170', '221', '303', '140',\n",
              "       '425', '172', '68', '75', '71', '44', '37', '6', '285', '67',\n",
              "       '54.16', '9', '113', '17', '192', '1010', '78', '609', '26',\n",
              "       '213.88', '16', '54', '11', '39', '144', '56', '156', '263', '92',\n",
              "       '119', '60', '76', '70', '516', '141.66', '343', '72', '126', '80',\n",
              "       '247', '193.5', '20', '114', '43.75', '73', '317', '36.02', '1290',\n",
              "       '147', '32', '10', '332.66', '43.01', '198', '332.67', '69.16',\n",
              "       '33.33', '16.67', '205', '58.33', '174', '249', '38', '66',\n",
              "       '40.55', '2', '43.71', '103', '13', '185', '111', '98', '166.66',\n",
              "       '8.33', '74', '49', '59', '89', '85', '62', '66.67', '151',\n",
              "       '225.21', '65', '86', '109', '101', '81', '24', '77', '1769',\n",
              "       '50.42', '47', '73.72', '149.5', '188.33', '257', '73.33', '269',\n",
              "       '4.17', '99', '225', '390', '40.77', '3', '194.51', '6.25',\n",
              "       '55.58', '7', '87', '90', '53.34', '1000', '275.08', '123.44',\n",
              "       '267', '183', '136', '16.66', '97.66', '39.59', '58.36', '40.78',\n",
              "       '62.5', '290', '330', '46', '36', '41.08', '5.5', '176', '1',\n",
              "       '226', '15.41', '283', '82', '91', '252', '14', '275', '29', '324',\n",
              "       '325', '87.66', '42.38', '5900', '350', '233.33', '83.34', '8333',\n",
              "       '765', '68.66', '253', '15.45', '5.25', '88.33', '1200', '60.5',\n",
              "       '31', '189', '487.88', '20.83', '328', '168.92', '14.58', '368',\n",
              "       '57.5', '61', '46.95', '750', '84.75', '34.17', '8.34', '5.41',\n",
              "       '66.66', '45.9', '337', '202.75', '149.04', '134.5', '2.08',\n",
              "       '35.83', '212.38', '10.83', '41.61', '925', '132.66', '41.66',\n",
              "       '500', '99.66', '18.75', '177', '234', '28', '104', '294', '38.55',\n",
              "       '63.33', '11.08', '210', '112.38', '5.4', '36.66', '78.65'],\n",
              "      dtype=object)"
            ]
          },
          "metadata": {},
          "execution_count": 25
        }
      ]
    },
    {
      "cell_type": "code",
      "source": [
        "df['HOA'].astype(float)"
      ],
      "metadata": {
        "colab": {
          "base_uri": "https://localhost:8080/"
        },
        "id": "SBPYrzBXgIrR",
        "outputId": "5503609c-5821-4ee9-e04b-028f72845834"
      },
      "execution_count": 26,
      "outputs": [
        {
          "output_type": "execute_result",
          "data": {
            "text/plain": [
              "0        0.0\n",
              "1        0.0\n",
              "2       -1.0\n",
              "3       -1.0\n",
              "4       55.0\n",
              "        ... \n",
              "4995    -1.0\n",
              "4996    43.0\n",
              "4997    -1.0\n",
              "4998    -1.0\n",
              "4999    -1.0\n",
              "Name: HOA, Length: 5000, dtype: float64"
            ]
          },
          "metadata": {},
          "execution_count": 26
        }
      ]
    },
    {
      "cell_type": "code",
      "source": [
        "df.isna().sum()"
      ],
      "metadata": {
        "colab": {
          "base_uri": "https://localhost:8080/"
        },
        "id": "WPlav-Wkg-hL",
        "outputId": "c2a85d48-ca11-43ea-9941-b406b6c761b6"
      },
      "execution_count": 27,
      "outputs": [
        {
          "output_type": "execute_result",
          "data": {
            "text/plain": [
              "MLS                  0\n",
              "sold_price           0\n",
              "zipcode              0\n",
              "longitude            0\n",
              "latitude             0\n",
              "lot_acres           10\n",
              "taxes                0\n",
              "year_built           0\n",
              "bedrooms             0\n",
              "bathrooms            6\n",
              "sqrt_ft             56\n",
              "garage               7\n",
              "kitchen_features     0\n",
              "fireplaces           0\n",
              "floor_covering       0\n",
              "HOA                  0\n",
              "dtype: int64"
            ]
          },
          "metadata": {},
          "execution_count": 27
        }
      ]
    },
    {
      "cell_type": "code",
      "source": [
        "df[\"sqrt_ft\"] = df.sqrt_ft.astype(float)\n",
        "df[\"bathrooms\"] = df.bathrooms.astype(float)\n",
        "df[\"garage\"] = df.garage.astype(float)"
      ],
      "metadata": {
        "id": "w6zCygwYj6tq"
      },
      "execution_count": 28,
      "outputs": []
    },
    {
      "cell_type": "code",
      "source": [
        "#col_mean = df[\"bathrooms\"].mean()"
      ],
      "metadata": {
        "id": "njgpoJtakysy"
      },
      "execution_count": 29,
      "outputs": []
    },
    {
      "cell_type": "code",
      "source": [
        "#df[\"bathrooms\"].fillna(col_mean, inplace = True)"
      ],
      "metadata": {
        "id": "zO_2p8Q-k70K"
      },
      "execution_count": 30,
      "outputs": []
    },
    {
      "cell_type": "code",
      "source": [
        "df.isna().sum()"
      ],
      "metadata": {
        "colab": {
          "base_uri": "https://localhost:8080/"
        },
        "id": "LMuCxW1_lIyT",
        "outputId": "48e9ae7a-bcaa-4cd9-bd4c-1a9dbb7626d9"
      },
      "execution_count": 31,
      "outputs": [
        {
          "output_type": "execute_result",
          "data": {
            "text/plain": [
              "MLS                  0\n",
              "sold_price           0\n",
              "zipcode              0\n",
              "longitude            0\n",
              "latitude             0\n",
              "lot_acres           10\n",
              "taxes                0\n",
              "year_built           0\n",
              "bedrooms             0\n",
              "bathrooms            6\n",
              "sqrt_ft             56\n",
              "garage               7\n",
              "kitchen_features     0\n",
              "fireplaces           0\n",
              "floor_covering       0\n",
              "HOA                  0\n",
              "dtype: int64"
            ]
          },
          "metadata": {},
          "execution_count": 31
        }
      ]
    },
    {
      "cell_type": "code",
      "source": [
        "df[\"bathrooms\"].hist(bins = 100)"
      ],
      "metadata": {
        "colab": {
          "base_uri": "https://localhost:8080/",
          "height": 282
        },
        "id": "BE5Sfv4flM7K",
        "outputId": "d19ea71f-a68e-464c-eb57-062e23479718"
      },
      "execution_count": 32,
      "outputs": [
        {
          "output_type": "execute_result",
          "data": {
            "text/plain": [
              "<matplotlib.axes._subplots.AxesSubplot at 0x7f2e1ab89050>"
            ]
          },
          "metadata": {},
          "execution_count": 32
        },
        {
          "output_type": "display_data",
          "data": {
            "text/plain": [
              "<Figure size 432x288 with 1 Axes>"
            ],
            "image/png": "[encoded data removed]"
          },
          "metadata": {
            "needs_background": "light"
          }
        }
      ]
    },
    {
      "cell_type": "code",
      "source": [
        "col_median = df[\"bathrooms\"].median()"
      ],
      "metadata": {
        "id": "N7mrUZFpmB66"
      },
      "execution_count": 33,
      "outputs": []
    },
    {
      "cell_type": "code",
      "source": [
        "df['bathrooms'].fillna(col_median, inplace=True)"
      ],
      "metadata": {
        "id": "YHZBdsA3mJaz"
      },
      "execution_count": 34,
      "outputs": []
    },
    {
      "cell_type": "code",
      "source": [
        "df.isna().sum()"
      ],
      "metadata": {
        "colab": {
          "base_uri": "https://localhost:8080/"
        },
        "id": "_AU1Ga6mmxVz",
        "outputId": "09a2af99-5ebe-4800-d2e0-807408bd7e9f"
      },
      "execution_count": 35,
      "outputs": [
        {
          "output_type": "execute_result",
          "data": {
            "text/plain": [
              "MLS                  0\n",
              "sold_price           0\n",
              "zipcode              0\n",
              "longitude            0\n",
              "latitude             0\n",
              "lot_acres           10\n",
              "taxes                0\n",
              "year_built           0\n",
              "bedrooms             0\n",
              "bathrooms            0\n",
              "sqrt_ft             56\n",
              "garage               7\n",
              "kitchen_features     0\n",
              "fireplaces           0\n",
              "floor_covering       0\n",
              "HOA                  0\n",
              "dtype: int64"
            ]
          },
          "metadata": {},
          "execution_count": 35
        }
      ]
    },
    {
      "cell_type": "code",
      "source": [
        "df[\"bathrooms\"].hist(bins = 100)"
      ],
      "metadata": {
        "colab": {
          "base_uri": "https://localhost:8080/",
          "height": 282
        },
        "id": "eMaNGj4Om0PK",
        "outputId": "6e8cdb0d-741b-4acc-b167-b68603d76641"
      },
      "execution_count": 36,
      "outputs": [
        {
          "output_type": "execute_result",
          "data": {
            "text/plain": [
              "<matplotlib.axes._subplots.AxesSubplot at 0x7f2e16826dd0>"
            ]
          },
          "metadata": {},
          "execution_count": 36
        },
        {
          "output_type": "display_data",
          "data": {
            "text/plain": [
              "<Figure size 432x288 with 1 Axes>"
            ],
            "image/png": "[encoded data removed]"
          },
          "metadata": {
            "needs_background": "light"
          }
        }
      ]
    },
    {
      "cell_type": "code",
      "source": [
        "df['bathrooms'].unique()"
      ],
      "metadata": {
        "colab": {
          "base_uri": "https://localhost:8080/"
        },
        "id": "gwd77_bdlAaF",
        "outputId": "d4fdf2cd-62ec-4989-ccc5-3b7e0ca71b5f"
      },
      "execution_count": 37,
      "outputs": [
        {
          "output_type": "execute_result",
          "data": {
            "text/plain": [
              "array([10. ,  2. ,  3. ,  5. ,  6. ,  4. ,  8. ,  7. , 15. ,  4.5,  1. ,\n",
              "        9. , 11. , 18. , 14. ,  3.5, 35. ,  2.5, 36. ])"
            ]
          },
          "metadata": {},
          "execution_count": 37
        }
      ]
    },
    {
      "cell_type": "code",
      "source": [
        "df[df['bathrooms'] == 35.]"
      ],
      "metadata": {
        "colab": {
          "base_uri": "https://localhost:8080/",
          "height": 260
        },
        "id": "FEZLmBH7md-m",
        "outputId": "26dab57b-db07-4f2a-f772-7f9dac9b2e3d"
      },
      "execution_count": 38,
      "outputs": [
        {
          "output_type": "execute_result",
          "data": {
            "text/plain": [
              "           MLS  sold_price  zipcode   longitude   latitude  lot_acres  \\\n",
              "2106   3056848    550000.0    85645 -111.047608  31.700763       50.0   \n",
              "2111   4115949    550000.0    85645 -111.047350  31.701117       50.0   \n",
              "3277  21623780    695000.0    85645 -111.047260  31.701407       50.0   \n",
              "\n",
              "         taxes  year_built  bedrooms  bathrooms  sqrt_ft  garage  \\\n",
              "2106  25113.45        1936        36       35.0      NaN     NaN   \n",
              "2111  25113.45        1936        36       35.0  22408.0     0.0   \n",
              "3277   6520.66        1936        36       35.0  21915.0     0.0   \n",
              "\n",
              "            kitchen_features fireplaces              floor_covering HOA  \n",
              "2106               Prep Sink          1  Ceramic Tile, Mexican Tile  -1  \n",
              "2111  Countertops: Stainless          1  Ceramic Tile, Mexican Tile  -1  \n",
              "3277            Refrigerator          1  Ceramic Tile, Mexican Tile   0  "
            ],
            "text/html": [
              "\n",
              "  <div id=\"df-75bd3105-572a-44b5-a72d-0b1a413ec927\">\n",
              "    <div class=\"colab-df-container\">\n",
              "      <div>\n",
              "<style scoped>\n",
              "    .dataframe tbody tr th:only-of-type {\n",
              "        vertical-align: middle;\n",
              "    }\n",
              "\n",
              "    .dataframe tbody tr th {\n",
              "        vertical-align: top;\n",
              "    }\n",
              "\n",
              "    .dataframe thead th {\n",
              "        text-align: right;\n",
              "    }\n",
              "</style>\n",
              "<table border=\"1\" class=\"dataframe\">\n",
              "  <thead>\n",
              "    <tr style=\"text-align: right;\">\n",
              "      <th></th>\n",
              "      <th>MLS</th>\n",
              "      <th>sold_price</th>\n",
              "      <th>zipcode</th>\n",
              "      <th>longitude</th>\n",
              "      <th>latitude</th>\n",
              "      <th>lot_acres</th>\n",
              "      <th>taxes</th>\n",
              "      <th>year_built</th>\n",
              "      <th>bedrooms</th>\n",
              "      <th>bathrooms</th>\n",
              "      <th>sqrt_ft</th>\n",
              "      <th>garage</th>\n",
              "      <th>kitchen_features</th>\n",
              "      <th>fireplaces</th>\n",
              "      <th>floor_covering</th>\n",
              "      <th>HOA</th>\n",
              "    </tr>\n",
              "  </thead>\n",
              "  <tbody>\n",
              "    <tr>\n",
              "      <th>2106</th>\n",
              "      <td>3056848</td>\n",
              "      <td>550000.0</td>\n",
              "      <td>85645</td>\n",
              "      <td>-111.047608</td>\n",
              "      <td>31.700763</td>\n",
              "      <td>50.0</td>\n",
              "      <td>25113.45</td>\n",
              "      <td>1936</td>\n",
              "      <td>36</td>\n",
              "      <td>35.0</td>\n",
              "      <td>NaN</td>\n",
              "      <td>NaN</td>\n",
              "      <td>Prep Sink</td>\n",
              "      <td>1</td>\n",
              "      <td>Ceramic Tile, Mexican Tile</td>\n",
              "      <td>-1</td>\n",
              "    </tr>\n",
              "    <tr>\n",
              "      <th>2111</th>\n",
              "      <td>4115949</td>\n",
              "      <td>550000.0</td>\n",
              "      <td>85645</td>\n",
              "      <td>-111.047350</td>\n",
              "      <td>31.701117</td>\n",
              "      <td>50.0</td>\n",
              "      <td>25113.45</td>\n",
              "      <td>1936</td>\n",
              "      <td>36</td>\n",
              "      <td>35.0</td>\n",
              "      <td>22408.0</td>\n",
              "      <td>0.0</td>\n",
              "      <td>Countertops: Stainless</td>\n",
              "      <td>1</td>\n",
              "      <td>Ceramic Tile, Mexican Tile</td>\n",
              "      <td>-1</td>\n",
              "    </tr>\n",
              "    <tr>\n",
              "      <th>3277</th>\n",
              "      <td>21623780</td>\n",
              "      <td>695000.0</td>\n",
              "      <td>85645</td>\n",
              "      <td>-111.047260</td>\n",
              "      <td>31.701407</td>\n",
              "      <td>50.0</td>\n",
              "      <td>6520.66</td>\n",
              "      <td>1936</td>\n",
              "      <td>36</td>\n",
              "      <td>35.0</td>\n",
              "      <td>21915.0</td>\n",
              "      <td>0.0</td>\n",
              "      <td>Refrigerator</td>\n",
              "      <td>1</td>\n",
              "      <td>Ceramic Tile, Mexican Tile</td>\n",
              "      <td>0</td>\n",
              "    </tr>\n",
              "  </tbody>\n",
              "</table>\n",
              "</div>\n",
              "      <button class=\"colab-df-convert\" onclick=\"convertToInteractive('df-75bd3105-572a-44b5-a72d-0b1a413ec927')\"\n",
              "              title=\"Convert this dataframe to an interactive table.\"\n",
              "              style=\"display:none;\">\n",
              "        \n",
              "  <svg xmlns=\"http://www.w3.org/2000/svg\" height=\"24px\"viewBox=\"0 0 24 24\"\n",
              "       width=\"24px\">\n",
              "    <path d=\"M0 0h24v24H0V0z\" fill=\"none\"/>\n",
              "    <path d=\"M18.56 5.44l.94 2.06.94-2.06 2.06-.94-2.06-.94-.94-2.06-.94 2.06-2.06.94zm-11 1L8.5 8.5l.94-2.06 2.06-.94-2.06-.94L8.5 2.5l-.94 2.06-2.06.94zm10 10l.94 2.06.94-2.06 2.06-.94-2.06-.94-.94-2.06-.94 2.06-2.06.94z\"/><path d=\"M17.41 7.96l-1.37-1.37c-.4-.4-.92-.59-1.43-.59-.52 0-1.04.2-1.43.59L10.3 9.45l-7.72 7.72c-.78.78-.78 2.05 0 2.83L4 21.41c.39.39.9.59 1.41.59.51 0 1.02-.2 1.41-.59l7.78-7.78 2.81-2.81c.8-.78.8-2.07 0-2.86zM5.41 20L4 18.59l7.72-7.72 1.47 1.35L5.41 20z\"/>\n",
              "  </svg>\n",
              "      </button>\n",
              "      \n",
              "  <style>\n",
              "    .colab-df-container {\n",
              "      display:flex;\n",
              "      flex-wrap:wrap;\n",
              "      gap: 12px;\n",
              "    }\n",
              "\n",
              "    .colab-df-convert {\n",
              "      background-color: #E8F0FE;\n",
              "      border: none;\n",
              "      border-radius: 50%;\n",
              "      cursor: pointer;\n",
              "      display: none;\n",
              "      fill: #1967D2;\n",
              "      height: 32px;\n",
              "      padding: 0 0 0 0;\n",
              "      width: 32px;\n",
              "    }\n",
              "\n",
              "    .colab-df-convert:hover {\n",
              "      background-color: #E2EBFA;\n",
              "      box-shadow: 0px 1px 2px rgba(60, 64, 67, 0.3), 0px 1px 3px 1px rgba(60, 64, 67, 0.15);\n",
              "      fill: #174EA6;\n",
              "    }\n",
              "\n",
              "    [theme=dark] .colab-df-convert {\n",
              "      background-color: #3B4455;\n",
              "      fill: #D2E3FC;\n",
              "    }\n",
              "\n",
              "    [theme=dark] .colab-df-convert:hover {\n",
              "      background-color: #434B5C;\n",
              "      box-shadow: 0px 1px 3px 1px rgba(0, 0, 0, 0.15);\n",
              "      filter: drop-shadow(0px 1px 2px rgba(0, 0, 0, 0.3));\n",
              "      fill: #FFFFFF;\n",
              "    }\n",
              "  </style>\n",
              "\n",
              "      <script>\n",
              "        const buttonEl =\n",
              "          document.querySelector('#df-75bd3105-572a-44b5-a72d-0b1a413ec927 button.colab-df-convert');\n",
              "        buttonEl.style.display =\n",
              "          google.colab.kernel.accessAllowed ? 'block' : 'none';\n",
              "\n",
              "        async function convertToInteractive(key) {\n",
              "          const element = document.querySelector('#df-75bd3105-572a-44b5-a72d-0b1a413ec927');\n",
              "          const dataTable =\n",
              "            await google.colab.kernel.invokeFunction('convertToInteractive',\n",
              "                                                     [key], {});\n",
              "          if (!dataTable) return;\n",
              "\n",
              "          const docLinkHtml = 'Like what you see? Visit the ' +\n",
              "            '<a target=\"_blank\" href=https://colab.research.google.com/notebooks/data_table.ipynb>data table notebook</a>'\n",
              "            + ' to learn more about interactive tables.';\n",
              "          element.innerHTML = '';\n",
              "          dataTable['output_type'] = 'display_data';\n",
              "          await google.colab.output.renderOutput(dataTable, element);\n",
              "          const docLink = document.createElement('div');\n",
              "          docLink.innerHTML = docLinkHtml;\n",
              "          element.appendChild(docLink);\n",
              "        }\n",
              "      </script>\n",
              "    </div>\n",
              "  </div>\n",
              "  "
            ]
          },
          "metadata": {},
          "execution_count": 38
        }
      ]
    },
    {
      "cell_type": "code",
      "source": [
        "df[df['bathrooms'] == 36.]"
      ],
      "metadata": {
        "colab": {
          "base_uri": "https://localhost:8080/",
          "height": 197
        },
        "id": "nsCjLkRwnysR",
        "outputId": "937ff0ff-8de8-4dbc-9f01-c1f6faf19b54"
      },
      "execution_count": 39,
      "outputs": [
        {
          "output_type": "execute_result",
          "data": {
            "text/plain": [
              "           MLS  sold_price  zipcode   longitude   latitude  lot_acres  taxes  \\\n",
              "4663  21832887    575359.5    85641 -110.687945  32.081978       1.07  625.0   \n",
              "\n",
              "      year_built  bedrooms  bathrooms  sqrt_ft  garage  \\\n",
              "4663        2019         5       36.0   3720.0     3.0   \n",
              "\n",
              "                                       kitchen_features fireplaces  \\\n",
              "4663  Dishwasher, Double Sink, Garbage Disposal, Gas...          1   \n",
              "\n",
              "            floor_covering HOA  \n",
              "4663  Carpet, Ceramic Tile  -1  "
            ],
            "text/html": [
              "\n",
              "  <div id=\"df-e6d91802-f01d-4f06-a64b-1b3506ee5951\">\n",
              "    <div class=\"colab-df-container\">\n",
              "      <div>\n",
              "<style scoped>\n",
              "    .dataframe tbody tr th:only-of-type {\n",
              "        vertical-align: middle;\n",
              "    }\n",
              "\n",
              "    .dataframe tbody tr th {\n",
              "        vertical-align: top;\n",
              "    }\n",
              "\n",
              "    .dataframe thead th {\n",
              "        text-align: right;\n",
              "    }\n",
              "</style>\n",
              "<table border=\"1\" class=\"dataframe\">\n",
              "  <thead>\n",
              "    <tr style=\"text-align: right;\">\n",
              "      <th></th>\n",
              "      <th>MLS</th>\n",
              "      <th>sold_price</th>\n",
              "      <th>zipcode</th>\n",
              "      <th>longitude</th>\n",
              "      <th>latitude</th>\n",
              "      <th>lot_acres</th>\n",
              "      <th>taxes</th>\n",
              "      <th>year_built</th>\n",
              "      <th>bedrooms</th>\n",
              "      <th>bathrooms</th>\n",
              "      <th>sqrt_ft</th>\n",
              "      <th>garage</th>\n",
              "      <th>kitchen_features</th>\n",
              "      <th>fireplaces</th>\n",
              "      <th>floor_covering</th>\n",
              "      <th>HOA</th>\n",
              "    </tr>\n",
              "  </thead>\n",
              "  <tbody>\n",
              "    <tr>\n",
              "      <th>4663</th>\n",
              "      <td>21832887</td>\n",
              "      <td>575359.5</td>\n",
              "      <td>85641</td>\n",
              "      <td>-110.687945</td>\n",
              "      <td>32.081978</td>\n",
              "      <td>1.07</td>\n",
              "      <td>625.0</td>\n",
              "      <td>2019</td>\n",
              "      <td>5</td>\n",
              "      <td>36.0</td>\n",
              "      <td>3720.0</td>\n",
              "      <td>3.0</td>\n",
              "      <td>Dishwasher, Double Sink, Garbage Disposal, Gas...</td>\n",
              "      <td>1</td>\n",
              "      <td>Carpet, Ceramic Tile</td>\n",
              "      <td>-1</td>\n",
              "    </tr>\n",
              "  </tbody>\n",
              "</table>\n",
              "</div>\n",
              "      <button class=\"colab-df-convert\" onclick=\"convertToInteractive('df-e6d91802-f01d-4f06-a64b-1b3506ee5951')\"\n",
              "              title=\"Convert this dataframe to an interactive table.\"\n",
              "              style=\"display:none;\">\n",
              "        \n",
              "  <svg xmlns=\"http://www.w3.org/2000/svg\" height=\"24px\"viewBox=\"0 0 24 24\"\n",
              "       width=\"24px\">\n",
              "    <path d=\"M0 0h24v24H0V0z\" fill=\"none\"/>\n",
              "    <path d=\"M18.56 5.44l.94 2.06.94-2.06 2.06-.94-2.06-.94-.94-2.06-.94 2.06-2.06.94zm-11 1L8.5 8.5l.94-2.06 2.06-.94-2.06-.94L8.5 2.5l-.94 2.06-2.06.94zm10 10l.94 2.06.94-2.06 2.06-.94-2.06-.94-.94-2.06-.94 2.06-2.06.94z\"/><path d=\"M17.41 7.96l-1.37-1.37c-.4-.4-.92-.59-1.43-.59-.52 0-1.04.2-1.43.59L10.3 9.45l-7.72 7.72c-.78.78-.78 2.05 0 2.83L4 21.41c.39.39.9.59 1.41.59.51 0 1.02-.2 1.41-.59l7.78-7.78 2.81-2.81c.8-.78.8-2.07 0-2.86zM5.41 20L4 18.59l7.72-7.72 1.47 1.35L5.41 20z\"/>\n",
              "  </svg>\n",
              "      </button>\n",
              "      \n",
              "  <style>\n",
              "    .colab-df-container {\n",
              "      display:flex;\n",
              "      flex-wrap:wrap;\n",
              "      gap: 12px;\n",
              "    }\n",
              "\n",
              "    .colab-df-convert {\n",
              "      background-color: #E8F0FE;\n",
              "      border: none;\n",
              "      border-radius: 50%;\n",
              "      cursor: pointer;\n",
              "      display: none;\n",
              "      fill: #1967D2;\n",
              "      height: 32px;\n",
              "      padding: 0 0 0 0;\n",
              "      width: 32px;\n",
              "    }\n",
              "\n",
              "    .colab-df-convert:hover {\n",
              "      background-color: #E2EBFA;\n",
              "      box-shadow: 0px 1px 2px rgba(60, 64, 67, 0.3), 0px 1px 3px 1px rgba(60, 64, 67, 0.15);\n",
              "      fill: #174EA6;\n",
              "    }\n",
              "\n",
              "    [theme=dark] .colab-df-convert {\n",
              "      background-color: #3B4455;\n",
              "      fill: #D2E3FC;\n",
              "    }\n",
              "\n",
              "    [theme=dark] .colab-df-convert:hover {\n",
              "      background-color: #434B5C;\n",
              "      box-shadow: 0px 1px 3px 1px rgba(0, 0, 0, 0.15);\n",
              "      filter: drop-shadow(0px 1px 2px rgba(0, 0, 0, 0.3));\n",
              "      fill: #FFFFFF;\n",
              "    }\n",
              "  </style>\n",
              "\n",
              "      <script>\n",
              "        const buttonEl =\n",
              "          document.querySelector('#df-e6d91802-f01d-4f06-a64b-1b3506ee5951 button.colab-df-convert');\n",
              "        buttonEl.style.display =\n",
              "          google.colab.kernel.accessAllowed ? 'block' : 'none';\n",
              "\n",
              "        async function convertToInteractive(key) {\n",
              "          const element = document.querySelector('#df-e6d91802-f01d-4f06-a64b-1b3506ee5951');\n",
              "          const dataTable =\n",
              "            await google.colab.kernel.invokeFunction('convertToInteractive',\n",
              "                                                     [key], {});\n",
              "          if (!dataTable) return;\n",
              "\n",
              "          const docLinkHtml = 'Like what you see? Visit the ' +\n",
              "            '<a target=\"_blank\" href=https://colab.research.google.com/notebooks/data_table.ipynb>data table notebook</a>'\n",
              "            + ' to learn more about interactive tables.';\n",
              "          element.innerHTML = '';\n",
              "          dataTable['output_type'] = 'display_data';\n",
              "          await google.colab.output.renderOutput(dataTable, element);\n",
              "          const docLink = document.createElement('div');\n",
              "          docLink.innerHTML = docLinkHtml;\n",
              "          element.appendChild(docLink);\n",
              "        }\n",
              "      </script>\n",
              "    </div>\n",
              "  </div>\n",
              "  "
            ]
          },
          "metadata": {},
          "execution_count": 39
        }
      ]
    },
    {
      "cell_type": "code",
      "source": [
        "df = df.drop(df.index[[2106, 2111, 3277, 4663]], axis= 0)"
      ],
      "metadata": {
        "id": "Pj8i002guQ_q"
      },
      "execution_count": 40,
      "outputs": []
    },
    {
      "cell_type": "code",
      "source": [
        "df.head()"
      ],
      "metadata": {
        "colab": {
          "base_uri": "https://localhost:8080/",
          "height": 444
        },
        "id": "vHp-UwikuWXy",
        "outputId": "1e205310-94f4-41af-8633-eafe40c9def9"
      },
      "execution_count": 41,
      "outputs": [
        {
          "output_type": "execute_result",
          "data": {
            "text/plain": [
              "        MLS  sold_price  zipcode   longitude   latitude  lot_acres     taxes  \\\n",
              "0  21530491   5300000.0    85637 -110.378200  31.356362    2154.00   5272.00   \n",
              "1  21529082   4200000.0    85646 -111.045371  31.594213    1707.00  10422.36   \n",
              "2   3054672   4200000.0    85646 -111.040707  31.594844    1707.00  10482.00   \n",
              "3  21919321   4500000.0    85646 -111.035925  31.645878     636.67   8418.58   \n",
              "4  21306357   3411450.0    85750 -110.813768  32.285162       3.21  15393.00   \n",
              "\n",
              "   year_built  bedrooms  bathrooms  sqrt_ft  garage  \\\n",
              "0        1941        13       10.0  10500.0     0.0   \n",
              "1        1997         2        2.0   7300.0     0.0   \n",
              "2        1997         2        3.0      NaN     NaN   \n",
              "3        1930         7        5.0   9019.0     4.0   \n",
              "4        1995         4        6.0   6396.0     3.0   \n",
              "\n",
              "                                    kitchen_features fireplaces  \\\n",
              "0            Dishwasher, Freezer, Refrigerator, Oven          6   \n",
              "1                       Dishwasher, Garbage Disposal          5   \n",
              "2         Dishwasher, Garbage Disposal, Refrigerator          5   \n",
              "3  Dishwasher, Double Sink, Pantry: Butler, Refri...          4   \n",
              "4  Dishwasher, Garbage Disposal, Refrigerator, Mi...          5   \n",
              "\n",
              "                 floor_covering HOA  \n",
              "0            Mexican Tile, Wood   0  \n",
              "1          Natural Stone, Other   0  \n",
              "2    Natural Stone, Other: Rock  -1  \n",
              "3  Ceramic Tile, Laminate, Wood  -1  \n",
              "4              Carpet, Concrete  55  "
            ],
            "text/html": [
              "\n",
              "  <div id=\"df-44b0bfe6-ac14-4abe-abbb-62e05234b23e\">\n",
              "    <div class=\"colab-df-container\">\n",
              "      <div>\n",
              "<style scoped>\n",
              "    .dataframe tbody tr th:only-of-type {\n",
              "        vertical-align: middle;\n",
              "    }\n",
              "\n",
              "    .dataframe tbody tr th {\n",
              "        vertical-align: top;\n",
              "    }\n",
              "\n",
              "    .dataframe thead th {\n",
              "        text-align: right;\n",
              "    }\n",
              "</style>\n",
              "<table border=\"1\" class=\"dataframe\">\n",
              "  <thead>\n",
              "    <tr style=\"text-align: right;\">\n",
              "      <th></th>\n",
              "      <th>MLS</th>\n",
              "      <th>sold_price</th>\n",
              "      <th>zipcode</th>\n",
              "      <th>longitude</th>\n",
              "      <th>latitude</th>\n",
              "      <th>lot_acres</th>\n",
              "      <th>taxes</th>\n",
              "      <th>year_built</th>\n",
              "      <th>bedrooms</th>\n",
              "      <th>bathrooms</th>\n",
              "      <th>sqrt_ft</th>\n",
              "      <th>garage</th>\n",
              "      <th>kitchen_features</th>\n",
              "      <th>fireplaces</th>\n",
              "      <th>floor_covering</th>\n",
              "      <th>HOA</th>\n",
              "    </tr>\n",
              "  </thead>\n",
              "  <tbody>\n",
              "    <tr>\n",
              "      <th>0</th>\n",
              "      <td>21530491</td>\n",
              "      <td>5300000.0</td>\n",
              "      <td>85637</td>\n",
              "      <td>-110.378200</td>\n",
              "      <td>31.356362</td>\n",
              "      <td>2154.00</td>\n",
              "      <td>5272.00</td>\n",
              "      <td>1941</td>\n",
              "      <td>13</td>\n",
              "      <td>10.0</td>\n",
              "      <td>10500.0</td>\n",
              "      <td>0.0</td>\n",
              "      <td>Dishwasher, Freezer, Refrigerator, Oven</td>\n",
              "      <td>6</td>\n",
              "      <td>Mexican Tile, Wood</td>\n",
              "      <td>0</td>\n",
              "    </tr>\n",
              "    <tr>\n",
              "      <th>1</th>\n",
              "      <td>21529082</td>\n",
              "      <td>4200000.0</td>\n",
              "      <td>85646</td>\n",
              "      <td>-111.045371</td>\n",
              "      <td>31.594213</td>\n",
              "      <td>1707.00</td>\n",
              "      <td>10422.36</td>\n",
              "      <td>1997</td>\n",
              "      <td>2</td>\n",
              "      <td>2.0</td>\n",
              "      <td>7300.0</td>\n",
              "      <td>0.0</td>\n",
              "      <td>Dishwasher, Garbage Disposal</td>\n",
              "      <td>5</td>\n",
              "      <td>Natural Stone, Other</td>\n",
              "      <td>0</td>\n",
              "    </tr>\n",
              "    <tr>\n",
              "      <th>2</th>\n",
              "      <td>3054672</td>\n",
              "      <td>4200000.0</td>\n",
              "      <td>85646</td>\n",
              "      <td>-111.040707</td>\n",
              "      <td>31.594844</td>\n",
              "      <td>1707.00</td>\n",
              "      <td>10482.00</td>\n",
              "      <td>1997</td>\n",
              "      <td>2</td>\n",
              "      <td>3.0</td>\n",
              "      <td>NaN</td>\n",
              "      <td>NaN</td>\n",
              "      <td>Dishwasher, Garbage Disposal, Refrigerator</td>\n",
              "      <td>5</td>\n",
              "      <td>Natural Stone, Other: Rock</td>\n",
              "      <td>-1</td>\n",
              "    </tr>\n",
              "    <tr>\n",
              "      <th>3</th>\n",
              "      <td>21919321</td>\n",
              "      <td>4500000.0</td>\n",
              "      <td>85646</td>\n",
              "      <td>-111.035925</td>\n",
              "      <td>31.645878</td>\n",
              "      <td>636.67</td>\n",
              "      <td>8418.58</td>\n",
              "      <td>1930</td>\n",
              "      <td>7</td>\n",
              "      <td>5.0</td>\n",
              "      <td>9019.0</td>\n",
              "      <td>4.0</td>\n",
              "      <td>Dishwasher, Double Sink, Pantry: Butler, Refri...</td>\n",
              "      <td>4</td>\n",
              "      <td>Ceramic Tile, Laminate, Wood</td>\n",
              "      <td>-1</td>\n",
              "    </tr>\n",
              "    <tr>\n",
              "      <th>4</th>\n",
              "      <td>21306357</td>\n",
              "      <td>3411450.0</td>\n",
              "      <td>85750</td>\n",
              "      <td>-110.813768</td>\n",
              "      <td>32.285162</td>\n",
              "      <td>3.21</td>\n",
              "      <td>15393.00</td>\n",
              "      <td>1995</td>\n",
              "      <td>4</td>\n",
              "      <td>6.0</td>\n",
              "      <td>6396.0</td>\n",
              "      <td>3.0</td>\n",
              "      <td>Dishwasher, Garbage Disposal, Refrigerator, Mi...</td>\n",
              "      <td>5</td>\n",
              "      <td>Carpet, Concrete</td>\n",
              "      <td>55</td>\n",
              "    </tr>\n",
              "  </tbody>\n",
              "</table>\n",
              "</div>\n",
              "      <button class=\"colab-df-convert\" onclick=\"convertToInteractive('df-44b0bfe6-ac14-4abe-abbb-62e05234b23e')\"\n",
              "              title=\"Convert this dataframe to an interactive table.\"\n",
              "              style=\"display:none;\">\n",
              "        \n",
              "  <svg xmlns=\"http://www.w3.org/2000/svg\" height=\"24px\"viewBox=\"0 0 24 24\"\n",
              "       width=\"24px\">\n",
              "    <path d=\"M0 0h24v24H0V0z\" fill=\"none\"/>\n",
              "    <path d=\"M18.56 5.44l.94 2.06.94-2.06 2.06-.94-2.06-.94-.94-2.06-.94 2.06-2.06.94zm-11 1L8.5 8.5l.94-2.06 2.06-.94-2.06-.94L8.5 2.5l-.94 2.06-2.06.94zm10 10l.94 2.06.94-2.06 2.06-.94-2.06-.94-.94-2.06-.94 2.06-2.06.94z\"/><path d=\"M17.41 7.96l-1.37-1.37c-.4-.4-.92-.59-1.43-.59-.52 0-1.04.2-1.43.59L10.3 9.45l-7.72 7.72c-.78.78-.78 2.05 0 2.83L4 21.41c.39.39.9.59 1.41.59.51 0 1.02-.2 1.41-.59l7.78-7.78 2.81-2.81c.8-.78.8-2.07 0-2.86zM5.41 20L4 18.59l7.72-7.72 1.47 1.35L5.41 20z\"/>\n",
              "  </svg>\n",
              "      </button>\n",
              "      \n",
              "  <style>\n",
              "    .colab-df-container {\n",
              "      display:flex;\n",
              "      flex-wrap:wrap;\n",
              "      gap: 12px;\n",
              "    }\n",
              "\n",
              "    .colab-df-convert {\n",
              "      background-color: #E8F0FE;\n",
              "      border: none;\n",
              "      border-radius: 50%;\n",
              "      cursor: pointer;\n",
              "      display: none;\n",
              "      fill: #1967D2;\n",
              "      height: 32px;\n",
              "      padding: 0 0 0 0;\n",
              "      width: 32px;\n",
              "    }\n",
              "\n",
              "    .colab-df-convert:hover {\n",
              "      background-color: #E2EBFA;\n",
              "      box-shadow: 0px 1px 2px rgba(60, 64, 67, 0.3), 0px 1px 3px 1px rgba(60, 64, 67, 0.15);\n",
              "      fill: #174EA6;\n",
              "    }\n",
              "\n",
              "    [theme=dark] .colab-df-convert {\n",
              "      background-color: #3B4455;\n",
              "      fill: #D2E3FC;\n",
              "    }\n",
              "\n",
              "    [theme=dark] .colab-df-convert:hover {\n",
              "      background-color: #434B5C;\n",
              "      box-shadow: 0px 1px 3px 1px rgba(0, 0, 0, 0.15);\n",
              "      filter: drop-shadow(0px 1px 2px rgba(0, 0, 0, 0.3));\n",
              "      fill: #FFFFFF;\n",
              "    }\n",
              "  </style>\n",
              "\n",
              "      <script>\n",
              "        const buttonEl =\n",
              "          document.querySelector('#df-44b0bfe6-ac14-4abe-abbb-62e05234b23e button.colab-df-convert');\n",
              "        buttonEl.style.display =\n",
              "          google.colab.kernel.accessAllowed ? 'block' : 'none';\n",
              "\n",
              "        async function convertToInteractive(key) {\n",
              "          const element = document.querySelector('#df-44b0bfe6-ac14-4abe-abbb-62e05234b23e');\n",
              "          const dataTable =\n",
              "            await google.colab.kernel.invokeFunction('convertToInteractive',\n",
              "                                                     [key], {});\n",
              "          if (!dataTable) return;\n",
              "\n",
              "          const docLinkHtml = 'Like what you see? Visit the ' +\n",
              "            '<a target=\"_blank\" href=https://colab.research.google.com/notebooks/data_table.ipynb>data table notebook</a>'\n",
              "            + ' to learn more about interactive tables.';\n",
              "          element.innerHTML = '';\n",
              "          dataTable['output_type'] = 'display_data';\n",
              "          await google.colab.output.renderOutput(dataTable, element);\n",
              "          const docLink = document.createElement('div');\n",
              "          docLink.innerHTML = docLinkHtml;\n",
              "          element.appendChild(docLink);\n",
              "        }\n",
              "      </script>\n",
              "    </div>\n",
              "  </div>\n",
              "  "
            ]
          },
          "metadata": {},
          "execution_count": 41
        }
      ]
    },
    {
      "cell_type": "code",
      "source": [
        "df[df['bathrooms'] == 36.]"
      ],
      "metadata": {
        "colab": {
          "base_uri": "https://localhost:8080/",
          "height": 113
        },
        "id": "rkcg8FqOuZ2J",
        "outputId": "ff568eb9-99dd-4741-8338-78fa959eb5cf"
      },
      "execution_count": 42,
      "outputs": [
        {
          "output_type": "execute_result",
          "data": {
            "text/plain": [
              "Empty DataFrame\n",
              "Columns: [MLS, sold_price, zipcode, longitude, latitude, lot_acres, taxes, year_built, bedrooms, bathrooms, sqrt_ft, garage, kitchen_features, fireplaces, floor_covering, HOA]\n",
              "Index: []"
            ],
            "text/html": [
              "\n",
              "  <div id=\"df-d6c79254-4036-45ec-9773-47a1714435af\">\n",
              "    <div class=\"colab-df-container\">\n",
              "      <div>\n",
              "<style scoped>\n",
              "    .dataframe tbody tr th:only-of-type {\n",
              "        vertical-align: middle;\n",
              "    }\n",
              "\n",
              "    .dataframe tbody tr th {\n",
              "        vertical-align: top;\n",
              "    }\n",
              "\n",
              "    .dataframe thead th {\n",
              "        text-align: right;\n",
              "    }\n",
              "</style>\n",
              "<table border=\"1\" class=\"dataframe\">\n",
              "  <thead>\n",
              "    <tr style=\"text-align: right;\">\n",
              "      <th></th>\n",
              "      <th>MLS</th>\n",
              "      <th>sold_price</th>\n",
              "      <th>zipcode</th>\n",
              "      <th>longitude</th>\n",
              "      <th>latitude</th>\n",
              "      <th>lot_acres</th>\n",
              "      <th>taxes</th>\n",
              "      <th>year_built</th>\n",
              "      <th>bedrooms</th>\n",
              "      <th>bathrooms</th>\n",
              "      <th>sqrt_ft</th>\n",
              "      <th>garage</th>\n",
              "      <th>kitchen_features</th>\n",
              "      <th>fireplaces</th>\n",
              "      <th>floor_covering</th>\n",
              "      <th>HOA</th>\n",
              "    </tr>\n",
              "  </thead>\n",
              "  <tbody>\n",
              "  </tbody>\n",
              "</table>\n",
              "</div>\n",
              "      <button class=\"colab-df-convert\" onclick=\"convertToInteractive('df-d6c79254-4036-45ec-9773-47a1714435af')\"\n",
              "              title=\"Convert this dataframe to an interactive table.\"\n",
              "              style=\"display:none;\">\n",
              "        \n",
              "  <svg xmlns=\"http://www.w3.org/2000/svg\" height=\"24px\"viewBox=\"0 0 24 24\"\n",
              "       width=\"24px\">\n",
              "    <path d=\"M0 0h24v24H0V0z\" fill=\"none\"/>\n",
              "    <path d=\"M18.56 5.44l.94 2.06.94-2.06 2.06-.94-2.06-.94-.94-2.06-.94 2.06-2.06.94zm-11 1L8.5 8.5l.94-2.06 2.06-.94-2.06-.94L8.5 2.5l-.94 2.06-2.06.94zm10 10l.94 2.06.94-2.06 2.06-.94-2.06-.94-.94-2.06-.94 2.06-2.06.94z\"/><path d=\"M17.41 7.96l-1.37-1.37c-.4-.4-.92-.59-1.43-.59-.52 0-1.04.2-1.43.59L10.3 9.45l-7.72 7.72c-.78.78-.78 2.05 0 2.83L4 21.41c.39.39.9.59 1.41.59.51 0 1.02-.2 1.41-.59l7.78-7.78 2.81-2.81c.8-.78.8-2.07 0-2.86zM5.41 20L4 18.59l7.72-7.72 1.47 1.35L5.41 20z\"/>\n",
              "  </svg>\n",
              "      </button>\n",
              "      \n",
              "  <style>\n",
              "    .colab-df-container {\n",
              "      display:flex;\n",
              "      flex-wrap:wrap;\n",
              "      gap: 12px;\n",
              "    }\n",
              "\n",
              "    .colab-df-convert {\n",
              "      background-color: #E8F0FE;\n",
              "      border: none;\n",
              "      border-radius: 50%;\n",
              "      cursor: pointer;\n",
              "      display: none;\n",
              "      fill: #1967D2;\n",
              "      height: 32px;\n",
              "      padding: 0 0 0 0;\n",
              "      width: 32px;\n",
              "    }\n",
              "\n",
              "    .colab-df-convert:hover {\n",
              "      background-color: #E2EBFA;\n",
              "      box-shadow: 0px 1px 2px rgba(60, 64, 67, 0.3), 0px 1px 3px 1px rgba(60, 64, 67, 0.15);\n",
              "      fill: #174EA6;\n",
              "    }\n",
              "\n",
              "    [theme=dark] .colab-df-convert {\n",
              "      background-color: #3B4455;\n",
              "      fill: #D2E3FC;\n",
              "    }\n",
              "\n",
              "    [theme=dark] .colab-df-convert:hover {\n",
              "      background-color: #434B5C;\n",
              "      box-shadow: 0px 1px 3px 1px rgba(0, 0, 0, 0.15);\n",
              "      filter: drop-shadow(0px 1px 2px rgba(0, 0, 0, 0.3));\n",
              "      fill: #FFFFFF;\n",
              "    }\n",
              "  </style>\n",
              "\n",
              "      <script>\n",
              "        const buttonEl =\n",
              "          document.querySelector('#df-d6c79254-4036-45ec-9773-47a1714435af button.colab-df-convert');\n",
              "        buttonEl.style.display =\n",
              "          google.colab.kernel.accessAllowed ? 'block' : 'none';\n",
              "\n",
              "        async function convertToInteractive(key) {\n",
              "          const element = document.querySelector('#df-d6c79254-4036-45ec-9773-47a1714435af');\n",
              "          const dataTable =\n",
              "            await google.colab.kernel.invokeFunction('convertToInteractive',\n",
              "                                                     [key], {});\n",
              "          if (!dataTable) return;\n",
              "\n",
              "          const docLinkHtml = 'Like what you see? Visit the ' +\n",
              "            '<a target=\"_blank\" href=https://colab.research.google.com/notebooks/data_table.ipynb>data table notebook</a>'\n",
              "            + ' to learn more about interactive tables.';\n",
              "          element.innerHTML = '';\n",
              "          dataTable['output_type'] = 'display_data';\n",
              "          await google.colab.output.renderOutput(dataTable, element);\n",
              "          const docLink = document.createElement('div');\n",
              "          docLink.innerHTML = docLinkHtml;\n",
              "          element.appendChild(docLink);\n",
              "        }\n",
              "      </script>\n",
              "    </div>\n",
              "  </div>\n",
              "  "
            ]
          },
          "metadata": {},
          "execution_count": 42
        }
      ]
    },
    {
      "cell_type": "code",
      "source": [
        "df[df['bathrooms'] == 35.]"
      ],
      "metadata": {
        "colab": {
          "base_uri": "https://localhost:8080/",
          "height": 113
        },
        "id": "C37T1KhUu5Oc",
        "outputId": "69b1b454-8aac-4b0a-bacb-fc33c25c3fa0"
      },
      "execution_count": 43,
      "outputs": [
        {
          "output_type": "execute_result",
          "data": {
            "text/plain": [
              "Empty DataFrame\n",
              "Columns: [MLS, sold_price, zipcode, longitude, latitude, lot_acres, taxes, year_built, bedrooms, bathrooms, sqrt_ft, garage, kitchen_features, fireplaces, floor_covering, HOA]\n",
              "Index: []"
            ],
            "text/html": [
              "\n",
              "  <div id=\"df-40031162-5fb5-4dda-8c1f-f98e10919d9c\">\n",
              "    <div class=\"colab-df-container\">\n",
              "      <div>\n",
              "<style scoped>\n",
              "    .dataframe tbody tr th:only-of-type {\n",
              "        vertical-align: middle;\n",
              "    }\n",
              "\n",
              "    .dataframe tbody tr th {\n",
              "        vertical-align: top;\n",
              "    }\n",
              "\n",
              "    .dataframe thead th {\n",
              "        text-align: right;\n",
              "    }\n",
              "</style>\n",
              "<table border=\"1\" class=\"dataframe\">\n",
              "  <thead>\n",
              "    <tr style=\"text-align: right;\">\n",
              "      <th></th>\n",
              "      <th>MLS</th>\n",
              "      <th>sold_price</th>\n",
              "      <th>zipcode</th>\n",
              "      <th>longitude</th>\n",
              "      <th>latitude</th>\n",
              "      <th>lot_acres</th>\n",
              "      <th>taxes</th>\n",
              "      <th>year_built</th>\n",
              "      <th>bedrooms</th>\n",
              "      <th>bathrooms</th>\n",
              "      <th>sqrt_ft</th>\n",
              "      <th>garage</th>\n",
              "      <th>kitchen_features</th>\n",
              "      <th>fireplaces</th>\n",
              "      <th>floor_covering</th>\n",
              "      <th>HOA</th>\n",
              "    </tr>\n",
              "  </thead>\n",
              "  <tbody>\n",
              "  </tbody>\n",
              "</table>\n",
              "</div>\n",
              "      <button class=\"colab-df-convert\" onclick=\"convertToInteractive('df-40031162-5fb5-4dda-8c1f-f98e10919d9c')\"\n",
              "              title=\"Convert this dataframe to an interactive table.\"\n",
              "              style=\"display:none;\">\n",
              "        \n",
              "  <svg xmlns=\"http://www.w3.org/2000/svg\" height=\"24px\"viewBox=\"0 0 24 24\"\n",
              "       width=\"24px\">\n",
              "    <path d=\"M0 0h24v24H0V0z\" fill=\"none\"/>\n",
              "    <path d=\"M18.56 5.44l.94 2.06.94-2.06 2.06-.94-2.06-.94-.94-2.06-.94 2.06-2.06.94zm-11 1L8.5 8.5l.94-2.06 2.06-.94-2.06-.94L8.5 2.5l-.94 2.06-2.06.94zm10 10l.94 2.06.94-2.06 2.06-.94-2.06-.94-.94-2.06-.94 2.06-2.06.94z\"/><path d=\"M17.41 7.96l-1.37-1.37c-.4-.4-.92-.59-1.43-.59-.52 0-1.04.2-1.43.59L10.3 9.45l-7.72 7.72c-.78.78-.78 2.05 0 2.83L4 21.41c.39.39.9.59 1.41.59.51 0 1.02-.2 1.41-.59l7.78-7.78 2.81-2.81c.8-.78.8-2.07 0-2.86zM5.41 20L4 18.59l7.72-7.72 1.47 1.35L5.41 20z\"/>\n",
              "  </svg>\n",
              "      </button>\n",
              "      \n",
              "  <style>\n",
              "    .colab-df-container {\n",
              "      display:flex;\n",
              "      flex-wrap:wrap;\n",
              "      gap: 12px;\n",
              "    }\n",
              "\n",
              "    .colab-df-convert {\n",
              "      background-color: #E8F0FE;\n",
              "      border: none;\n",
              "      border-radius: 50%;\n",
              "      cursor: pointer;\n",
              "      display: none;\n",
              "      fill: #1967D2;\n",
              "      height: 32px;\n",
              "      padding: 0 0 0 0;\n",
              "      width: 32px;\n",
              "    }\n",
              "\n",
              "    .colab-df-convert:hover {\n",
              "      background-color: #E2EBFA;\n",
              "      box-shadow: 0px 1px 2px rgba(60, 64, 67, 0.3), 0px 1px 3px 1px rgba(60, 64, 67, 0.15);\n",
              "      fill: #174EA6;\n",
              "    }\n",
              "\n",
              "    [theme=dark] .colab-df-convert {\n",
              "      background-color: #3B4455;\n",
              "      fill: #D2E3FC;\n",
              "    }\n",
              "\n",
              "    [theme=dark] .colab-df-convert:hover {\n",
              "      background-color: #434B5C;\n",
              "      box-shadow: 0px 1px 3px 1px rgba(0, 0, 0, 0.15);\n",
              "      filter: drop-shadow(0px 1px 2px rgba(0, 0, 0, 0.3));\n",
              "      fill: #FFFFFF;\n",
              "    }\n",
              "  </style>\n",
              "\n",
              "      <script>\n",
              "        const buttonEl =\n",
              "          document.querySelector('#df-40031162-5fb5-4dda-8c1f-f98e10919d9c button.colab-df-convert');\n",
              "        buttonEl.style.display =\n",
              "          google.colab.kernel.accessAllowed ? 'block' : 'none';\n",
              "\n",
              "        async function convertToInteractive(key) {\n",
              "          const element = document.querySelector('#df-40031162-5fb5-4dda-8c1f-f98e10919d9c');\n",
              "          const dataTable =\n",
              "            await google.colab.kernel.invokeFunction('convertToInteractive',\n",
              "                                                     [key], {});\n",
              "          if (!dataTable) return;\n",
              "\n",
              "          const docLinkHtml = 'Like what you see? Visit the ' +\n",
              "            '<a target=\"_blank\" href=https://colab.research.google.com/notebooks/data_table.ipynb>data table notebook</a>'\n",
              "            + ' to learn more about interactive tables.';\n",
              "          element.innerHTML = '';\n",
              "          dataTable['output_type'] = 'display_data';\n",
              "          await google.colab.output.renderOutput(dataTable, element);\n",
              "          const docLink = document.createElement('div');\n",
              "          docLink.innerHTML = docLinkHtml;\n",
              "          element.appendChild(docLink);\n",
              "        }\n",
              "      </script>\n",
              "    </div>\n",
              "  </div>\n",
              "  "
            ]
          },
          "metadata": {},
          "execution_count": 43
        }
      ]
    },
    {
      "cell_type": "code",
      "source": [
        "df.isna().sum()"
      ],
      "metadata": {
        "colab": {
          "base_uri": "https://localhost:8080/"
        },
        "id": "TUHpfJC3zID5",
        "outputId": "cd1b595f-d9f4-4031-9d2f-727efd3fd65f"
      },
      "execution_count": 44,
      "outputs": [
        {
          "output_type": "execute_result",
          "data": {
            "text/plain": [
              "MLS                  0\n",
              "sold_price           0\n",
              "zipcode              0\n",
              "longitude            0\n",
              "latitude             0\n",
              "lot_acres           10\n",
              "taxes                0\n",
              "year_built           0\n",
              "bedrooms             0\n",
              "bathrooms            0\n",
              "sqrt_ft             55\n",
              "garage               6\n",
              "kitchen_features     0\n",
              "fireplaces           0\n",
              "floor_covering       0\n",
              "HOA                  0\n",
              "dtype: int64"
            ]
          },
          "metadata": {},
          "execution_count": 44
        }
      ]
    },
    {
      "cell_type": "code",
      "source": [
        "df['garage'].unique()"
      ],
      "metadata": {
        "colab": {
          "base_uri": "https://localhost:8080/"
        },
        "id": "WgWbzjEvzLwA",
        "outputId": "369a5604-dadc-4077-e8bb-70b982d1335e"
      },
      "execution_count": 45,
      "outputs": [
        {
          "output_type": "execute_result",
          "data": {
            "text/plain": [
              "array([ 0. ,  nan,  4. ,  3. ,  5. ,  2. ,  6. , 15. ,  8. ,  7. ,  4.5,\n",
              "        3.5,  2.5,  1. ,  9. , 22. , 30. , 12. , 10. , 11. , 20. , 13. ])"
            ]
          },
          "metadata": {},
          "execution_count": 45
        }
      ]
    },
    {
      "cell_type": "code",
      "source": [
        "df['bathrooms'].unique()"
      ],
      "metadata": {
        "colab": {
          "base_uri": "https://localhost:8080/"
        },
        "id": "7MRdVTe96jJ4",
        "outputId": "38b8a0fb-3538-4548-a49c-febd053a027d"
      },
      "execution_count": 46,
      "outputs": [
        {
          "output_type": "execute_result",
          "data": {
            "text/plain": [
              "array([10. ,  2. ,  3. ,  5. ,  6. ,  4. ,  8. ,  7. , 15. ,  4.5,  1. ,\n",
              "        9. , 11. , 18. , 14. ,  3.5,  2.5])"
            ]
          },
          "metadata": {},
          "execution_count": 46
        }
      ]
    },
    {
      "cell_type": "code",
      "source": [
        "df['bathrooms'].hist(bins = 60, figsize=(20, 10))"
      ],
      "metadata": {
        "colab": {
          "base_uri": "https://localhost:8080/",
          "height": 609
        },
        "id": "GYa4pR9dyTER",
        "outputId": "80443fc2-f22c-496c-8ce7-f707996c2d7b"
      },
      "execution_count": 47,
      "outputs": [
        {
          "output_type": "execute_result",
          "data": {
            "text/plain": [
              "<matplotlib.axes._subplots.AxesSubplot at 0x7f2e165f94d0>"
            ]
          },
          "metadata": {},
          "execution_count": 47
        },
        {
          "output_type": "display_data",
          "data": {
            "text/plain": [
              "<Figure size 1440x720 with 1 Axes>"
            ],
            "image/png": "[encoded data removed]"
          },
          "metadata": {
            "needs_background": "light"
          }
        }
      ]
    },
    {
      "cell_type": "code",
      "source": [
        "df.isna().sum()"
      ],
      "metadata": {
        "colab": {
          "base_uri": "https://localhost:8080/"
        },
        "id": "DBLkzBvDCWgA",
        "outputId": "17d5ba14-4c3a-4e5e-8059-cf4660179414"
      },
      "execution_count": 48,
      "outputs": [
        {
          "output_type": "execute_result",
          "data": {
            "text/plain": [
              "MLS                  0\n",
              "sold_price           0\n",
              "zipcode              0\n",
              "longitude            0\n",
              "latitude             0\n",
              "lot_acres           10\n",
              "taxes                0\n",
              "year_built           0\n",
              "bedrooms             0\n",
              "bathrooms            0\n",
              "sqrt_ft             55\n",
              "garage               6\n",
              "kitchen_features     0\n",
              "fireplaces           0\n",
              "floor_covering       0\n",
              "HOA                  0\n",
              "dtype: int64"
            ]
          },
          "metadata": {},
          "execution_count": 48
        }
      ]
    },
    {
      "cell_type": "code",
      "source": [
        "col_mean3= df[\"lot_acres\"].mean()\n",
        "df[\"lot_acres\"].unique()"
      ],
      "metadata": {
        "colab": {
          "base_uri": "https://localhost:8080/"
        },
        "id": "IHR8v8ikCwbH",
        "outputId": "dc72482c-93a0-415b-8034-035a1006178d"
      },
      "execution_count": 49,
      "outputs": [
        {
          "output_type": "execute_result",
          "data": {
            "text/plain": [
              "array([2.15400e+03, 1.70700e+03, 6.36670e+02, 3.21000e+00, 1.67000e+00,\n",
              "       2.10000e+00, 1.07000e+00, 6.73000e+00, 3.53000e+00, 1.47180e+02,\n",
              "       1.65000e+00, 2.96000e+01, 1.82000e+00, 0.00000e+00, 3.10000e+00,\n",
              "       1.25000e+00, 9.30000e+01, 6.40000e-01, 3.42000e+00, 1.31600e+01,\n",
              "       2.84000e+00, 1.50000e-01, 1.30000e+01, 1.27000e+00, 1.04818e+03,\n",
              "       1.55000e+00, 1.01000e+00, 1.16000e+00, 3.22000e+00, 1.91000e+00,\n",
              "       1.31000e+02, 3.72000e+00, 2.20000e+00, 7.70000e-01, 1.08000e+00,\n",
              "       2.66000e+00, 1.26000e+00, 3.16000e+00, 9.10000e-01, 1.14000e+00,\n",
              "       8.41000e+00, 5.93000e+01, 1.32000e+00, 1.90000e+01, 1.18000e+00,\n",
              "       3.26000e+00, 1.09000e+00, 1.31000e+00, 6.30000e-01, 1.15000e+00,\n",
              "       1.03000e+02, 2.73030e+02, 3.57000e+00, 4.60000e-01, 1.04000e+00,\n",
              "       1.88000e+00, 1.22000e+00, 1.42000e+00, 1.97000e+00, 5.28000e+00,\n",
              "       1.57000e+00, 4.15000e+00, 8.60000e-01, 1.81700e+01, 1.30000e+00,\n",
              "       2.22000e+00, 1.17000e+00, 3.81000e+00, 1.02000e+00, 3.20000e-01,\n",
              "       3.71000e+00, 2.18000e+00, 2.00000e+00, 4.20000e+00, 6.50000e-01,\n",
              "       4.70000e-01, 5.80000e-01, 1.64300e+02, 1.12000e+00, 4.01000e+00,\n",
              "       1.36000e+00, 2.19000e+00, 3.30000e+00, 1.77000e+00, 1.00000e+00,\n",
              "       8.50000e-01, 8.30000e-01, 2.06000e+00, 1.11000e+00, 9.70000e-01,\n",
              "       6.52000e+00, 4.80000e-01, 2.45000e+00, 6.00000e-01, 6.10000e-01,\n",
              "       1.06000e+00, 3.40000e+00, 3.50000e+00, 1.70000e+00, 5.00000e-01,\n",
              "       1.48000e+00, 1.50000e+00, 2.53000e+00, 2.09000e+00, 9.40000e-01,\n",
              "       7.10000e-01, 1.10000e+00, 1.44000e+00, 9.90000e-01, 4.58000e+00,\n",
              "       5.20000e-01, 1.81000e+00, 1.35000e+00, 4.00000e-01, 5.50000e-01,\n",
              "       6.12000e+00, 8.80000e+00, 6.20000e-01, 1.28000e+00, 2.88000e+00,\n",
              "       1.74000e+00, 8.00000e-01, 3.80000e-01, 1.53000e+00, 1.40000e+00,\n",
              "       3.30000e-01, 3.60000e-01, 4.50000e-01, 2.90000e-01, 1.05000e+00,\n",
              "       2.14000e+00, 4.21000e+00, 1.95000e+00, 9.50000e-01, 1.23000e+00,\n",
              "       2.60000e+00, 3.00000e-01, 6.60000e-01, 4.40000e-01, 6.64000e+00,\n",
              "       6.05200e+01, 8.90000e-01, 1.87000e+00, 4.12000e+00, 6.70000e-01,\n",
              "       1.20000e+00, 1.54000e+00, 2.00000e-01, 7.72000e+01, 2.41000e+00,\n",
              "       1.86000e+00, 1.03000e+00, 1.75000e+00, 3.87000e+00, 4.50000e+00,\n",
              "       6.50000e+00, 9.60000e-01, 3.58000e+00, 3.35000e+00, 2.00000e+01,\n",
              "       1.69900e+01, 1.39000e+00, 1.14900e+01, 3.91000e+01, 1.85700e+01,\n",
              "       1.14400e+01, 7.00000e-01, 8.40000e-01, 5.90000e+00, 3.31000e+00,\n",
              "       2.80000e-01, 2.07000e+00, 9.80000e-01, 1.21000e+00, 1.38000e+00,\n",
              "       9.20000e+00, 1.35000e+01, 4.52000e+00, 4.62000e+00, 4.30000e+00,\n",
              "       1.34900e+01, 1.85000e+00, 2.11000e+00, 9.17000e+01, 6.21000e+00,\n",
              "       7.11000e+00, 5.60000e-01, 2.98000e+00, 2.47200e+01, 5.10000e-01,\n",
              "       1.83000e+00, 1.43000e+00, 2.20000e+02, 3.77000e+00, 7.40000e-01,\n",
              "       5.80000e+01, 7.90000e-01, 2.25000e+00, 2.03000e+00, 7.10000e+00,\n",
              "       5.77000e+00, 5.90000e-01, 1.51000e+00, 7.00000e+00, 3.49000e+00,\n",
              "       7.20000e-01, 2.71000e+01, 1.29000e+00, 1.62000e+00, 1.13000e+00,\n",
              "       8.70000e-01, 1.47000e+00, 6.60000e+00, 2.10000e-01, 2.12000e+00,\n",
              "       2.01000e+00, 9.00000e-01, 3.93000e+00, 3.36000e+00, 7.50000e-01,\n",
              "       1.00000e+01, 3.82000e+00, 7.30000e-01, 3.40000e-01, 2.40000e-01,\n",
              "       1.20000e+01, 3.45000e+00, 1.41000e+00, 4.13000e+00, 1.63300e+01,\n",
              "       4.04100e+01, 9.20000e-01, 2.24000e+00, 1.33000e+00, 4.00000e+00,\n",
              "       2.30000e+00, 7.83000e+00, 1.45000e+00, 1.71000e+00, 3.54000e+00,\n",
              "       8.80000e-01, 7.60000e-01, 2.68000e+00, 3.00000e+00, 3.37000e+00,\n",
              "       9.30000e-01, 3.90000e-01, 1.01000e+01, 3.43000e+00, 1.84000e+00,\n",
              "       8.46000e+00, 2.15000e+00, 2.27000e+00, 1.89000e+00, 2.65000e+00,\n",
              "       2.77000e+02, 4.40000e+00, 4.90000e-01, 5.40000e-01, 2.96000e+00,\n",
              "       1.24000e+00, 1.56000e+00, 3.29000e+00, 8.10000e-01, 1.64000e+00,\n",
              "       3.70000e-01, 1.34000e+00, 3.02000e+00, 7.87000e+00, 1.60000e+00,\n",
              "       4.57000e+00, 2.32000e+00, 1.80000e-01, 4.34000e+00, 1.90000e+00,\n",
              "       7.73000e+00, 4.10400e+01, 1.98000e+00, 8.20000e-01, 4.32000e+00,\n",
              "       1.68000e+00, 6.90000e-01, 2.04000e+00, 3.44500e+01, 3.38000e+00,\n",
              "       3.65000e+00, 2.36000e+00, 1.94000e+00, 2.16000e+00, 2.69000e+00,\n",
              "       7.74000e+00, 1.99000e+00, 1.15700e+01, 8.00000e+00, 3.78000e+00,\n",
              "       4.10000e-01, 3.75000e+00, 2.28000e+00, 2.35000e+00, 1.46000e+00,\n",
              "       4.30000e-01, 3.32000e+00, 4.38000e+00, 2.59000e+00, 9.37000e+00,\n",
              "       6.62000e+00, 3.34000e+00, 1.59000e+00, 2.62000e+00, 4.09000e+00,\n",
              "       2.30000e-01, 5.30000e-01, 3.64000e+00, 2.50000e-01, 2.90000e+00,\n",
              "       7.80000e-01, 5.70000e-01, 8.81000e+00, 1.61000e+00, 2.40000e+00,\n",
              "       4.75200e+01, 2.95000e+00, 7.93000e+00, 7.49000e+00, 3.41000e+00,\n",
              "       1.88900e+01, 5.88000e+00, 5.10000e+00, 2.37000e+00, 6.80000e-01,\n",
              "       3.88000e+01, 3.55000e+00, 2.13900e+01, 4.20000e-01, 3.60000e+01,\n",
              "       3.68000e+00, 1.19000e+00, 6.00000e+00, 1.70000e-01, 7.22000e+00,\n",
              "       3.09000e+00, 2.93000e+00, 3.28000e+00, 2.52000e+00, 1.66000e+00,\n",
              "       3.66300e+01, 1.37000e+00, 1.80000e+00, 2.60000e-01, 3.10000e-01,\n",
              "       6.01000e+00, 3.62000e+01, 1.63000e+00, 2.49200e+01, 7.31000e+00,\n",
              "       6.97000e+00, 2.20000e-01, 2.42000e+00, 1.78000e+00, 4.75000e+00,\n",
              "       7.20000e+01, 5.97000e+00, 4.08700e+01, 1.96000e+00,         nan,\n",
              "       2.70000e-01, 5.21000e+00, 3.50000e-01, 2.05000e+00, 1.52000e+00,\n",
              "       3.03000e+00, 2.71000e+00, 3.20000e+00, 6.93000e+00, 3.74200e+01,\n",
              "       7.34200e+01, 6.05700e+01, 2.51000e+00, 3.74000e+00, 4.44930e+02,\n",
              "       7.75000e+00, 7.91800e+01, 3.56000e+00, 3.62000e+00, 1.79000e+00,\n",
              "       8.10000e+00, 4.96000e+00, 1.60000e-01, 1.93000e+00, 2.13000e+00,\n",
              "       6.39000e+00, 1.10000e+01, 5.34000e+00, 4.64000e+00, 5.00000e+00,\n",
              "       2.15600e+01, 4.56000e+00, 9.30000e+00, 5.76000e+00, 7.80000e+00,\n",
              "       1.17020e+02, 2.21000e+00, 3.39000e+00, 7.27000e+00, 3.25000e+00,\n",
              "       8.29000e+00, 1.45200e+01, 1.58000e+00, 5.15000e+00, 4.29000e+00,\n",
              "       3.44000e+00, 3.80000e+00, 2.72000e+00, 8.11000e+00, 2.70000e+00,\n",
              "       3.73000e+00, 5.19000e+00, 3.69000e+00, 1.69000e+00, 2.39000e+00,\n",
              "       2.08000e+00, 6.11000e+00, 5.55000e+00, 4.43000e+00, 4.23000e+00,\n",
              "       2.17000e+00, 3.79000e+00, 3.33000e+00, 2.64000e+00, 3.04000e+00,\n",
              "       8.77000e+00, 4.00000e-02, 7.76000e+00, 1.40000e-01, 5.06000e+00,\n",
              "       4.65000e+00, 2.46000e+00, 4.24000e+00, 1.81300e+01, 3.92000e+00,\n",
              "       5.08000e+00, 7.97000e+00, 1.72760e+02, 2.50000e+00, 7.69200e+01,\n",
              "       3.51000e+00, 1.49000e+00, 4.55000e+00, 4.14000e+00, 4.72000e+00,\n",
              "       1.99100e+01, 3.68700e+01, 3.60000e+00, 1.30000e-01, 2.43000e+00,\n",
              "       5.85000e+00, 3.46000e+00, 5.27000e+00, 8.00000e-02, 3.90000e+00,\n",
              "       3.59000e+00, 4.26000e+00, 3.66000e+00, 7.96000e+00, 6.00000e-02,\n",
              "       3.95000e+00, 2.47000e+00, 7.00000e-02, 2.49000e+00, 3.63000e+00,\n",
              "       7.38000e+00, 6.70000e+00, 1.76000e+00, 9.46800e+01, 7.12000e+00,\n",
              "       4.61000e+00, 3.94000e+00, 4.60000e+00, 5.98000e+00, 5.01000e+00,\n",
              "       7.09000e+00, 3.75700e+01, 4.31000e+00, 9.40700e+01, 4.22000e+00,\n",
              "       2.80000e+00, 2.00000e-02, 8.15000e+00, 1.10000e-01, 5.40000e+00,\n",
              "       4.80000e+00, 1.63000e+01, 3.63000e+01, 4.78000e+00, 2.75000e+00,\n",
              "       1.20300e+01, 3.96000e+00, 4.48000e+00, 1.90000e-01, 4.28000e+00,\n",
              "       8.27000e+00, 3.24500e+01, 3.23000e+00, 4.16000e+00, 1.03100e+01,\n",
              "       3.61000e+00, 4.71000e+02, 6.31000e+00, 1.00000e-01, 3.84000e+00,\n",
              "       5.00000e-02, 7.65000e+00, 4.04900e+01, 2.78000e+00, 3.18000e+00,\n",
              "       1.92000e+00, 2.74000e+00, 5.51000e+00, 7.99000e+00, 5.20000e+00,\n",
              "       6.87000e+01, 3.51000e+01, 5.26000e+00, 7.60300e+01, 5.78400e+01,\n",
              "       5.41000e+00, 4.77000e+00, 2.87000e+00, 5.70500e+01, 1.04800e+02,\n",
              "       3.60100e+01, 3.65000e+01, 4.86000e+00, 7.79000e+00, 3.06000e+00,\n",
              "       8.37000e+00, 3.86000e+00, 3.83500e+01, 1.32000e+01, 3.91000e+00,\n",
              "       1.04000e+01, 9.81000e+00, 4.19000e+01, 4.04000e+00, 3.99000e+00,\n",
              "       5.75000e+00, 1.20000e-01, 9.00000e-02, 4.46000e+00, 6.63000e+00,\n",
              "       4.37000e+00, 1.73000e+00, 3.70000e+00, 3.08000e+00, 2.02000e+00,\n",
              "       7.36000e+00, 3.20000e+01, 1.05600e+01, 2.56000e+00, 4.39000e+00,\n",
              "       3.00000e+01, 3.60200e+01, 8.44000e+00, 4.07000e+00, 5.64000e+00,\n",
              "       5.58000e+00, 7.26200e+01, 2.29000e+00, 7.33300e+01, 4.27000e+00,\n",
              "       2.20600e+01, 4.85000e+00, 3.48000e+00, 3.47000e+00, 4.08000e+00,\n",
              "       9.76000e+00, 2.26000e+00, 4.69000e+00, 2.63000e+00, 4.64100e+01,\n",
              "       4.45000e+00, 5.13000e+00, 4.66000e+00, 4.83000e+00, 2.73000e+00,\n",
              "       3.67000e+00, 4.11000e+00, 4.33000e+00, 1.77800e+01, 2.48000e+00,\n",
              "       4.68000e+00, 5.20000e+01, 2.83000e+00, 5.25000e+00, 4.15000e+01,\n",
              "       8.12000e+01, 4.49000e+00, 9.30600e+01, 4.63000e+00, 3.09000e+01,\n",
              "       1.50000e+01, 3.27000e+00, 7.66700e+01, 3.96600e+01, 4.03000e+00,\n",
              "       1.19790e+02, 3.66100e+01, 5.17000e+00, 5.99000e+00, 1.91100e+01,\n",
              "       4.00000e+01, 9.84000e+00, 1.50500e+01, 3.90900e+01, 8.03000e+00,\n",
              "       3.89800e+01, 1.36200e+01, 9.54000e+00, 2.99000e+00, 2.91000e+00,\n",
              "       4.73000e+00, 6.07000e+00, 4.13000e+01, 4.94000e+00, 9.10000e+00,\n",
              "       5.55600e+02, 3.00000e-02, 3.19000e+00, 2.34000e+00, 1.49000e+01,\n",
              "       6.03000e+00, 4.17000e+00, 5.67000e+00, 9.55000e+00, 4.41000e+00,\n",
              "       4.53000e+00, 1.72000e+00, 3.01000e+00, 3.72200e+01, 3.18900e+01,\n",
              "       1.33600e+01, 2.89000e+00, 9.18000e+00, 4.98000e+00, 1.20600e+01])"
            ]
          },
          "metadata": {},
          "execution_count": 49
        }
      ]
    },
    {
      "cell_type": "code",
      "source": [
        "df['lot_acres'].hist(bins = 60, figsize=(20, 10))"
      ],
      "metadata": {
        "colab": {
          "base_uri": "https://localhost:8080/",
          "height": 609
        },
        "id": "ufCo5f9FDKqQ",
        "outputId": "1658ceaf-d583-4abb-e4a6-28c792c8de95"
      },
      "execution_count": 50,
      "outputs": [
        {
          "output_type": "execute_result",
          "data": {
            "text/plain": [
              "<matplotlib.axes._subplots.AxesSubplot at 0x7f2e1b06fb50>"
            ]
          },
          "metadata": {},
          "execution_count": 50
        },
        {
          "output_type": "display_data",
          "data": {
            "text/plain": [
              "<Figure size 1440x720 with 1 Axes>"
            ],
            "image/png": "[encoded data removed]"
          },
          "metadata": {
            "needs_background": "light"
          }
        }
      ]
    },
    {
      "cell_type": "code",
      "source": [
        "df['lot_acres'].fillna(col_mean3, inplace=True)"
      ],
      "metadata": {
        "id": "OtLFSN6HDgCw"
      },
      "execution_count": 51,
      "outputs": []
    },
    {
      "cell_type": "code",
      "source": [
        "df['lot_acres'].hist(bins = 60, figsize=(20, 10))"
      ],
      "metadata": {
        "colab": {
          "base_uri": "https://localhost:8080/",
          "height": 609
        },
        "id": "mjiVWva_D_JD",
        "outputId": "50e030f2-3425-47e0-a907-e1f4c1f9f47f"
      },
      "execution_count": 52,
      "outputs": [
        {
          "output_type": "execute_result",
          "data": {
            "text/plain": [
              "<matplotlib.axes._subplots.AxesSubplot at 0x7f2e1b071950>"
            ]
          },
          "metadata": {},
          "execution_count": 52
        },
        {
          "output_type": "display_data",
          "data": {
            "text/plain": [
              "<Figure size 1440x720 with 1 Axes>"
            ],
            "image/png": "[encoded data removed]"
          },
          "metadata": {
            "needs_background": "light"
          }
        }
      ]
    },
    {
      "cell_type": "code",
      "source": [
        "col_median3 = df[\"lot_acres\"].median()"
      ],
      "metadata": {
        "id": "ITU5Q2LWEVKa"
      },
      "execution_count": 53,
      "outputs": []
    },
    {
      "cell_type": "code",
      "source": [
        "df['lot_acres'].fillna(col_mean3, inplace=True)"
      ],
      "metadata": {
        "id": "_xGcQ4cgEri7"
      },
      "execution_count": 54,
      "outputs": []
    },
    {
      "cell_type": "code",
      "source": [
        "df['lot_acres'].hist(bins = 60, figsize=(20, 10))"
      ],
      "metadata": {
        "colab": {
          "base_uri": "https://localhost:8080/",
          "height": 609
        },
        "id": "lgDy2C6WFNdU",
        "outputId": "9b872d76-804f-4ec7-c347-8a0757c1b822"
      },
      "execution_count": 55,
      "outputs": [
        {
          "output_type": "execute_result",
          "data": {
            "text/plain": [
              "<matplotlib.axes._subplots.AxesSubplot at 0x7f2e1632b910>"
            ]
          },
          "metadata": {},
          "execution_count": 55
        },
        {
          "output_type": "display_data",
          "data": {
            "text/plain": [
              "<Figure size 1440x720 with 1 Axes>"
            ],
            "image/png": "[encoded data removed]"
          },
          "metadata": {
            "needs_background": "light"
          }
        }
      ]
    },
    {
      "cell_type": "code",
      "source": [
        "df.isna().sum()"
      ],
      "metadata": {
        "colab": {
          "base_uri": "https://localhost:8080/"
        },
        "id": "wE7rv-wBGPZK",
        "outputId": "204cebe2-19cb-4f0e-90e0-f56757d23eca"
      },
      "execution_count": 56,
      "outputs": [
        {
          "output_type": "execute_result",
          "data": {
            "text/plain": [
              "MLS                  0\n",
              "sold_price           0\n",
              "zipcode              0\n",
              "longitude            0\n",
              "latitude             0\n",
              "lot_acres            0\n",
              "taxes                0\n",
              "year_built           0\n",
              "bedrooms             0\n",
              "bathrooms            0\n",
              "sqrt_ft             55\n",
              "garage               6\n",
              "kitchen_features     0\n",
              "fireplaces           0\n",
              "floor_covering       0\n",
              "HOA                  0\n",
              "dtype: int64"
            ]
          },
          "metadata": {},
          "execution_count": 56
        }
      ]
    },
    {
      "cell_type": "code",
      "source": [
        "df['garage'].unique()"
      ],
      "metadata": {
        "colab": {
          "base_uri": "https://localhost:8080/"
        },
        "id": "CM7asl6JGjIs",
        "outputId": "687fae93-06e1-42ab-aa9d-b27802f37986"
      },
      "execution_count": 57,
      "outputs": [
        {
          "output_type": "execute_result",
          "data": {
            "text/plain": [
              "array([ 0. ,  nan,  4. ,  3. ,  5. ,  2. ,  6. , 15. ,  8. ,  7. ,  4.5,\n",
              "        3.5,  2.5,  1. ,  9. , 22. , 30. , 12. , 10. , 11. , 20. , 13. ])"
            ]
          },
          "metadata": {},
          "execution_count": 57
        }
      ]
    },
    {
      "cell_type": "code",
      "source": [
        "df['garage'].hist(bins = 60, figsize=(20, 10))"
      ],
      "metadata": {
        "colab": {
          "base_uri": "https://localhost:8080/",
          "height": 609
        },
        "id": "7WaPJYlbHEys",
        "outputId": "6643e560-d035-44a7-abea-c4d81377e1a9"
      },
      "execution_count": 58,
      "outputs": [
        {
          "output_type": "execute_result",
          "data": {
            "text/plain": [
              "<matplotlib.axes._subplots.AxesSubplot at 0x7f2e161da410>"
            ]
          },
          "metadata": {},
          "execution_count": 58
        },
        {
          "output_type": "display_data",
          "data": {
            "text/plain": [
              "<Figure size 1440x720 with 1 Axes>"
            ],
            "image/png": "[encoded data removed]"
          },
          "metadata": {
            "needs_background": "light"
          }
        }
      ]
    },
    {
      "cell_type": "code",
      "source": [
        "col_mean4= df[\"garage\"].mean()\n",
        "df[\"garage\"].fillna(col_mean4, inplace=True)\n",
        "df['garage'].hist(bins = 100, figsize=(20, 10))"
      ],
      "metadata": {
        "colab": {
          "base_uri": "https://localhost:8080/",
          "height": 609
        },
        "id": "1LN3doA1GwxY",
        "outputId": "16e955a3-7a74-4ae6-e25e-700b7daa454e"
      },
      "execution_count": 59,
      "outputs": [
        {
          "output_type": "execute_result",
          "data": {
            "text/plain": [
              "<matplotlib.axes._subplots.AxesSubplot at 0x7f2e160f0050>"
            ]
          },
          "metadata": {},
          "execution_count": 59
        },
        {
          "output_type": "display_data",
          "data": {
            "text/plain": [
              "<Figure size 1440x720 with 1 Axes>"
            ],
            "image/png": "[encoded data removed]"
          },
          "metadata": {
            "needs_background": "light"
          }
        }
      ]
    },
    {
      "cell_type": "code",
      "source": [
        "col_median4= df[\"garage\"].median()\n",
        "df[\"garage\"].fillna(col_median4, inplace=True)\n",
        "df['garage'].hist(bins = 100, figsize=(20, 10))"
      ],
      "metadata": {
        "colab": {
          "base_uri": "https://localhost:8080/",
          "height": 609
        },
        "id": "RU40TlF5IAf6",
        "outputId": "4e877c12-07a9-49e1-e071-6fd5d28ef49a"
      },
      "execution_count": 60,
      "outputs": [
        {
          "output_type": "execute_result",
          "data": {
            "text/plain": [
              "<matplotlib.axes._subplots.AxesSubplot at 0x7f2e15f25790>"
            ]
          },
          "metadata": {},
          "execution_count": 60
        },
        {
          "output_type": "display_data",
          "data": {
            "text/plain": [
              "<Figure size 1440x720 with 1 Axes>"
            ],
            "image/png": "[encoded data removed]"
          },
          "metadata": {
            "needs_background": "light"
          }
        }
      ]
    },
    {
      "cell_type": "code",
      "source": [
        "df.isna().sum()"
      ],
      "metadata": {
        "colab": {
          "base_uri": "https://localhost:8080/"
        },
        "id": "wOm7kwyTIzEl",
        "outputId": "64a8b149-c8a3-4bca-d523-363be2b11980"
      },
      "execution_count": 61,
      "outputs": [
        {
          "output_type": "execute_result",
          "data": {
            "text/plain": [
              "MLS                  0\n",
              "sold_price           0\n",
              "zipcode              0\n",
              "longitude            0\n",
              "latitude             0\n",
              "lot_acres            0\n",
              "taxes                0\n",
              "year_built           0\n",
              "bedrooms             0\n",
              "bathrooms            0\n",
              "sqrt_ft             55\n",
              "garage               0\n",
              "kitchen_features     0\n",
              "fireplaces           0\n",
              "floor_covering       0\n",
              "HOA                  0\n",
              "dtype: int64"
            ]
          },
          "metadata": {},
          "execution_count": 61
        }
      ]
    },
    {
      "cell_type": "code",
      "source": [
        "df['sqrt_ft'].unique()"
      ],
      "metadata": {
        "colab": {
          "base_uri": "https://localhost:8080/"
        },
        "id": "A3zyvtZ_I0kq",
        "outputId": "c1e397b6-2805-4c18-9620-e9ba00132c9a"
      },
      "execution_count": 62,
      "outputs": [
        {
          "output_type": "execute_result",
          "data": {
            "text/plain": [
              "array([10500.,  7300.,    nan, ...,  2106.,  3601.,  1772.])"
            ]
          },
          "metadata": {},
          "execution_count": 62
        }
      ]
    },
    {
      "cell_type": "code",
      "source": [
        "df['sqrt_ft'].dtype"
      ],
      "metadata": {
        "colab": {
          "base_uri": "https://localhost:8080/"
        },
        "id": "9QjXeJi5JkZS",
        "outputId": "b3169d21-5f7b-4c7a-af9e-824f35c305a0"
      },
      "execution_count": 63,
      "outputs": [
        {
          "output_type": "execute_result",
          "data": {
            "text/plain": [
              "dtype('float64')"
            ]
          },
          "metadata": {},
          "execution_count": 63
        }
      ]
    },
    {
      "cell_type": "code",
      "source": [
        "col_median5= df['sqrt_ft'].median()\n",
        "df['sqrt_ft'].fillna(col_median5, inplace=True)\n",
        "df['sqrt_ft'].hist(bins = 100, figsize=(20, 10))"
      ],
      "metadata": {
        "colab": {
          "base_uri": "https://localhost:8080/",
          "height": 609
        },
        "id": "xyxI_McWI9sq",
        "outputId": "cb6bd194-a915-4ff6-f601-ac612a67324e"
      },
      "execution_count": 64,
      "outputs": [
        {
          "output_type": "execute_result",
          "data": {
            "text/plain": [
              "<matplotlib.axes._subplots.AxesSubplot at 0x7f2e16214a50>"
            ]
          },
          "metadata": {},
          "execution_count": 64
        },
        {
          "output_type": "display_data",
          "data": {
            "text/plain": [
              "<Figure size 1440x720 with 1 Axes>"
            ],
            "image/png": "[encoded data removed]"
          },
          "metadata": {
            "needs_background": "light"
          }
        }
      ]
    },
    {
      "cell_type": "code",
      "source": [
        "df.isna().sum()"
      ],
      "metadata": {
        "colab": {
          "base_uri": "https://localhost:8080/"
        },
        "id": "eq5aGsMLL1Pq",
        "outputId": "3c1056e8-b013-4e85-8a34-64b07ff46227"
      },
      "execution_count": 65,
      "outputs": [
        {
          "output_type": "execute_result",
          "data": {
            "text/plain": [
              "MLS                 0\n",
              "sold_price          0\n",
              "zipcode             0\n",
              "longitude           0\n",
              "latitude            0\n",
              "lot_acres           0\n",
              "taxes               0\n",
              "year_built          0\n",
              "bedrooms            0\n",
              "bathrooms           0\n",
              "sqrt_ft             0\n",
              "garage              0\n",
              "kitchen_features    0\n",
              "fireplaces          0\n",
              "floor_covering      0\n",
              "HOA                 0\n",
              "dtype: int64"
            ]
          },
          "metadata": {},
          "execution_count": 65
        }
      ]
    },
    {
      "cell_type": "code",
      "source": [
        "df.head()"
      ],
      "metadata": {
        "colab": {
          "base_uri": "https://localhost:8080/",
          "height": 444
        },
        "id": "XlivvQfxHmik",
        "outputId": "cbae2417-592a-4e05-84f2-d19cee59a616"
      },
      "execution_count": 66,
      "outputs": [
        {
          "output_type": "execute_result",
          "data": {
            "text/plain": [
              "        MLS  sold_price  zipcode   longitude   latitude  lot_acres     taxes  \\\n",
              "0  21530491   5300000.0    85637 -110.378200  31.356362    2154.00   5272.00   \n",
              "1  21529082   4200000.0    85646 -111.045371  31.594213    1707.00  10422.36   \n",
              "2   3054672   4200000.0    85646 -111.040707  31.594844    1707.00  10482.00   \n",
              "3  21919321   4500000.0    85646 -111.035925  31.645878     636.67   8418.58   \n",
              "4  21306357   3411450.0    85750 -110.813768  32.285162       3.21  15393.00   \n",
              "\n",
              "   year_built  bedrooms  bathrooms  sqrt_ft    garage  \\\n",
              "0        1941        13       10.0  10500.0  0.000000   \n",
              "1        1997         2        2.0   7300.0  0.000000   \n",
              "2        1997         2        3.0   3511.0  2.817234   \n",
              "3        1930         7        5.0   9019.0  4.000000   \n",
              "4        1995         4        6.0   6396.0  3.000000   \n",
              "\n",
              "                                    kitchen_features fireplaces  \\\n",
              "0            Dishwasher, Freezer, Refrigerator, Oven          6   \n",
              "1                       Dishwasher, Garbage Disposal          5   \n",
              "2         Dishwasher, Garbage Disposal, Refrigerator          5   \n",
              "3  Dishwasher, Double Sink, Pantry: Butler, Refri...          4   \n",
              "4  Dishwasher, Garbage Disposal, Refrigerator, Mi...          5   \n",
              "\n",
              "                 floor_covering HOA  \n",
              "0            Mexican Tile, Wood   0  \n",
              "1          Natural Stone, Other   0  \n",
              "2    Natural Stone, Other: Rock  -1  \n",
              "3  Ceramic Tile, Laminate, Wood  -1  \n",
              "4              Carpet, Concrete  55  "
            ],
            "text/html": [
              "\n",
              "  <div id=\"df-c6d95d43-46ed-4138-a789-9e8260c6ada9\">\n",
              "    <div class=\"colab-df-container\">\n",
              "      <div>\n",
              "<style scoped>\n",
              "    .dataframe tbody tr th:only-of-type {\n",
              "        vertical-align: middle;\n",
              "    }\n",
              "\n",
              "    .dataframe tbody tr th {\n",
              "        vertical-align: top;\n",
              "    }\n",
              "\n",
              "    .dataframe thead th {\n",
              "        text-align: right;\n",
              "    }\n",
              "</style>\n",
              "<table border=\"1\" class=\"dataframe\">\n",
              "  <thead>\n",
              "    <tr style=\"text-align: right;\">\n",
              "      <th></th>\n",
              "      <th>MLS</th>\n",
              "      <th>sold_price</th>\n",
              "      <th>zipcode</th>\n",
              "      <th>longitude</th>\n",
              "      <th>latitude</th>\n",
              "      <th>lot_acres</th>\n",
              "      <th>taxes</th>\n",
              "      <th>year_built</th>\n",
              "      <th>bedrooms</th>\n",
              "      <th>bathrooms</th>\n",
              "      <th>sqrt_ft</th>\n",
              "      <th>garage</th>\n",
              "      <th>kitchen_features</th>\n",
              "      <th>fireplaces</th>\n",
              "      <th>floor_covering</th>\n",
              "      <th>HOA</th>\n",
              "    </tr>\n",
              "  </thead>\n",
              "  <tbody>\n",
              "    <tr>\n",
              "      <th>0</th>\n",
              "      <td>21530491</td>\n",
              "      <td>5300000.0</td>\n",
              "      <td>85637</td>\n",
              "      <td>-110.378200</td>\n",
              "      <td>31.356362</td>\n",
              "      <td>2154.00</td>\n",
              "      <td>5272.00</td>\n",
              "      <td>1941</td>\n",
              "      <td>13</td>\n",
              "      <td>10.0</td>\n",
              "      <td>10500.0</td>\n",
              "      <td>0.000000</td>\n",
              "      <td>Dishwasher, Freezer, Refrigerator, Oven</td>\n",
              "      <td>6</td>\n",
              "      <td>Mexican Tile, Wood</td>\n",
              "      <td>0</td>\n",
              "    </tr>\n",
              "    <tr>\n",
              "      <th>1</th>\n",
              "      <td>21529082</td>\n",
              "      <td>4200000.0</td>\n",
              "      <td>85646</td>\n",
              "      <td>-111.045371</td>\n",
              "      <td>31.594213</td>\n",
              "      <td>1707.00</td>\n",
              "      <td>10422.36</td>\n",
              "      <td>1997</td>\n",
              "      <td>2</td>\n",
              "      <td>2.0</td>\n",
              "      <td>7300.0</td>\n",
              "      <td>0.000000</td>\n",
              "      <td>Dishwasher, Garbage Disposal</td>\n",
              "      <td>5</td>\n",
              "      <td>Natural Stone, Other</td>\n",
              "      <td>0</td>\n",
              "    </tr>\n",
              "    <tr>\n",
              "      <th>2</th>\n",
              "      <td>3054672</td>\n",
              "      <td>4200000.0</td>\n",
              "      <td>85646</td>\n",
              "      <td>-111.040707</td>\n",
              "      <td>31.594844</td>\n",
              "      <td>1707.00</td>\n",
              "      <td>10482.00</td>\n",
              "      <td>1997</td>\n",
              "      <td>2</td>\n",
              "      <td>3.0</td>\n",
              "      <td>3511.0</td>\n",
              "      <td>2.817234</td>\n",
              "      <td>Dishwasher, Garbage Disposal, Refrigerator</td>\n",
              "      <td>5</td>\n",
              "      <td>Natural Stone, Other: Rock</td>\n",
              "      <td>-1</td>\n",
              "    </tr>\n",
              "    <tr>\n",
              "      <th>3</th>\n",
              "      <td>21919321</td>\n",
              "      <td>4500000.0</td>\n",
              "      <td>85646</td>\n",
              "      <td>-111.035925</td>\n",
              "      <td>31.645878</td>\n",
              "      <td>636.67</td>\n",
              "      <td>8418.58</td>\n",
              "      <td>1930</td>\n",
              "      <td>7</td>\n",
              "      <td>5.0</td>\n",
              "      <td>9019.0</td>\n",
              "      <td>4.000000</td>\n",
              "      <td>Dishwasher, Double Sink, Pantry: Butler, Refri...</td>\n",
              "      <td>4</td>\n",
              "      <td>Ceramic Tile, Laminate, Wood</td>\n",
              "      <td>-1</td>\n",
              "    </tr>\n",
              "    <tr>\n",
              "      <th>4</th>\n",
              "      <td>21306357</td>\n",
              "      <td>3411450.0</td>\n",
              "      <td>85750</td>\n",
              "      <td>-110.813768</td>\n",
              "      <td>32.285162</td>\n",
              "      <td>3.21</td>\n",
              "      <td>15393.00</td>\n",
              "      <td>1995</td>\n",
              "      <td>4</td>\n",
              "      <td>6.0</td>\n",
              "      <td>6396.0</td>\n",
              "      <td>3.000000</td>\n",
              "      <td>Dishwasher, Garbage Disposal, Refrigerator, Mi...</td>\n",
              "      <td>5</td>\n",
              "      <td>Carpet, Concrete</td>\n",
              "      <td>55</td>\n",
              "    </tr>\n",
              "  </tbody>\n",
              "</table>\n",
              "</div>\n",
              "      <button class=\"colab-df-convert\" onclick=\"convertToInteractive('df-c6d95d43-46ed-4138-a789-9e8260c6ada9')\"\n",
              "              title=\"Convert this dataframe to an interactive table.\"\n",
              "              style=\"display:none;\">\n",
              "        \n",
              "  <svg xmlns=\"http://www.w3.org/2000/svg\" height=\"24px\"viewBox=\"0 0 24 24\"\n",
              "       width=\"24px\">\n",
              "    <path d=\"M0 0h24v24H0V0z\" fill=\"none\"/>\n",
              "    <path d=\"M18.56 5.44l.94 2.06.94-2.06 2.06-.94-2.06-.94-.94-2.06-.94 2.06-2.06.94zm-11 1L8.5 8.5l.94-2.06 2.06-.94-2.06-.94L8.5 2.5l-.94 2.06-2.06.94zm10 10l.94 2.06.94-2.06 2.06-.94-2.06-.94-.94-2.06-.94 2.06-2.06.94z\"/><path d=\"M17.41 7.96l-1.37-1.37c-.4-.4-.92-.59-1.43-.59-.52 0-1.04.2-1.43.59L10.3 9.45l-7.72 7.72c-.78.78-.78 2.05 0 2.83L4 21.41c.39.39.9.59 1.41.59.51 0 1.02-.2 1.41-.59l7.78-7.78 2.81-2.81c.8-.78.8-2.07 0-2.86zM5.41 20L4 18.59l7.72-7.72 1.47 1.35L5.41 20z\"/>\n",
              "  </svg>\n",
              "      </button>\n",
              "      \n",
              "  <style>\n",
              "    .colab-df-container {\n",
              "      display:flex;\n",
              "      flex-wrap:wrap;\n",
              "      gap: 12px;\n",
              "    }\n",
              "\n",
              "    .colab-df-convert {\n",
              "      background-color: #E8F0FE;\n",
              "      border: none;\n",
              "      border-radius: 50%;\n",
              "      cursor: pointer;\n",
              "      display: none;\n",
              "      fill: #1967D2;\n",
              "      height: 32px;\n",
              "      padding: 0 0 0 0;\n",
              "      width: 32px;\n",
              "    }\n",
              "\n",
              "    .colab-df-convert:hover {\n",
              "      background-color: #E2EBFA;\n",
              "      box-shadow: 0px 1px 2px rgba(60, 64, 67, 0.3), 0px 1px 3px 1px rgba(60, 64, 67, 0.15);\n",
              "      fill: #174EA6;\n",
              "    }\n",
              "\n",
              "    [theme=dark] .colab-df-convert {\n",
              "      background-color: #3B4455;\n",
              "      fill: #D2E3FC;\n",
              "    }\n",
              "\n",
              "    [theme=dark] .colab-df-convert:hover {\n",
              "      background-color: #434B5C;\n",
              "      box-shadow: 0px 1px 3px 1px rgba(0, 0, 0, 0.15);\n",
              "      filter: drop-shadow(0px 1px 2px rgba(0, 0, 0, 0.3));\n",
              "      fill: #FFFFFF;\n",
              "    }\n",
              "  </style>\n",
              "\n",
              "      <script>\n",
              "        const buttonEl =\n",
              "          document.querySelector('#df-c6d95d43-46ed-4138-a789-9e8260c6ada9 button.colab-df-convert');\n",
              "        buttonEl.style.display =\n",
              "          google.colab.kernel.accessAllowed ? 'block' : 'none';\n",
              "\n",
              "        async function convertToInteractive(key) {\n",
              "          const element = document.querySelector('#df-c6d95d43-46ed-4138-a789-9e8260c6ada9');\n",
              "          const dataTable =\n",
              "            await google.colab.kernel.invokeFunction('convertToInteractive',\n",
              "                                                     [key], {});\n",
              "          if (!dataTable) return;\n",
              "\n",
              "          const docLinkHtml = 'Like what you see? Visit the ' +\n",
              "            '<a target=\"_blank\" href=https://colab.research.google.com/notebooks/data_table.ipynb>data table notebook</a>'\n",
              "            + ' to learn more about interactive tables.';\n",
              "          element.innerHTML = '';\n",
              "          dataTable['output_type'] = 'display_data';\n",
              "          await google.colab.output.renderOutput(dataTable, element);\n",
              "          const docLink = document.createElement('div');\n",
              "          docLink.innerHTML = docLinkHtml;\n",
              "          element.appendChild(docLink);\n",
              "        }\n",
              "      </script>\n",
              "    </div>\n",
              "  </div>\n",
              "  "
            ]
          },
          "metadata": {},
          "execution_count": 66
        }
      ]
    },
    {
      "cell_type": "code",
      "source": [
        "df = df.drop('kitchen_features', axis=1)"
      ],
      "metadata": {
        "id": "AC8VxGIQICw4"
      },
      "execution_count": 67,
      "outputs": []
    },
    {
      "cell_type": "code",
      "source": [
        "df = df.drop('floor_covering', axis=1)"
      ],
      "metadata": {
        "id": "ENoAdP7HJOkS"
      },
      "execution_count": 68,
      "outputs": []
    },
    {
      "cell_type": "code",
      "source": [
        "df.shape"
      ],
      "metadata": {
        "colab": {
          "base_uri": "https://localhost:8080/"
        },
        "id": "OzGitV4GJDML",
        "outputId": "9b472e37-0a3f-4c4a-eef9-ec7617a154c7"
      },
      "execution_count": 69,
      "outputs": [
        {
          "output_type": "execute_result",
          "data": {
            "text/plain": [
              "(4996, 14)"
            ]
          },
          "metadata": {},
          "execution_count": 69
        }
      ]
    },
    {
      "cell_type": "code",
      "source": [
        "corr = df.corr()\n",
        "plt.figure(figsize=(12,6))\n",
        "sns.heatmap(corr, annot = True)\n"
      ],
      "metadata": {
        "colab": {
          "base_uri": "https://localhost:8080/",
          "height": 438
        },
        "id": "5ZWyin4lKjPe",
        "outputId": "8dac0346-621c-4dda-ee13-5f1db4df5edc"
      },
      "execution_count": 70,
      "outputs": [
        {
          "output_type": "execute_result",
          "data": {
            "text/plain": [
              "<matplotlib.axes._subplots.AxesSubplot at 0x7f2e166a0d90>"
            ]
          },
          "metadata": {},
          "execution_count": 70
        },
        {
          "output_type": "display_data",
          "data": {
            "text/plain": [
              "<Figure size 864x432 with 2 Axes>"
            ],
            "image/png": "[encoded data removed]"
          },
          "metadata": {
            "needs_background": "light"
          }
        }
      ]
    },
    {
      "cell_type": "code",
      "source": [
        "df['lot_acres'].unique() "
      ],
      "metadata": {
        "colab": {
          "base_uri": "https://localhost:8080/"
        },
        "id": "p3kEPDEcLs8P",
        "outputId": "a11d0c44-a1fc-4ccf-9310-7fa25dfc9ddd"
      },
      "execution_count": 71,
      "outputs": [
        {
          "output_type": "execute_result",
          "data": {
            "text/plain": [
              "array([2.15400000e+03, 1.70700000e+03, 6.36670000e+02, 3.21000000e+00,\n",
              "       1.67000000e+00, 2.10000000e+00, 1.07000000e+00, 6.73000000e+00,\n",
              "       3.53000000e+00, 1.47180000e+02, 1.65000000e+00, 2.96000000e+01,\n",
              "       1.82000000e+00, 0.00000000e+00, 3.10000000e+00, 1.25000000e+00,\n",
              "       9.30000000e+01, 6.40000000e-01, 3.42000000e+00, 1.31600000e+01,\n",
              "       2.84000000e+00, 1.50000000e-01, 1.30000000e+01, 1.27000000e+00,\n",
              "       1.04818000e+03, 1.55000000e+00, 1.01000000e+00, 1.16000000e+00,\n",
              "       3.22000000e+00, 1.91000000e+00, 1.31000000e+02, 3.72000000e+00,\n",
              "       2.20000000e+00, 7.70000000e-01, 1.08000000e+00, 2.66000000e+00,\n",
              "       1.26000000e+00, 3.16000000e+00, 9.10000000e-01, 1.14000000e+00,\n",
              "       8.41000000e+00, 5.93000000e+01, 1.32000000e+00, 1.90000000e+01,\n",
              "       1.18000000e+00, 3.26000000e+00, 1.09000000e+00, 1.31000000e+00,\n",
              "       6.30000000e-01, 1.15000000e+00, 1.03000000e+02, 2.73030000e+02,\n",
              "       3.57000000e+00, 4.60000000e-01, 1.04000000e+00, 1.88000000e+00,\n",
              "       1.22000000e+00, 1.42000000e+00, 1.97000000e+00, 5.28000000e+00,\n",
              "       1.57000000e+00, 4.15000000e+00, 8.60000000e-01, 1.81700000e+01,\n",
              "       1.30000000e+00, 2.22000000e+00, 1.17000000e+00, 3.81000000e+00,\n",
              "       1.02000000e+00, 3.20000000e-01, 3.71000000e+00, 2.18000000e+00,\n",
              "       2.00000000e+00, 4.20000000e+00, 6.50000000e-01, 4.70000000e-01,\n",
              "       5.80000000e-01, 1.64300000e+02, 1.12000000e+00, 4.01000000e+00,\n",
              "       1.36000000e+00, 2.19000000e+00, 3.30000000e+00, 1.77000000e+00,\n",
              "       1.00000000e+00, 8.50000000e-01, 8.30000000e-01, 2.06000000e+00,\n",
              "       1.11000000e+00, 9.70000000e-01, 6.52000000e+00, 4.80000000e-01,\n",
              "       2.45000000e+00, 6.00000000e-01, 6.10000000e-01, 1.06000000e+00,\n",
              "       3.40000000e+00, 3.50000000e+00, 1.70000000e+00, 5.00000000e-01,\n",
              "       1.48000000e+00, 1.50000000e+00, 2.53000000e+00, 2.09000000e+00,\n",
              "       9.40000000e-01, 7.10000000e-01, 1.10000000e+00, 1.44000000e+00,\n",
              "       9.90000000e-01, 4.58000000e+00, 5.20000000e-01, 1.81000000e+00,\n",
              "       1.35000000e+00, 4.00000000e-01, 5.50000000e-01, 6.12000000e+00,\n",
              "       8.80000000e+00, 6.20000000e-01, 1.28000000e+00, 2.88000000e+00,\n",
              "       1.74000000e+00, 8.00000000e-01, 3.80000000e-01, 1.53000000e+00,\n",
              "       1.40000000e+00, 3.30000000e-01, 3.60000000e-01, 4.50000000e-01,\n",
              "       2.90000000e-01, 1.05000000e+00, 2.14000000e+00, 4.21000000e+00,\n",
              "       1.95000000e+00, 9.50000000e-01, 1.23000000e+00, 2.60000000e+00,\n",
              "       3.00000000e-01, 6.60000000e-01, 4.40000000e-01, 6.64000000e+00,\n",
              "       6.05200000e+01, 8.90000000e-01, 1.87000000e+00, 4.12000000e+00,\n",
              "       6.70000000e-01, 1.20000000e+00, 1.54000000e+00, 2.00000000e-01,\n",
              "       7.72000000e+01, 2.41000000e+00, 1.86000000e+00, 1.03000000e+00,\n",
              "       1.75000000e+00, 3.87000000e+00, 4.50000000e+00, 6.50000000e+00,\n",
              "       9.60000000e-01, 3.58000000e+00, 3.35000000e+00, 2.00000000e+01,\n",
              "       1.69900000e+01, 1.39000000e+00, 1.14900000e+01, 3.91000000e+01,\n",
              "       1.85700000e+01, 1.14400000e+01, 7.00000000e-01, 8.40000000e-01,\n",
              "       5.90000000e+00, 3.31000000e+00, 2.80000000e-01, 2.07000000e+00,\n",
              "       9.80000000e-01, 1.21000000e+00, 1.38000000e+00, 9.20000000e+00,\n",
              "       1.35000000e+01, 4.52000000e+00, 4.62000000e+00, 4.30000000e+00,\n",
              "       1.34900000e+01, 1.85000000e+00, 2.11000000e+00, 9.17000000e+01,\n",
              "       6.21000000e+00, 7.11000000e+00, 5.60000000e-01, 2.98000000e+00,\n",
              "       2.47200000e+01, 5.10000000e-01, 1.83000000e+00, 1.43000000e+00,\n",
              "       2.20000000e+02, 3.77000000e+00, 7.40000000e-01, 5.80000000e+01,\n",
              "       7.90000000e-01, 2.25000000e+00, 2.03000000e+00, 7.10000000e+00,\n",
              "       5.77000000e+00, 5.90000000e-01, 1.51000000e+00, 7.00000000e+00,\n",
              "       3.49000000e+00, 7.20000000e-01, 2.71000000e+01, 1.29000000e+00,\n",
              "       1.62000000e+00, 1.13000000e+00, 8.70000000e-01, 1.47000000e+00,\n",
              "       6.60000000e+00, 2.10000000e-01, 2.12000000e+00, 2.01000000e+00,\n",
              "       9.00000000e-01, 3.93000000e+00, 3.36000000e+00, 7.50000000e-01,\n",
              "       1.00000000e+01, 3.82000000e+00, 7.30000000e-01, 3.40000000e-01,\n",
              "       2.40000000e-01, 1.20000000e+01, 3.45000000e+00, 1.41000000e+00,\n",
              "       4.13000000e+00, 1.63300000e+01, 4.04100000e+01, 9.20000000e-01,\n",
              "       2.24000000e+00, 1.33000000e+00, 4.00000000e+00, 2.30000000e+00,\n",
              "       7.83000000e+00, 1.45000000e+00, 1.71000000e+00, 3.54000000e+00,\n",
              "       8.80000000e-01, 7.60000000e-01, 2.68000000e+00, 3.00000000e+00,\n",
              "       3.37000000e+00, 9.30000000e-01, 3.90000000e-01, 1.01000000e+01,\n",
              "       3.43000000e+00, 1.84000000e+00, 8.46000000e+00, 2.15000000e+00,\n",
              "       2.27000000e+00, 1.89000000e+00, 2.65000000e+00, 2.77000000e+02,\n",
              "       4.40000000e+00, 4.90000000e-01, 5.40000000e-01, 2.96000000e+00,\n",
              "       1.24000000e+00, 1.56000000e+00, 3.29000000e+00, 8.10000000e-01,\n",
              "       1.64000000e+00, 3.70000000e-01, 1.34000000e+00, 3.02000000e+00,\n",
              "       7.87000000e+00, 1.60000000e+00, 4.57000000e+00, 2.32000000e+00,\n",
              "       1.80000000e-01, 4.34000000e+00, 1.90000000e+00, 7.73000000e+00,\n",
              "       4.10400000e+01, 1.98000000e+00, 8.20000000e-01, 4.32000000e+00,\n",
              "       1.68000000e+00, 6.90000000e-01, 2.04000000e+00, 3.44500000e+01,\n",
              "       3.38000000e+00, 3.65000000e+00, 2.36000000e+00, 1.94000000e+00,\n",
              "       2.16000000e+00, 2.69000000e+00, 7.74000000e+00, 1.99000000e+00,\n",
              "       1.15700000e+01, 8.00000000e+00, 3.78000000e+00, 4.10000000e-01,\n",
              "       3.75000000e+00, 2.28000000e+00, 2.35000000e+00, 1.46000000e+00,\n",
              "       4.30000000e-01, 3.32000000e+00, 4.38000000e+00, 2.59000000e+00,\n",
              "       9.37000000e+00, 6.62000000e+00, 3.34000000e+00, 1.59000000e+00,\n",
              "       2.62000000e+00, 4.09000000e+00, 2.30000000e-01, 5.30000000e-01,\n",
              "       3.64000000e+00, 2.50000000e-01, 2.90000000e+00, 7.80000000e-01,\n",
              "       5.70000000e-01, 8.81000000e+00, 1.61000000e+00, 2.40000000e+00,\n",
              "       4.75200000e+01, 2.95000000e+00, 7.93000000e+00, 7.49000000e+00,\n",
              "       3.41000000e+00, 1.88900000e+01, 5.88000000e+00, 5.10000000e+00,\n",
              "       2.37000000e+00, 6.80000000e-01, 3.88000000e+01, 3.55000000e+00,\n",
              "       2.13900000e+01, 4.20000000e-01, 3.60000000e+01, 3.68000000e+00,\n",
              "       1.19000000e+00, 6.00000000e+00, 1.70000000e-01, 7.22000000e+00,\n",
              "       3.09000000e+00, 2.93000000e+00, 3.28000000e+00, 2.52000000e+00,\n",
              "       1.66000000e+00, 3.66300000e+01, 1.37000000e+00, 1.80000000e+00,\n",
              "       2.60000000e-01, 3.10000000e-01, 6.01000000e+00, 3.62000000e+01,\n",
              "       1.63000000e+00, 2.49200000e+01, 7.31000000e+00, 6.97000000e+00,\n",
              "       2.20000000e-01, 2.42000000e+00, 1.78000000e+00, 4.75000000e+00,\n",
              "       7.20000000e+01, 5.97000000e+00, 4.08700000e+01, 1.96000000e+00,\n",
              "       4.63475732e+00, 2.70000000e-01, 5.21000000e+00, 3.50000000e-01,\n",
              "       2.05000000e+00, 1.52000000e+00, 3.03000000e+00, 2.71000000e+00,\n",
              "       3.20000000e+00, 6.93000000e+00, 3.74200000e+01, 7.34200000e+01,\n",
              "       6.05700000e+01, 2.51000000e+00, 3.74000000e+00, 4.44930000e+02,\n",
              "       7.75000000e+00, 7.91800000e+01, 3.56000000e+00, 3.62000000e+00,\n",
              "       1.79000000e+00, 8.10000000e+00, 4.96000000e+00, 1.60000000e-01,\n",
              "       1.93000000e+00, 2.13000000e+00, 6.39000000e+00, 1.10000000e+01,\n",
              "       5.34000000e+00, 4.64000000e+00, 5.00000000e+00, 2.15600000e+01,\n",
              "       4.56000000e+00, 9.30000000e+00, 5.76000000e+00, 7.80000000e+00,\n",
              "       1.17020000e+02, 2.21000000e+00, 3.39000000e+00, 7.27000000e+00,\n",
              "       3.25000000e+00, 8.29000000e+00, 1.45200000e+01, 1.58000000e+00,\n",
              "       5.15000000e+00, 4.29000000e+00, 3.44000000e+00, 3.80000000e+00,\n",
              "       2.72000000e+00, 8.11000000e+00, 2.70000000e+00, 3.73000000e+00,\n",
              "       5.19000000e+00, 3.69000000e+00, 1.69000000e+00, 2.39000000e+00,\n",
              "       2.08000000e+00, 6.11000000e+00, 5.55000000e+00, 4.43000000e+00,\n",
              "       4.23000000e+00, 2.17000000e+00, 3.79000000e+00, 3.33000000e+00,\n",
              "       2.64000000e+00, 3.04000000e+00, 8.77000000e+00, 4.00000000e-02,\n",
              "       7.76000000e+00, 1.40000000e-01, 5.06000000e+00, 4.65000000e+00,\n",
              "       2.46000000e+00, 4.24000000e+00, 1.81300000e+01, 3.92000000e+00,\n",
              "       5.08000000e+00, 7.97000000e+00, 1.72760000e+02, 2.50000000e+00,\n",
              "       7.69200000e+01, 3.51000000e+00, 1.49000000e+00, 4.55000000e+00,\n",
              "       4.14000000e+00, 4.72000000e+00, 1.99100000e+01, 3.68700000e+01,\n",
              "       3.60000000e+00, 1.30000000e-01, 2.43000000e+00, 5.85000000e+00,\n",
              "       3.46000000e+00, 5.27000000e+00, 8.00000000e-02, 3.90000000e+00,\n",
              "       3.59000000e+00, 4.26000000e+00, 3.66000000e+00, 7.96000000e+00,\n",
              "       6.00000000e-02, 3.95000000e+00, 2.47000000e+00, 7.00000000e-02,\n",
              "       2.49000000e+00, 3.63000000e+00, 7.38000000e+00, 6.70000000e+00,\n",
              "       1.76000000e+00, 9.46800000e+01, 7.12000000e+00, 4.61000000e+00,\n",
              "       3.94000000e+00, 4.60000000e+00, 5.98000000e+00, 5.01000000e+00,\n",
              "       7.09000000e+00, 3.75700000e+01, 4.31000000e+00, 9.40700000e+01,\n",
              "       4.22000000e+00, 2.80000000e+00, 2.00000000e-02, 8.15000000e+00,\n",
              "       1.10000000e-01, 5.40000000e+00, 4.80000000e+00, 1.63000000e+01,\n",
              "       3.63000000e+01, 4.78000000e+00, 2.75000000e+00, 1.20300000e+01,\n",
              "       3.96000000e+00, 4.48000000e+00, 1.90000000e-01, 4.28000000e+00,\n",
              "       8.27000000e+00, 3.24500000e+01, 3.23000000e+00, 4.16000000e+00,\n",
              "       1.03100000e+01, 3.61000000e+00, 4.71000000e+02, 6.31000000e+00,\n",
              "       1.00000000e-01, 3.84000000e+00, 5.00000000e-02, 7.65000000e+00,\n",
              "       4.04900000e+01, 2.78000000e+00, 3.18000000e+00, 1.92000000e+00,\n",
              "       2.74000000e+00, 5.51000000e+00, 7.99000000e+00, 5.20000000e+00,\n",
              "       6.87000000e+01, 3.51000000e+01, 5.26000000e+00, 7.60300000e+01,\n",
              "       5.78400000e+01, 5.41000000e+00, 4.77000000e+00, 2.87000000e+00,\n",
              "       5.70500000e+01, 1.04800000e+02, 3.60100000e+01, 3.65000000e+01,\n",
              "       4.86000000e+00, 7.79000000e+00, 3.06000000e+00, 8.37000000e+00,\n",
              "       3.86000000e+00, 3.83500000e+01, 1.32000000e+01, 3.91000000e+00,\n",
              "       1.04000000e+01, 9.81000000e+00, 4.19000000e+01, 4.04000000e+00,\n",
              "       3.99000000e+00, 5.75000000e+00, 1.20000000e-01, 9.00000000e-02,\n",
              "       4.46000000e+00, 6.63000000e+00, 4.37000000e+00, 1.73000000e+00,\n",
              "       3.70000000e+00, 3.08000000e+00, 2.02000000e+00, 7.36000000e+00,\n",
              "       3.20000000e+01, 1.05600000e+01, 2.56000000e+00, 4.39000000e+00,\n",
              "       3.00000000e+01, 3.60200000e+01, 8.44000000e+00, 4.07000000e+00,\n",
              "       5.64000000e+00, 5.58000000e+00, 7.26200000e+01, 2.29000000e+00,\n",
              "       7.33300000e+01, 4.27000000e+00, 2.20600000e+01, 4.85000000e+00,\n",
              "       3.48000000e+00, 3.47000000e+00, 4.08000000e+00, 9.76000000e+00,\n",
              "       2.26000000e+00, 4.69000000e+00, 2.63000000e+00, 4.64100000e+01,\n",
              "       4.45000000e+00, 5.13000000e+00, 4.66000000e+00, 4.83000000e+00,\n",
              "       2.73000000e+00, 3.67000000e+00, 4.11000000e+00, 4.33000000e+00,\n",
              "       1.77800000e+01, 2.48000000e+00, 4.68000000e+00, 5.20000000e+01,\n",
              "       2.83000000e+00, 5.25000000e+00, 4.15000000e+01, 8.12000000e+01,\n",
              "       4.49000000e+00, 9.30600000e+01, 4.63000000e+00, 3.09000000e+01,\n",
              "       1.50000000e+01, 3.27000000e+00, 7.66700000e+01, 3.96600000e+01,\n",
              "       4.03000000e+00, 1.19790000e+02, 3.66100000e+01, 5.17000000e+00,\n",
              "       5.99000000e+00, 1.91100000e+01, 4.00000000e+01, 9.84000000e+00,\n",
              "       1.50500000e+01, 3.90900000e+01, 8.03000000e+00, 3.89800000e+01,\n",
              "       1.36200000e+01, 9.54000000e+00, 2.99000000e+00, 2.91000000e+00,\n",
              "       4.73000000e+00, 6.07000000e+00, 4.13000000e+01, 4.94000000e+00,\n",
              "       9.10000000e+00, 5.55600000e+02, 3.00000000e-02, 3.19000000e+00,\n",
              "       2.34000000e+00, 1.49000000e+01, 6.03000000e+00, 4.17000000e+00,\n",
              "       5.67000000e+00, 9.55000000e+00, 4.41000000e+00, 4.53000000e+00,\n",
              "       1.72000000e+00, 3.01000000e+00, 3.72200000e+01, 3.18900000e+01,\n",
              "       1.33600000e+01, 2.89000000e+00, 9.18000000e+00, 4.98000000e+00,\n",
              "       1.20600000e+01])"
            ]
          },
          "metadata": {},
          "execution_count": 71
        }
      ]
    },
    {
      "cell_type": "code",
      "source": [
        "df['N_F'] = df['sold_price']/df['sqrt_ft']"
      ],
      "metadata": {
        "id": "behxbPaKPTwu"
      },
      "execution_count": 72,
      "outputs": []
    },
    {
      "cell_type": "code",
      "source": [
        "df.head()"
      ],
      "metadata": {
        "colab": {
          "base_uri": "https://localhost:8080/",
          "height": 250
        },
        "id": "Px5ZJLzXPwEW",
        "outputId": "a1e12f22-cbd6-4303-e82e-dded17faa40b"
      },
      "execution_count": 73,
      "outputs": [
        {
          "output_type": "execute_result",
          "data": {
            "text/plain": [
              "        MLS  sold_price  zipcode   longitude   latitude  lot_acres     taxes  \\\n",
              "0  21530491   5300000.0    85637 -110.378200  31.356362    2154.00   5272.00   \n",
              "1  21529082   4200000.0    85646 -111.045371  31.594213    1707.00  10422.36   \n",
              "2   3054672   4200000.0    85646 -111.040707  31.594844    1707.00  10482.00   \n",
              "3  21919321   4500000.0    85646 -111.035925  31.645878     636.67   8418.58   \n",
              "4  21306357   3411450.0    85750 -110.813768  32.285162       3.21  15393.00   \n",
              "\n",
              "   year_built  bedrooms  bathrooms  sqrt_ft    garage fireplaces HOA  \\\n",
              "0        1941        13       10.0  10500.0  0.000000          6   0   \n",
              "1        1997         2        2.0   7300.0  0.000000          5   0   \n",
              "2        1997         2        3.0   3511.0  2.817234          5  -1   \n",
              "3        1930         7        5.0   9019.0  4.000000          4  -1   \n",
              "4        1995         4        6.0   6396.0  3.000000          5  55   \n",
              "\n",
              "           N_F  \n",
              "0   504.761905  \n",
              "1   575.342466  \n",
              "2  1196.240387  \n",
              "3   498.946668  \n",
              "4   533.372420  "
            ],
            "text/html": [
              "\n",
              "  <div id=\"df-2b8a6d94-4bbc-4177-b966-e00b3de1d584\">\n",
              "    <div class=\"colab-df-container\">\n",
              "      <div>\n",
              "<style scoped>\n",
              "    .dataframe tbody tr th:only-of-type {\n",
              "        vertical-align: middle;\n",
              "    }\n",
              "\n",
              "    .dataframe tbody tr th {\n",
              "        vertical-align: top;\n",
              "    }\n",
              "\n",
              "    .dataframe thead th {\n",
              "        text-align: right;\n",
              "    }\n",
              "</style>\n",
              "<table border=\"1\" class=\"dataframe\">\n",
              "  <thead>\n",
              "    <tr style=\"text-align: right;\">\n",
              "      <th></th>\n",
              "      <th>MLS</th>\n",
              "      <th>sold_price</th>\n",
              "      <th>zipcode</th>\n",
              "      <th>longitude</th>\n",
              "      <th>latitude</th>\n",
              "      <th>lot_acres</th>\n",
              "      <th>taxes</th>\n",
              "      <th>year_built</th>\n",
              "      <th>bedrooms</th>\n",
              "      <th>bathrooms</th>\n",
              "      <th>sqrt_ft</th>\n",
              "      <th>garage</th>\n",
              "      <th>fireplaces</th>\n",
              "      <th>HOA</th>\n",
              "      <th>N_F</th>\n",
              "    </tr>\n",
              "  </thead>\n",
              "  <tbody>\n",
              "    <tr>\n",
              "      <th>0</th>\n",
              "      <td>21530491</td>\n",
              "      <td>5300000.0</td>\n",
              "      <td>85637</td>\n",
              "      <td>-110.378200</td>\n",
              "      <td>31.356362</td>\n",
              "      <td>2154.00</td>\n",
              "      <td>5272.00</td>\n",
              "      <td>1941</td>\n",
              "      <td>13</td>\n",
              "      <td>10.0</td>\n",
              "      <td>10500.0</td>\n",
              "      <td>0.000000</td>\n",
              "      <td>6</td>\n",
              "      <td>0</td>\n",
              "      <td>504.761905</td>\n",
              "    </tr>\n",
              "    <tr>\n",
              "      <th>1</th>\n",
              "      <td>21529082</td>\n",
              "      <td>4200000.0</td>\n",
              "      <td>85646</td>\n",
              "      <td>-111.045371</td>\n",
              "      <td>31.594213</td>\n",
              "      <td>1707.00</td>\n",
              "      <td>10422.36</td>\n",
              "      <td>1997</td>\n",
              "      <td>2</td>\n",
              "      <td>2.0</td>\n",
              "      <td>7300.0</td>\n",
              "      <td>0.000000</td>\n",
              "      <td>5</td>\n",
              "      <td>0</td>\n",
              "      <td>575.342466</td>\n",
              "    </tr>\n",
              "    <tr>\n",
              "      <th>2</th>\n",
              "      <td>3054672</td>\n",
              "      <td>4200000.0</td>\n",
              "      <td>85646</td>\n",
              "      <td>-111.040707</td>\n",
              "      <td>31.594844</td>\n",
              "      <td>1707.00</td>\n",
              "      <td>10482.00</td>\n",
              "      <td>1997</td>\n",
              "      <td>2</td>\n",
              "      <td>3.0</td>\n",
              "      <td>3511.0</td>\n",
              "      <td>2.817234</td>\n",
              "      <td>5</td>\n",
              "      <td>-1</td>\n",
              "      <td>1196.240387</td>\n",
              "    </tr>\n",
              "    <tr>\n",
              "      <th>3</th>\n",
              "      <td>21919321</td>\n",
              "      <td>4500000.0</td>\n",
              "      <td>85646</td>\n",
              "      <td>-111.035925</td>\n",
              "      <td>31.645878</td>\n",
              "      <td>636.67</td>\n",
              "      <td>8418.58</td>\n",
              "      <td>1930</td>\n",
              "      <td>7</td>\n",
              "      <td>5.0</td>\n",
              "      <td>9019.0</td>\n",
              "      <td>4.000000</td>\n",
              "      <td>4</td>\n",
              "      <td>-1</td>\n",
              "      <td>498.946668</td>\n",
              "    </tr>\n",
              "    <tr>\n",
              "      <th>4</th>\n",
              "      <td>21306357</td>\n",
              "      <td>3411450.0</td>\n",
              "      <td>85750</td>\n",
              "      <td>-110.813768</td>\n",
              "      <td>32.285162</td>\n",
              "      <td>3.21</td>\n",
              "      <td>15393.00</td>\n",
              "      <td>1995</td>\n",
              "      <td>4</td>\n",
              "      <td>6.0</td>\n",
              "      <td>6396.0</td>\n",
              "      <td>3.000000</td>\n",
              "      <td>5</td>\n",
              "      <td>55</td>\n",
              "      <td>533.372420</td>\n",
              "    </tr>\n",
              "  </tbody>\n",
              "</table>\n",
              "</div>\n",
              "      <button class=\"colab-df-convert\" onclick=\"convertToInteractive('df-2b8a6d94-4bbc-4177-b966-e00b3de1d584')\"\n",
              "              title=\"Convert this dataframe to an interactive table.\"\n",
              "              style=\"display:none;\">\n",
              "        \n",
              "  <svg xmlns=\"http://www.w3.org/2000/svg\" height=\"24px\"viewBox=\"0 0 24 24\"\n",
              "       width=\"24px\">\n",
              "    <path d=\"M0 0h24v24H0V0z\" fill=\"none\"/>\n",
              "    <path d=\"M18.56 5.44l.94 2.06.94-2.06 2.06-.94-2.06-.94-.94-2.06-.94 2.06-2.06.94zm-11 1L8.5 8.5l.94-2.06 2.06-.94-2.06-.94L8.5 2.5l-.94 2.06-2.06.94zm10 10l.94 2.06.94-2.06 2.06-.94-2.06-.94-.94-2.06-.94 2.06-2.06.94z\"/><path d=\"M17.41 7.96l-1.37-1.37c-.4-.4-.92-.59-1.43-.59-.52 0-1.04.2-1.43.59L10.3 9.45l-7.72 7.72c-.78.78-.78 2.05 0 2.83L4 21.41c.39.39.9.59 1.41.59.51 0 1.02-.2 1.41-.59l7.78-7.78 2.81-2.81c.8-.78.8-2.07 0-2.86zM5.41 20L4 18.59l7.72-7.72 1.47 1.35L5.41 20z\"/>\n",
              "  </svg>\n",
              "      </button>\n",
              "      \n",
              "  <style>\n",
              "    .colab-df-container {\n",
              "      display:flex;\n",
              "      flex-wrap:wrap;\n",
              "      gap: 12px;\n",
              "    }\n",
              "\n",
              "    .colab-df-convert {\n",
              "      background-color: #E8F0FE;\n",
              "      border: none;\n",
              "      border-radius: 50%;\n",
              "      cursor: pointer;\n",
              "      display: none;\n",
              "      fill: #1967D2;\n",
              "      height: 32px;\n",
              "      padding: 0 0 0 0;\n",
              "      width: 32px;\n",
              "    }\n",
              "\n",
              "    .colab-df-convert:hover {\n",
              "      background-color: #E2EBFA;\n",
              "      box-shadow: 0px 1px 2px rgba(60, 64, 67, 0.3), 0px 1px 3px 1px rgba(60, 64, 67, 0.15);\n",
              "      fill: #174EA6;\n",
              "    }\n",
              "\n",
              "    [theme=dark] .colab-df-convert {\n",
              "      background-color: #3B4455;\n",
              "      fill: #D2E3FC;\n",
              "    }\n",
              "\n",
              "    [theme=dark] .colab-df-convert:hover {\n",
              "      background-color: #434B5C;\n",
              "      box-shadow: 0px 1px 3px 1px rgba(0, 0, 0, 0.15);\n",
              "      filter: drop-shadow(0px 1px 2px rgba(0, 0, 0, 0.3));\n",
              "      fill: #FFFFFF;\n",
              "    }\n",
              "  </style>\n",
              "\n",
              "      <script>\n",
              "        const buttonEl =\n",
              "          document.querySelector('#df-2b8a6d94-4bbc-4177-b966-e00b3de1d584 button.colab-df-convert');\n",
              "        buttonEl.style.display =\n",
              "          google.colab.kernel.accessAllowed ? 'block' : 'none';\n",
              "\n",
              "        async function convertToInteractive(key) {\n",
              "          const element = document.querySelector('#df-2b8a6d94-4bbc-4177-b966-e00b3de1d584');\n",
              "          const dataTable =\n",
              "            await google.colab.kernel.invokeFunction('convertToInteractive',\n",
              "                                                     [key], {});\n",
              "          if (!dataTable) return;\n",
              "\n",
              "          const docLinkHtml = 'Like what you see? Visit the ' +\n",
              "            '<a target=\"_blank\" href=https://colab.research.google.com/notebooks/data_table.ipynb>data table notebook</a>'\n",
              "            + ' to learn more about interactive tables.';\n",
              "          element.innerHTML = '';\n",
              "          dataTable['output_type'] = 'display_data';\n",
              "          await google.colab.output.renderOutput(dataTable, element);\n",
              "          const docLink = document.createElement('div');\n",
              "          docLink.innerHTML = docLinkHtml;\n",
              "          element.appendChild(docLink);\n",
              "        }\n",
              "      </script>\n",
              "    </div>\n",
              "  </div>\n",
              "  "
            ]
          },
          "metadata": {},
          "execution_count": 73
        }
      ]
    },
    {
      "cell_type": "code",
      "source": [
        "df['N_F'].hist(bins = 60, figsize=(16, 8))"
      ],
      "metadata": {
        "colab": {
          "base_uri": "https://localhost:8080/",
          "height": 500
        },
        "id": "ylc741O9Pz5t",
        "outputId": "3ed61914-c3bc-477c-bcf0-b1ba6d43f55f"
      },
      "execution_count": 74,
      "outputs": [
        {
          "output_type": "execute_result",
          "data": {
            "text/plain": [
              "<matplotlib.axes._subplots.AxesSubplot at 0x7f2e1599e490>"
            ]
          },
          "metadata": {},
          "execution_count": 74
        },
        {
          "output_type": "display_data",
          "data": {
            "text/plain": [
              "<Figure size 1152x576 with 1 Axes>"
            ],
            "image/png": "[encoded data removed]"
          },
          "metadata": {
            "needs_background": "light"
          }
        }
      ]
    },
    {
      "cell_type": "code",
      "source": [
        "def classifier(columns):\n",
        "  if columns <= 200:\n",
        "    return 1\n",
        "  elif columns > 200 and columns <= 400:\n",
        "    return 2\n",
        "  elif columns > 400 and columns <= 600:\n",
        "    return 3\n",
        "  else:\n",
        "    return 4\n",
        "\n",
        "\n",
        "\n"
      ],
      "metadata": {
        "id": "2ybOBHfOjLEq"
      },
      "execution_count": 75,
      "outputs": []
    },
    {
      "cell_type": "code",
      "source": [
        "df['C-F']=df['N_F'].map(lambda x: classifier(x))"
      ],
      "metadata": {
        "id": "-gtZP8Fq6u1k"
      },
      "execution_count": 76,
      "outputs": []
    },
    {
      "cell_type": "code",
      "source": [
        "corr = df.corr()\n",
        "plt.figure(figsize=(20,8))\n",
        "sns.heatmap(corr, annot = True)"
      ],
      "metadata": {
        "colab": {
          "base_uri": "https://localhost:8080/",
          "height": 505
        },
        "id": "BfZ7mJtXhFZw",
        "outputId": "b737a504-401e-450f-dd45-a281a583f0d7"
      },
      "execution_count": 77,
      "outputs": [
        {
          "output_type": "execute_result",
          "data": {
            "text/plain": [
              "<matplotlib.axes._subplots.AxesSubplot at 0x7f2e158d6610>"
            ]
          },
          "metadata": {},
          "execution_count": 77
        },
        {
          "output_type": "display_data",
          "data": {
            "text/plain": [
              "<Figure size 1440x576 with 2 Axes>"
            ],
            "image/png": "[encoded data removed]"
          },
          "metadata": {
            "needs_background": "light"
          }
        }
      ]
    },
    {
      "cell_type": "code",
      "source": [
        "df.head(100)"
      ],
      "metadata": {
        "colab": {
          "base_uri": "https://localhost:8080/",
          "height": 505
        },
        "id": "Kc-ShO0JKkk0",
        "outputId": "7cf34d3a-7318-44e2-85d4-5a183d8eedbc"
      },
      "execution_count": 78,
      "outputs": [
        {
          "output_type": "execute_result",
          "data": {
            "text/plain": [
              "         MLS  sold_price  zipcode   longitude   latitude  lot_acres     taxes  \\\n",
              "0   21530491   5300000.0    85637 -110.378200  31.356362    2154.00   5272.00   \n",
              "1   21529082   4200000.0    85646 -111.045371  31.594213    1707.00  10422.36   \n",
              "2    3054672   4200000.0    85646 -111.040707  31.594844    1707.00  10482.00   \n",
              "3   21919321   4500000.0    85646 -111.035925  31.645878     636.67   8418.58   \n",
              "4   21306357   3411450.0    85750 -110.813768  32.285162       3.21  15393.00   \n",
              "..       ...         ...      ...         ...        ...        ...       ...   \n",
              "95  21317138   1680000.0    85750 -110.866463  32.331701       1.26   3646.42   \n",
              "96  21221092   1750000.0    85658 -111.095519  32.471311       0.47  11139.10   \n",
              "97  21901825   1937000.0    85658 -111.093751  32.470017       0.58   1989.90   \n",
              "98  21409831   1831392.0    85658 -111.097132  32.468215       0.46   1609.59   \n",
              "99  21412375   1650000.0    85658 -111.036562  32.455744       4.15  18658.00   \n",
              "\n",
              "    year_built  bedrooms  bathrooms  sqrt_ft    garage fireplaces  HOA  \\\n",
              "0         1941        13       10.0  10500.0  0.000000          6    0   \n",
              "1         1997         2        2.0   7300.0  0.000000          5    0   \n",
              "2         1997         2        3.0   3511.0  2.817234          5   -1   \n",
              "3         1930         7        5.0   9019.0  4.000000          4   -1   \n",
              "4         1995         4        6.0   6396.0  3.000000          5   55   \n",
              "..         ...       ...        ...      ...       ...        ...  ...   \n",
              "95        2013         5        5.0   5432.0  4.000000          3  220   \n",
              "96        2008         4        5.0   4724.0  3.000000          2  550   \n",
              "97        2019         4        5.0   3620.0  3.000000          2  550   \n",
              "98        2015         3        4.0   3276.0  2.000000          2  550   \n",
              "99        2009         3        4.0   5440.0  3.000000          3  250   \n",
              "\n",
              "            N_F  C-F  \n",
              "0    504.761905    3  \n",
              "1    575.342466    3  \n",
              "2   1196.240387    4  \n",
              "3    498.946668    3  \n",
              "4    533.372420    3  \n",
              "..          ...  ...  \n",
              "95   309.278351    2  \n",
              "96   370.448772    2  \n",
              "97   535.082873    3  \n",
              "98   559.032967    3  \n",
              "99   303.308824    2  \n",
              "\n",
              "[100 rows x 16 columns]"
            ],
            "text/html": [
              "\n",
              "  <div id=\"df-87ee38fb-8a5e-4b10-b0ec-bcf794fd2f0d\">\n",
              "    <div class=\"colab-df-container\">\n",
              "      <div>\n",
              "<style scoped>\n",
              "    .dataframe tbody tr th:only-of-type {\n",
              "        vertical-align: middle;\n",
              "    }\n",
              "\n",
              "    .dataframe tbody tr th {\n",
              "        vertical-align: top;\n",
              "    }\n",
              "\n",
              "    .dataframe thead th {\n",
              "        text-align: right;\n",
              "    }\n",
              "</style>\n",
              "<table border=\"1\" class=\"dataframe\">\n",
              "  <thead>\n",
              "    <tr style=\"text-align: right;\">\n",
              "      <th></th>\n",
              "      <th>MLS</th>\n",
              "      <th>sold_price</th>\n",
              "      <th>zipcode</th>\n",
              "      <th>longitude</th>\n",
              "      <th>latitude</th>\n",
              "      <th>lot_acres</th>\n",
              "      <th>taxes</th>\n",
              "      <th>year_built</th>\n",
              "      <th>bedrooms</th>\n",
              "      <th>bathrooms</th>\n",
              "      <th>sqrt_ft</th>\n",
              "      <th>garage</th>\n",
              "      <th>fireplaces</th>\n",
              "      <th>HOA</th>\n",
              "      <th>N_F</th>\n",
              "      <th>C-F</th>\n",
              "    </tr>\n",
              "  </thead>\n",
              "  <tbody>\n",
              "    <tr>\n",
              "      <th>0</th>\n",
              "      <td>21530491</td>\n",
              "      <td>5300000.0</td>\n",
              "      <td>85637</td>\n",
              "      <td>-110.378200</td>\n",
              "      <td>31.356362</td>\n",
              "      <td>2154.00</td>\n",
              "      <td>5272.00</td>\n",
              "      <td>1941</td>\n",
              "      <td>13</td>\n",
              "      <td>10.0</td>\n",
              "      <td>10500.0</td>\n",
              "      <td>0.000000</td>\n",
              "      <td>6</td>\n",
              "      <td>0</td>\n",
              "      <td>504.761905</td>\n",
              "      <td>3</td>\n",
              "    </tr>\n",
              "    <tr>\n",
              "      <th>1</th>\n",
              "      <td>21529082</td>\n",
              "      <td>4200000.0</td>\n",
              "      <td>85646</td>\n",
              "      <td>-111.045371</td>\n",
              "      <td>31.594213</td>\n",
              "      <td>1707.00</td>\n",
              "      <td>10422.36</td>\n",
              "      <td>1997</td>\n",
              "      <td>2</td>\n",
              "      <td>2.0</td>\n",
              "      <td>7300.0</td>\n",
              "      <td>0.000000</td>\n",
              "      <td>5</td>\n",
              "      <td>0</td>\n",
              "      <td>575.342466</td>\n",
              "      <td>3</td>\n",
              "    </tr>\n",
              "    <tr>\n",
              "      <th>2</th>\n",
              "      <td>3054672</td>\n",
              "      <td>4200000.0</td>\n",
              "      <td>85646</td>\n",
              "      <td>-111.040707</td>\n",
              "      <td>31.594844</td>\n",
              "      <td>1707.00</td>\n",
              "      <td>10482.00</td>\n",
              "      <td>1997</td>\n",
              "      <td>2</td>\n",
              "      <td>3.0</td>\n",
              "      <td>3511.0</td>\n",
              "      <td>2.817234</td>\n",
              "      <td>5</td>\n",
              "      <td>-1</td>\n",
              "      <td>1196.240387</td>\n",
              "      <td>4</td>\n",
              "    </tr>\n",
              "    <tr>\n",
              "      <th>3</th>\n",
              "      <td>21919321</td>\n",
              "      <td>4500000.0</td>\n",
              "      <td>85646</td>\n",
              "      <td>-111.035925</td>\n",
              "      <td>31.645878</td>\n",
              "      <td>636.67</td>\n",
              "      <td>8418.58</td>\n",
              "      <td>1930</td>\n",
              "      <td>7</td>\n",
              "      <td>5.0</td>\n",
              "      <td>9019.0</td>\n",
              "      <td>4.000000</td>\n",
              "      <td>4</td>\n",
              "      <td>-1</td>\n",
              "      <td>498.946668</td>\n",
              "      <td>3</td>\n",
              "    </tr>\n",
              "    <tr>\n",
              "      <th>4</th>\n",
              "      <td>21306357</td>\n",
              "      <td>3411450.0</td>\n",
              "      <td>85750</td>\n",
              "      <td>-110.813768</td>\n",
              "      <td>32.285162</td>\n",
              "      <td>3.21</td>\n",
              "      <td>15393.00</td>\n",
              "      <td>1995</td>\n",
              "      <td>4</td>\n",
              "      <td>6.0</td>\n",
              "      <td>6396.0</td>\n",
              "      <td>3.000000</td>\n",
              "      <td>5</td>\n",
              "      <td>55</td>\n",
              "      <td>533.372420</td>\n",
              "      <td>3</td>\n",
              "    </tr>\n",
              "    <tr>\n",
              "      <th>...</th>\n",
              "      <td>...</td>\n",
              "      <td>...</td>\n",
              "      <td>...</td>\n",
              "      <td>...</td>\n",
              "      <td>...</td>\n",
              "      <td>...</td>\n",
              "      <td>...</td>\n",
              "      <td>...</td>\n",
              "      <td>...</td>\n",
              "      <td>...</td>\n",
              "      <td>...</td>\n",
              "      <td>...</td>\n",
              "      <td>...</td>\n",
              "      <td>...</td>\n",
              "      <td>...</td>\n",
              "      <td>...</td>\n",
              "    </tr>\n",
              "    <tr>\n",
              "      <th>95</th>\n",
              "      <td>21317138</td>\n",
              "      <td>1680000.0</td>\n",
              "      <td>85750</td>\n",
              "      <td>-110.866463</td>\n",
              "      <td>32.331701</td>\n",
              "      <td>1.26</td>\n",
              "      <td>3646.42</td>\n",
              "      <td>2013</td>\n",
              "      <td>5</td>\n",
              "      <td>5.0</td>\n",
              "      <td>5432.0</td>\n",
              "      <td>4.000000</td>\n",
              "      <td>3</td>\n",
              "      <td>220</td>\n",
              "      <td>309.278351</td>\n",
              "      <td>2</td>\n",
              "    </tr>\n",
              "    <tr>\n",
              "      <th>96</th>\n",
              "      <td>21221092</td>\n",
              "      <td>1750000.0</td>\n",
              "      <td>85658</td>\n",
              "      <td>-111.095519</td>\n",
              "      <td>32.471311</td>\n",
              "      <td>0.47</td>\n",
              "      <td>11139.10</td>\n",
              "      <td>2008</td>\n",
              "      <td>4</td>\n",
              "      <td>5.0</td>\n",
              "      <td>4724.0</td>\n",
              "      <td>3.000000</td>\n",
              "      <td>2</td>\n",
              "      <td>550</td>\n",
              "      <td>370.448772</td>\n",
              "      <td>2</td>\n",
              "    </tr>\n",
              "    <tr>\n",
              "      <th>97</th>\n",
              "      <td>21901825</td>\n",
              "      <td>1937000.0</td>\n",
              "      <td>85658</td>\n",
              "      <td>-111.093751</td>\n",
              "      <td>32.470017</td>\n",
              "      <td>0.58</td>\n",
              "      <td>1989.90</td>\n",
              "      <td>2019</td>\n",
              "      <td>4</td>\n",
              "      <td>5.0</td>\n",
              "      <td>3620.0</td>\n",
              "      <td>3.000000</td>\n",
              "      <td>2</td>\n",
              "      <td>550</td>\n",
              "      <td>535.082873</td>\n",
              "      <td>3</td>\n",
              "    </tr>\n",
              "    <tr>\n",
              "      <th>98</th>\n",
              "      <td>21409831</td>\n",
              "      <td>1831392.0</td>\n",
              "      <td>85658</td>\n",
              "      <td>-111.097132</td>\n",
              "      <td>32.468215</td>\n",
              "      <td>0.46</td>\n",
              "      <td>1609.59</td>\n",
              "      <td>2015</td>\n",
              "      <td>3</td>\n",
              "      <td>4.0</td>\n",
              "      <td>3276.0</td>\n",
              "      <td>2.000000</td>\n",
              "      <td>2</td>\n",
              "      <td>550</td>\n",
              "      <td>559.032967</td>\n",
              "      <td>3</td>\n",
              "    </tr>\n",
              "    <tr>\n",
              "      <th>99</th>\n",
              "      <td>21412375</td>\n",
              "      <td>1650000.0</td>\n",
              "      <td>85658</td>\n",
              "      <td>-111.036562</td>\n",
              "      <td>32.455744</td>\n",
              "      <td>4.15</td>\n",
              "      <td>18658.00</td>\n",
              "      <td>2009</td>\n",
              "      <td>3</td>\n",
              "      <td>4.0</td>\n",
              "      <td>5440.0</td>\n",
              "      <td>3.000000</td>\n",
              "      <td>3</td>\n",
              "      <td>250</td>\n",
              "      <td>303.308824</td>\n",
              "      <td>2</td>\n",
              "    </tr>\n",
              "  </tbody>\n",
              "</table>\n",
              "<p>100 rows × 16 columns</p>\n",
              "</div>\n",
              "      <button class=\"colab-df-convert\" onclick=\"convertToInteractive('df-87ee38fb-8a5e-4b10-b0ec-bcf794fd2f0d')\"\n",
              "              title=\"Convert this dataframe to an interactive table.\"\n",
              "              style=\"display:none;\">\n",
              "        \n",
              "  <svg xmlns=\"http://www.w3.org/2000/svg\" height=\"24px\"viewBox=\"0 0 24 24\"\n",
              "       width=\"24px\">\n",
              "    <path d=\"M0 0h24v24H0V0z\" fill=\"none\"/>\n",
              "    <path d=\"M18.56 5.44l.94 2.06.94-2.06 2.06-.94-2.06-.94-.94-2.06-.94 2.06-2.06.94zm-11 1L8.5 8.5l.94-2.06 2.06-.94-2.06-.94L8.5 2.5l-.94 2.06-2.06.94zm10 10l.94 2.06.94-2.06 2.06-.94-2.06-.94-.94-2.06-.94 2.06-2.06.94z\"/><path d=\"M17.41 7.96l-1.37-1.37c-.4-.4-.92-.59-1.43-.59-.52 0-1.04.2-1.43.59L10.3 9.45l-7.72 7.72c-.78.78-.78 2.05 0 2.83L4 21.41c.39.39.9.59 1.41.59.51 0 1.02-.2 1.41-.59l7.78-7.78 2.81-2.81c.8-.78.8-2.07 0-2.86zM5.41 20L4 18.59l7.72-7.72 1.47 1.35L5.41 20z\"/>\n",
              "  </svg>\n",
              "      </button>\n",
              "      \n",
              "  <style>\n",
              "    .colab-df-container {\n",
              "      display:flex;\n",
              "      flex-wrap:wrap;\n",
              "      gap: 12px;\n",
              "    }\n",
              "\n",
              "    .colab-df-convert {\n",
              "      background-color: #E8F0FE;\n",
              "      border: none;\n",
              "      border-radius: 50%;\n",
              "      cursor: pointer;\n",
              "      display: none;\n",
              "      fill: #1967D2;\n",
              "      height: 32px;\n",
              "      padding: 0 0 0 0;\n",
              "      width: 32px;\n",
              "    }\n",
              "\n",
              "    .colab-df-convert:hover {\n",
              "      background-color: #E2EBFA;\n",
              "      box-shadow: 0px 1px 2px rgba(60, 64, 67, 0.3), 0px 1px 3px 1px rgba(60, 64, 67, 0.15);\n",
              "      fill: #174EA6;\n",
              "    }\n",
              "\n",
              "    [theme=dark] .colab-df-convert {\n",
              "      background-color: #3B4455;\n",
              "      fill: #D2E3FC;\n",
              "    }\n",
              "\n",
              "    [theme=dark] .colab-df-convert:hover {\n",
              "      background-color: #434B5C;\n",
              "      box-shadow: 0px 1px 3px 1px rgba(0, 0, 0, 0.15);\n",
              "      filter: drop-shadow(0px 1px 2px rgba(0, 0, 0, 0.3));\n",
              "      fill: #FFFFFF;\n",
              "    }\n",
              "  </style>\n",
              "\n",
              "      <script>\n",
              "        const buttonEl =\n",
              "          document.querySelector('#df-87ee38fb-8a5e-4b10-b0ec-bcf794fd2f0d button.colab-df-convert');\n",
              "        buttonEl.style.display =\n",
              "          google.colab.kernel.accessAllowed ? 'block' : 'none';\n",
              "\n",
              "        async function convertToInteractive(key) {\n",
              "          const element = document.querySelector('#df-87ee38fb-8a5e-4b10-b0ec-bcf794fd2f0d');\n",
              "          const dataTable =\n",
              "            await google.colab.kernel.invokeFunction('convertToInteractive',\n",
              "                                                     [key], {});\n",
              "          if (!dataTable) return;\n",
              "\n",
              "          const docLinkHtml = 'Like what you see? Visit the ' +\n",
              "            '<a target=\"_blank\" href=https://colab.research.google.com/notebooks/data_table.ipynb>data table notebook</a>'\n",
              "            + ' to learn more about interactive tables.';\n",
              "          element.innerHTML = '';\n",
              "          dataTable['output_type'] = 'display_data';\n",
              "          await google.colab.output.renderOutput(dataTable, element);\n",
              "          const docLink = document.createElement('div');\n",
              "          docLink.innerHTML = docLinkHtml;\n",
              "          element.appendChild(docLink);\n",
              "        }\n",
              "      </script>\n",
              "    </div>\n",
              "  </div>\n",
              "  "
            ]
          },
          "metadata": {},
          "execution_count": 78
        }
      ]
    },
    {
      "cell_type": "code",
      "source": [
        "df.columns"
      ],
      "metadata": {
        "colab": {
          "base_uri": "https://localhost:8080/"
        },
        "id": "eiupWZmALcyh",
        "outputId": "c96bd9f2-118f-4100-b44f-045955f5ef57"
      },
      "execution_count": 79,
      "outputs": [
        {
          "output_type": "execute_result",
          "data": {
            "text/plain": [
              "Index(['MLS', 'sold_price', 'zipcode', 'longitude', 'latitude', 'lot_acres',\n",
              "       'taxes', 'year_built', 'bedrooms', 'bathrooms', 'sqrt_ft', 'garage',\n",
              "       'fireplaces', 'HOA', 'N_F', 'C-F'],\n",
              "      dtype='object')"
            ]
          },
          "metadata": {},
          "execution_count": 79
        }
      ]
    },
    {
      "cell_type": "code",
      "source": [
        "ndf = df.loc[:,[ 'sold_price', 'longitude', 'latitude', 'bedrooms', 'bathrooms', 'sqrt_ft', 'C-F']]"
      ],
      "metadata": {
        "id": "MeKZUWXFJNmo"
      },
      "execution_count": 80,
      "outputs": []
    },
    {
      "cell_type": "code",
      "source": [
        "X = ndf.to_numpy()\n",
        "random.shuffle(X)\n",
        "train_data = X[:int((len(X)+1)*.90)] #Remaining 90% to training set\n",
        "test_data = X[int((len(X)+1)*.90):] #Splits 10% data to test set"
      ],
      "metadata": {
        "id": "gxDhdEqIYcmt"
      },
      "execution_count": 81,
      "outputs": []
    },
    {
      "cell_type": "code",
      "source": [
        "train_data.shape\n",
        "\n"
      ],
      "metadata": {
        "colab": {
          "base_uri": "https://localhost:8080/"
        },
        "id": "m260a7s4aPyM",
        "outputId": "ab5aea07-02af-42fd-d3c3-82f0eefadda7"
      },
      "execution_count": 82,
      "outputs": [
        {
          "output_type": "execute_result",
          "data": {
            "text/plain": [
              "(4497, 7)"
            ]
          },
          "metadata": {},
          "execution_count": 82
        }
      ]
    },
    {
      "cell_type": "code",
      "source": [
        "test_data.shape"
      ],
      "metadata": {
        "colab": {
          "base_uri": "https://localhost:8080/"
        },
        "id": "YXZgvSOQalIz",
        "outputId": "42f31d72-e061-402e-abd5-82842f1c55fd"
      },
      "execution_count": 83,
      "outputs": [
        {
          "output_type": "execute_result",
          "data": {
            "text/plain": [
              "(499, 7)"
            ]
          },
          "metadata": {},
          "execution_count": 83
        }
      ]
    },
    {
      "cell_type": "code",
      "source": [
        "X"
      ],
      "metadata": {
        "colab": {
          "base_uri": "https://localhost:8080/"
        },
        "id": "AcSwEr6tGChM",
        "outputId": "e6c3fadb-e365-473e-ea06-0fc65b38426a"
      },
      "execution_count": 84,
      "outputs": [
        {
          "output_type": "execute_result",
          "data": {
            "text/plain": [
              "array([[ 5.30000000e+06, -1.10378200e+02,  3.13563620e+01, ...,\n",
              "         1.00000000e+01,  1.05000000e+04,  3.00000000e+00],\n",
              "       [ 4.20000000e+06, -1.11045371e+02,  3.15942130e+01, ...,\n",
              "         2.00000000e+00,  7.30000000e+03,  3.00000000e+00],\n",
              "       [ 4.20000000e+06, -1.11045371e+02,  3.15942130e+01, ...,\n",
              "         2.00000000e+00,  7.30000000e+03,  3.00000000e+00],\n",
              "       ...,\n",
              "       [ 8.25000000e+05, -1.11059711e+02,  3.24776910e+01, ...,\n",
              "         3.00000000e+00,  3.19300000e+03,  2.00000000e+00],\n",
              "       [ 6.78751730e+05, -1.10983817e+02,  3.24652000e+01, ...,\n",
              "         3.00000000e+00,  2.55000000e+03,  2.00000000e+00],\n",
              "       [ 8.50000000e+05, -1.10860943e+02,  3.22768200e+01, ...,\n",
              "         3.00000000e+00,  3.82600000e+03,  2.00000000e+00]])"
            ]
          },
          "metadata": {},
          "execution_count": 84
        }
      ]
    },
    {
      "cell_type": "code",
      "source": [
        "X.shape"
      ],
      "metadata": {
        "colab": {
          "base_uri": "https://localhost:8080/"
        },
        "id": "7Kqy-pzrbwFD",
        "outputId": "214a252a-88c6-4093-ef52-498df84c145f"
      },
      "execution_count": 85,
      "outputs": [
        {
          "output_type": "execute_result",
          "data": {
            "text/plain": [
              "(4996, 7)"
            ]
          },
          "metadata": {},
          "execution_count": 85
        }
      ]
    },
    {
      "cell_type": "code",
      "source": [
        "class KNNClassifier():\n",
        "  def fit(self, x,y):\n",
        "    self.x=x\n",
        "    self.y=y.astype(int)\n",
        "  def predict(self,x,k,epsilon=1e-3):\n",
        "    N=len(x)\n",
        "    y_hat = np.zeros(N)\n",
        "    for i in range(N):\n",
        "      #distance between one point to all other point\n",
        "      dist2=np.sum((self.x-x[i])**2, axis=1)\n",
        "      idxt=np.argsort(dist2)[:k]\n",
        "      gamma_k = 1/(np.sqrt(dist2[idxt] + epsilon))\n",
        "      y_hat[i] = np.bincount(self.y[idxt], weights = gamma_k).argmax()\n",
        "    return y_hat"
      ],
      "metadata": {
        "id": "RBdyTfwXpkdW"
      },
      "execution_count": 86,
      "outputs": []
    },
    {
      "cell_type": "code",
      "source": [
        "Gnb = KNNClassifier()"
      ],
      "metadata": {
        "id": "7gySjV7qplti"
      },
      "execution_count": 87,
      "outputs": []
    },
    {
      "cell_type": "code",
      "source": [
        "train_data"
      ],
      "metadata": {
        "colab": {
          "base_uri": "https://localhost:8080/"
        },
        "id": "GR_FJPI8e-a1",
        "outputId": "c01aa90d-e156-459f-e829-c698cddd7539"
      },
      "execution_count": 88,
      "outputs": [
        {
          "output_type": "execute_result",
          "data": {
            "text/plain": [
              "array([[ 5.30000000e+06, -1.10378200e+02,  3.13563620e+01, ...,\n",
              "         1.00000000e+01,  1.05000000e+04,  3.00000000e+00],\n",
              "       [ 4.20000000e+06, -1.11045371e+02,  3.15942130e+01, ...,\n",
              "         2.00000000e+00,  7.30000000e+03,  3.00000000e+00],\n",
              "       [ 4.20000000e+06, -1.11045371e+02,  3.15942130e+01, ...,\n",
              "         2.00000000e+00,  7.30000000e+03,  3.00000000e+00],\n",
              "       ...,\n",
              "       [ 5.55000000e+05, -1.10756023e+02,  3.22736060e+01, ...,\n",
              "         3.00000000e+00,  2.92800000e+03,  1.00000000e+00],\n",
              "       [ 2.00000000e+06, -1.10862142e+02,  3.22646950e+01, ...,\n",
              "         5.00000000e+00,  3.96900000e+03,  3.00000000e+00],\n",
              "       [ 5.65000000e+05, -1.10936021e+02,  3.22346300e+01, ...,\n",
              "         3.00000000e+00,  2.97200000e+03,  1.00000000e+00]])"
            ]
          },
          "metadata": {},
          "execution_count": 88
        }
      ]
    },
    {
      "cell_type": "code",
      "source": [
        "y_train = train_data[:,-1]"
      ],
      "metadata": {
        "id": "uAqkaABAcLKU"
      },
      "execution_count": 89,
      "outputs": []
    },
    {
      "cell_type": "code",
      "source": [
        "y_train"
      ],
      "metadata": {
        "colab": {
          "base_uri": "https://localhost:8080/"
        },
        "id": "Mm9TnnjXfMc7",
        "outputId": "25033180-dd74-44b9-9bc8-a201eb098115"
      },
      "execution_count": 90,
      "outputs": [
        {
          "output_type": "execute_result",
          "data": {
            "text/plain": [
              "array([3., 3., 3., ..., 1., 3., 1.])"
            ]
          },
          "metadata": {},
          "execution_count": 90
        }
      ]
    },
    {
      "cell_type": "code",
      "source": [
        "X_train = train_data[:,:-1]"
      ],
      "metadata": {
        "id": "PZP7wQDffSb0"
      },
      "execution_count": 91,
      "outputs": []
    },
    {
      "cell_type": "code",
      "source": [
        "def min_max_scaling(column):\n",
        "    return (column - column.min())/(column.max() - column.min())"
      ],
      "metadata": {
        "id": "0VIKfWj3nZuF"
      },
      "execution_count": 92,
      "outputs": []
    },
    {
      "cell_type": "code",
      "source": [
        "X_train"
      ],
      "metadata": {
        "colab": {
          "base_uri": "https://localhost:8080/"
        },
        "id": "4Lfl0KY-na4H",
        "outputId": "1f6e86eb-e0ed-41af-bf86-a66c95d0c5a6"
      },
      "execution_count": 93,
      "outputs": [
        {
          "output_type": "execute_result",
          "data": {
            "text/plain": [
              "array([[ 5.30000000e+06, -1.10378200e+02,  3.13563620e+01,\n",
              "         1.30000000e+01,  1.00000000e+01,  1.05000000e+04],\n",
              "       [ 4.20000000e+06, -1.11045371e+02,  3.15942130e+01,\n",
              "         2.00000000e+00,  2.00000000e+00,  7.30000000e+03],\n",
              "       [ 4.20000000e+06, -1.11045371e+02,  3.15942130e+01,\n",
              "         2.00000000e+00,  2.00000000e+00,  7.30000000e+03],\n",
              "       ...,\n",
              "       [ 5.55000000e+05, -1.10756023e+02,  3.22736060e+01,\n",
              "         5.00000000e+00,  3.00000000e+00,  2.92800000e+03],\n",
              "       [ 2.00000000e+06, -1.10862142e+02,  3.22646950e+01,\n",
              "         3.00000000e+00,  5.00000000e+00,  3.96900000e+03],\n",
              "       [ 5.65000000e+05, -1.10936021e+02,  3.22346300e+01,\n",
              "         5.00000000e+00,  3.00000000e+00,  2.97200000e+03]])"
            ]
          },
          "metadata": {},
          "execution_count": 93
        }
      ]
    },
    {
      "cell_type": "code",
      "source": [
        "X_train"
      ],
      "metadata": {
        "colab": {
          "base_uri": "https://localhost:8080/"
        },
        "id": "7wFYLj_rnjez",
        "outputId": "417c2328-e0d4-46ea-f1ba-1a50d6196293"
      },
      "execution_count": 94,
      "outputs": [
        {
          "output_type": "execute_result",
          "data": {
            "text/plain": [
              "array([[ 5.30000000e+06, -1.10378200e+02,  3.13563620e+01,\n",
              "         1.30000000e+01,  1.00000000e+01,  1.05000000e+04],\n",
              "       [ 4.20000000e+06, -1.11045371e+02,  3.15942130e+01,\n",
              "         2.00000000e+00,  2.00000000e+00,  7.30000000e+03],\n",
              "       [ 4.20000000e+06, -1.11045371e+02,  3.15942130e+01,\n",
              "         2.00000000e+00,  2.00000000e+00,  7.30000000e+03],\n",
              "       ...,\n",
              "       [ 5.55000000e+05, -1.10756023e+02,  3.22736060e+01,\n",
              "         5.00000000e+00,  3.00000000e+00,  2.92800000e+03],\n",
              "       [ 2.00000000e+06, -1.10862142e+02,  3.22646950e+01,\n",
              "         3.00000000e+00,  5.00000000e+00,  3.96900000e+03],\n",
              "       [ 5.65000000e+05, -1.10936021e+02,  3.22346300e+01,\n",
              "         5.00000000e+00,  3.00000000e+00,  2.97200000e+03]])"
            ]
          },
          "metadata": {},
          "execution_count": 94
        }
      ]
    },
    {
      "cell_type": "code",
      "source": [
        "Gnb.fit(X_train, y_train)"
      ],
      "metadata": {
        "id": "JIJr8OLnf8a6"
      },
      "execution_count": 95,
      "outputs": []
    },
    {
      "cell_type": "code",
      "source": [
        "y_test = test_data[:,-1]"
      ],
      "metadata": {
        "id": "NquHIGNQgFy6"
      },
      "execution_count": 96,
      "outputs": []
    },
    {
      "cell_type": "code",
      "source": [
        "y_test"
      ],
      "metadata": {
        "colab": {
          "base_uri": "https://localhost:8080/"
        },
        "id": "Kfg_l4vcgRhC",
        "outputId": "5d7b55d3-3230-47f8-9c3f-035e69ac2ebd"
      },
      "execution_count": 97,
      "outputs": [
        {
          "output_type": "execute_result",
          "data": {
            "text/plain": [
              "array([1., 1., 1., 1., 2., 2., 4., 1., 1., 2., 2., 2., 2., 1., 2., 1., 1.,\n",
              "       2., 1., 2., 1., 2., 2., 3., 1., 4., 2., 2., 1., 1., 2., 2., 2., 2.,\n",
              "       1., 1., 2., 1., 1., 1., 1., 1., 1., 2., 2., 1., 2., 2., 1., 2., 2.,\n",
              "       2., 1., 1., 1., 1., 1., 2., 1., 1., 2., 2., 1., 2., 2., 2., 2., 2.,\n",
              "       2., 2., 1., 1., 2., 2., 1., 2., 1., 1., 2., 2., 1., 2., 2., 2., 1.,\n",
              "       1., 1., 1., 1., 1., 1., 1., 2., 1., 1., 2., 2., 1., 1., 2., 2., 2.,\n",
              "       1., 2., 2., 2., 2., 1., 2., 2., 1., 1., 2., 2., 2., 2., 1., 2., 2.,\n",
              "       2., 1., 1., 1., 2., 1., 1., 2., 3., 1., 1., 2., 1., 1., 2., 1., 2.,\n",
              "       2., 1., 2., 2., 1., 1., 2., 2., 2., 1., 2., 1., 1., 2., 1., 1., 1.,\n",
              "       2., 1., 2., 2., 1., 2., 2., 1., 1., 1., 2., 2., 2., 2., 2., 1., 2.,\n",
              "       1., 2., 1., 2., 3., 2., 1., 1., 2., 1., 1., 2., 1., 1., 2., 1., 2.,\n",
              "       1., 1., 2., 1., 1., 1., 1., 1., 2., 1., 2., 1., 1., 2., 1., 1., 2.,\n",
              "       2., 2., 1., 2., 2., 2., 1., 2., 2., 2., 1., 2., 2., 2., 2., 1., 1.,\n",
              "       1., 3., 2., 1., 1., 2., 2., 2., 2., 2., 1., 2., 2., 2., 1., 2., 2.,\n",
              "       2., 1., 1., 1., 1., 2., 2., 2., 1., 1., 1., 1., 2., 2., 2., 1., 1.,\n",
              "       1., 1., 2., 2., 2., 2., 1., 2., 2., 1., 1., 2., 2., 2., 2., 1., 2.,\n",
              "       2., 2., 1., 2., 2., 2., 2., 1., 1., 1., 2., 2., 2., 1., 2., 2., 1.,\n",
              "       1., 1., 2., 1., 1., 2., 1., 1., 1., 2., 1., 1., 2., 1., 2., 2., 1.,\n",
              "       1., 1., 2., 2., 1., 1., 1., 2., 1., 2., 2., 1., 1., 2., 1., 2., 1.,\n",
              "       2., 3., 1., 2., 1., 2., 1., 2., 2., 2., 1., 2., 2., 1., 1., 2., 2.,\n",
              "       4., 2., 2., 2., 1., 1., 2., 2., 2., 2., 2., 1., 1., 1., 1., 2., 2.,\n",
              "       1., 1., 1., 2., 1., 1., 1., 2., 2., 2., 1., 1., 1., 1., 1., 1., 2.,\n",
              "       2., 2., 1., 1., 2., 2., 2., 2., 2., 2., 2., 1., 1., 2., 1., 1., 2.,\n",
              "       1., 2., 1., 2., 2., 2., 3., 1., 1., 1., 1., 1., 2., 2., 2., 1., 1.,\n",
              "       2., 2., 1., 1., 2., 2., 2., 1., 1., 1., 1., 2., 2., 3., 1., 2., 1.,\n",
              "       2., 1., 2., 1., 2., 1., 1., 2., 2., 2., 2., 1., 2., 2., 2., 1., 1.,\n",
              "       2., 1., 1., 2., 2., 2., 3., 1., 2., 1., 2., 2., 1., 2., 1., 2., 2.,\n",
              "       2., 2., 2., 1., 1., 2., 2., 1., 2., 1., 1., 2., 2., 1., 1., 1., 2.,\n",
              "       2., 2., 2., 2., 1., 2., 2., 2., 1., 1., 1., 2., 2., 1., 2., 2., 1.,\n",
              "       1., 1., 2., 2., 2., 2.])"
            ]
          },
          "metadata": {},
          "execution_count": 97
        }
      ]
    },
    {
      "cell_type": "code",
      "source": [
        "X_test = test_data[:,:-1]"
      ],
      "metadata": {
        "id": "JU81-NW3gf_S"
      },
      "execution_count": 98,
      "outputs": []
    },
    {
      "cell_type": "code",
      "source": [
        "X_test"
      ],
      "metadata": {
        "colab": {
          "base_uri": "https://localhost:8080/"
        },
        "id": "7o0LdFnvnniz",
        "outputId": "7ccd62e0-10c0-40a8-8ca5-e81497950a0d"
      },
      "execution_count": 99,
      "outputs": [
        {
          "output_type": "execute_result",
          "data": {
            "text/plain": [
              "array([[ 6.97000000e+05, -1.11078495e+02,  3.23978290e+01,\n",
              "         4.00000000e+00,  5.00000000e+00,  4.02300000e+03],\n",
              "       [ 6.81000000e+05, -1.10954534e+02,  3.23510660e+01,\n",
              "         4.00000000e+00,  4.00000000e+00,  3.98800000e+03],\n",
              "       [ 1.05000000e+06, -1.10859545e+02,  3.22570890e+01,\n",
              "         6.00000000e+00,  5.00000000e+00,  5.34000000e+03],\n",
              "       ...,\n",
              "       [ 8.25000000e+05, -1.11059711e+02,  3.24776910e+01,\n",
              "         2.00000000e+00,  3.00000000e+00,  3.19300000e+03],\n",
              "       [ 6.78751730e+05, -1.10983817e+02,  3.24652000e+01,\n",
              "         3.00000000e+00,  3.00000000e+00,  2.55000000e+03],\n",
              "       [ 8.50000000e+05, -1.10860943e+02,  3.22768200e+01,\n",
              "         4.00000000e+00,  3.00000000e+00,  3.82600000e+03]])"
            ]
          },
          "metadata": {},
          "execution_count": 99
        }
      ]
    },
    {
      "cell_type": "code",
      "source": [
        "X_test"
      ],
      "metadata": {
        "colab": {
          "base_uri": "https://localhost:8080/"
        },
        "id": "jPq-vUcNgmYj",
        "outputId": "000ffaa8-6b79-4c1f-a1a8-68d9abc20bdf"
      },
      "execution_count": 100,
      "outputs": [
        {
          "output_type": "execute_result",
          "data": {
            "text/plain": [
              "array([[ 6.97000000e+05, -1.11078495e+02,  3.23978290e+01,\n",
              "         4.00000000e+00,  5.00000000e+00,  4.02300000e+03],\n",
              "       [ 6.81000000e+05, -1.10954534e+02,  3.23510660e+01,\n",
              "         4.00000000e+00,  4.00000000e+00,  3.98800000e+03],\n",
              "       [ 1.05000000e+06, -1.10859545e+02,  3.22570890e+01,\n",
              "         6.00000000e+00,  5.00000000e+00,  5.34000000e+03],\n",
              "       ...,\n",
              "       [ 8.25000000e+05, -1.11059711e+02,  3.24776910e+01,\n",
              "         2.00000000e+00,  3.00000000e+00,  3.19300000e+03],\n",
              "       [ 6.78751730e+05, -1.10983817e+02,  3.24652000e+01,\n",
              "         3.00000000e+00,  3.00000000e+00,  2.55000000e+03],\n",
              "       [ 8.50000000e+05, -1.10860943e+02,  3.22768200e+01,\n",
              "         4.00000000e+00,  3.00000000e+00,  3.82600000e+03]])"
            ]
          },
          "metadata": {},
          "execution_count": 100
        }
      ]
    },
    {
      "cell_type": "code",
      "source": [
        "y_hat1 = Gnb.predict(X_test, 15)"
      ],
      "metadata": {
        "id": "cVgA9I0Ngobj"
      },
      "execution_count": 101,
      "outputs": []
    },
    {
      "cell_type": "code",
      "source": [
        "y_hat1.shape"
      ],
      "metadata": {
        "colab": {
          "base_uri": "https://localhost:8080/"
        },
        "id": "4Kjz3cJ963yK",
        "outputId": "17eba8f5-156b-4d09-eab1-17fce7502155"
      },
      "execution_count": 102,
      "outputs": [
        {
          "output_type": "execute_result",
          "data": {
            "text/plain": [
              "(499,)"
            ]
          },
          "metadata": {},
          "execution_count": 102
        }
      ]
    },
    {
      "cell_type": "code",
      "source": [
        "y_hat2 = Gnb.predict(X_train, 10)"
      ],
      "metadata": {
        "id": "0HNNms1C670C"
      },
      "execution_count": 103,
      "outputs": []
    },
    {
      "cell_type": "code",
      "source": [
        "def accuracy(y, y_hat):\n",
        "  return np.mean(y==y_hat)"
      ],
      "metadata": {
        "id": "USYMLvfN6gIi"
      },
      "execution_count": 104,
      "outputs": []
    },
    {
      "cell_type": "code",
      "source": [
        "accuracy(y_test, y_hat1)"
      ],
      "metadata": {
        "colab": {
          "base_uri": "https://localhost:8080/"
        },
        "id": "R4wt2Cyb8AHk",
        "outputId": "9f5e884b-75c8-4e73-d4ea-83ee9a3d98d6"
      },
      "execution_count": 105,
      "outputs": [
        {
          "output_type": "execute_result",
          "data": {
            "text/plain": [
              "0.9178356713426854"
            ]
          },
          "metadata": {},
          "execution_count": 105
        }
      ]
    },
    {
      "cell_type": "code",
      "source": [
        "accuracy(y_train, y_hat2)"
      ],
      "metadata": {
        "colab": {
          "base_uri": "https://localhost:8080/"
        },
        "id": "pibOqzlD8Hyi",
        "outputId": "7d4b2004-c95f-4a82-aa27-b72e0a4a21f4"
      },
      "execution_count": 106,
      "outputs": [
        {
          "output_type": "execute_result",
          "data": {
            "text/plain": [
              "1.0"
            ]
          },
          "metadata": {},
          "execution_count": 106
        }
      ]
    },
    {
      "cell_type": "code",
      "source": [
        "range1 = (df['C-F'] == 1)"
      ],
      "metadata": {
        "id": "CA4nkMWqB4fh"
      },
      "execution_count": 107,
      "outputs": []
    },
    {
      "cell_type": "code",
      "source": [
        "range1_df = df.loc[range1, ['MLS', 'sold_price', 'zipcode', 'longitude', 'latitude', 'lot_acres', 'taxes', 'year_built', 'bedrooms', 'bathrooms', 'sqrt_ft', 'garage','fireplaces', 'N_F', 'C-F']]"
      ],
      "metadata": {
        "id": "spxeekLdJBQ1"
      },
      "execution_count": 108,
      "outputs": []
    },
    {
      "cell_type": "code",
      "source": [
        "range1_df.shape"
      ],
      "metadata": {
        "colab": {
          "base_uri": "https://localhost:8080/"
        },
        "id": "L3NZpelsJs6W",
        "outputId": "b2c96fba-1550-4e88-a947-bbe08a667534"
      },
      "execution_count": 109,
      "outputs": [
        {
          "output_type": "execute_result",
          "data": {
            "text/plain": [
              "(2372, 15)"
            ]
          },
          "metadata": {},
          "execution_count": 109
        }
      ]
    },
    {
      "cell_type": "code",
      "source": [
        "range1_df.head()"
      ],
      "metadata": {
        "colab": {
          "base_uri": "https://localhost:8080/",
          "height": 250
        },
        "id": "L4YtSI1NKsxo",
        "outputId": "a5839439-35b2-42a0-a519-89c6a2dc9dca"
      },
      "execution_count": 110,
      "outputs": [
        {
          "output_type": "execute_result",
          "data": {
            "text/plain": [
              "          MLS  sold_price  zipcode   longitude   latitude  lot_acres  \\\n",
              "6    21610478   2400000.0    85712 -110.883315  32.261069       2.10   \n",
              "35   21307177   2495000.0    85637 -110.740635  31.720431     131.00   \n",
              "67   21229338   1800000.0    85712 -110.883315  32.261069       2.10   \n",
              "137  21419211   1350000.0    85750 -110.839258  32.325702       1.10   \n",
              "141  21815257    169000.0    85648 -110.918513  31.451945       0.52   \n",
              "\n",
              "        taxes  year_built  bedrooms  bathrooms  sqrt_ft  garage fireplaces  \\\n",
              "6    19038.42        2001         9        8.0  12025.0     4.0          6   \n",
              "35    1220.32           0        13       15.0  13000.0     0.0          4   \n",
              "67   23156.58        2001         9        8.0  10258.0     4.0          6   \n",
              "137  14634.00        1998         5        6.0   6756.0     4.0          2   \n",
              "141     80.83        2018         4        3.0   1700.0     2.0          0   \n",
              "\n",
              "            N_F  C-F  \n",
              "6    199.584200    1  \n",
              "35   191.923077    1  \n",
              "67   175.472802    1  \n",
              "137  199.822380    1  \n",
              "141   99.411765    1  "
            ],
            "text/html": [
              "\n",
              "  <div id=\"df-c08b7e85-e351-4208-abca-980395fc420c\">\n",
              "    <div class=\"colab-df-container\">\n",
              "      <div>\n",
              "<style scoped>\n",
              "    .dataframe tbody tr th:only-of-type {\n",
              "        vertical-align: middle;\n",
              "    }\n",
              "\n",
              "    .dataframe tbody tr th {\n",
              "        vertical-align: top;\n",
              "    }\n",
              "\n",
              "    .dataframe thead th {\n",
              "        text-align: right;\n",
              "    }\n",
              "</style>\n",
              "<table border=\"1\" class=\"dataframe\">\n",
              "  <thead>\n",
              "    <tr style=\"text-align: right;\">\n",
              "      <th></th>\n",
              "      <th>MLS</th>\n",
              "      <th>sold_price</th>\n",
              "      <th>zipcode</th>\n",
              "      <th>longitude</th>\n",
              "      <th>latitude</th>\n",
              "      <th>lot_acres</th>\n",
              "      <th>taxes</th>\n",
              "      <th>year_built</th>\n",
              "      <th>bedrooms</th>\n",
              "      <th>bathrooms</th>\n",
              "      <th>sqrt_ft</th>\n",
              "      <th>garage</th>\n",
              "      <th>fireplaces</th>\n",
              "      <th>N_F</th>\n",
              "      <th>C-F</th>\n",
              "    </tr>\n",
              "  </thead>\n",
              "  <tbody>\n",
              "    <tr>\n",
              "      <th>6</th>\n",
              "      <td>21610478</td>\n",
              "      <td>2400000.0</td>\n",
              "      <td>85712</td>\n",
              "      <td>-110.883315</td>\n",
              "      <td>32.261069</td>\n",
              "      <td>2.10</td>\n",
              "      <td>19038.42</td>\n",
              "      <td>2001</td>\n",
              "      <td>9</td>\n",
              "      <td>8.0</td>\n",
              "      <td>12025.0</td>\n",
              "      <td>4.0</td>\n",
              "      <td>6</td>\n",
              "      <td>199.584200</td>\n",
              "      <td>1</td>\n",
              "    </tr>\n",
              "    <tr>\n",
              "      <th>35</th>\n",
              "      <td>21307177</td>\n",
              "      <td>2495000.0</td>\n",
              "      <td>85637</td>\n",
              "      <td>-110.740635</td>\n",
              "      <td>31.720431</td>\n",
              "      <td>131.00</td>\n",
              "      <td>1220.32</td>\n",
              "      <td>0</td>\n",
              "      <td>13</td>\n",
              "      <td>15.0</td>\n",
              "      <td>13000.0</td>\n",
              "      <td>0.0</td>\n",
              "      <td>4</td>\n",
              "      <td>191.923077</td>\n",
              "      <td>1</td>\n",
              "    </tr>\n",
              "    <tr>\n",
              "      <th>67</th>\n",
              "      <td>21229338</td>\n",
              "      <td>1800000.0</td>\n",
              "      <td>85712</td>\n",
              "      <td>-110.883315</td>\n",
              "      <td>32.261069</td>\n",
              "      <td>2.10</td>\n",
              "      <td>23156.58</td>\n",
              "      <td>2001</td>\n",
              "      <td>9</td>\n",
              "      <td>8.0</td>\n",
              "      <td>10258.0</td>\n",
              "      <td>4.0</td>\n",
              "      <td>6</td>\n",
              "      <td>175.472802</td>\n",
              "      <td>1</td>\n",
              "    </tr>\n",
              "    <tr>\n",
              "      <th>137</th>\n",
              "      <td>21419211</td>\n",
              "      <td>1350000.0</td>\n",
              "      <td>85750</td>\n",
              "      <td>-110.839258</td>\n",
              "      <td>32.325702</td>\n",
              "      <td>1.10</td>\n",
              "      <td>14634.00</td>\n",
              "      <td>1998</td>\n",
              "      <td>5</td>\n",
              "      <td>6.0</td>\n",
              "      <td>6756.0</td>\n",
              "      <td>4.0</td>\n",
              "      <td>2</td>\n",
              "      <td>199.822380</td>\n",
              "      <td>1</td>\n",
              "    </tr>\n",
              "    <tr>\n",
              "      <th>141</th>\n",
              "      <td>21815257</td>\n",
              "      <td>169000.0</td>\n",
              "      <td>85648</td>\n",
              "      <td>-110.918513</td>\n",
              "      <td>31.451945</td>\n",
              "      <td>0.52</td>\n",
              "      <td>80.83</td>\n",
              "      <td>2018</td>\n",
              "      <td>4</td>\n",
              "      <td>3.0</td>\n",
              "      <td>1700.0</td>\n",
              "      <td>2.0</td>\n",
              "      <td>0</td>\n",
              "      <td>99.411765</td>\n",
              "      <td>1</td>\n",
              "    </tr>\n",
              "  </tbody>\n",
              "</table>\n",
              "</div>\n",
              "      <button class=\"colab-df-convert\" onclick=\"convertToInteractive('df-c08b7e85-e351-4208-abca-980395fc420c')\"\n",
              "              title=\"Convert this dataframe to an interactive table.\"\n",
              "              style=\"display:none;\">\n",
              "        \n",
              "  <svg xmlns=\"http://www.w3.org/2000/svg\" height=\"24px\"viewBox=\"0 0 24 24\"\n",
              "       width=\"24px\">\n",
              "    <path d=\"M0 0h24v24H0V0z\" fill=\"none\"/>\n",
              "    <path d=\"M18.56 5.44l.94 2.06.94-2.06 2.06-.94-2.06-.94-.94-2.06-.94 2.06-2.06.94zm-11 1L8.5 8.5l.94-2.06 2.06-.94-2.06-.94L8.5 2.5l-.94 2.06-2.06.94zm10 10l.94 2.06.94-2.06 2.06-.94-2.06-.94-.94-2.06-.94 2.06-2.06.94z\"/><path d=\"M17.41 7.96l-1.37-1.37c-.4-.4-.92-.59-1.43-.59-.52 0-1.04.2-1.43.59L10.3 9.45l-7.72 7.72c-.78.78-.78 2.05 0 2.83L4 21.41c.39.39.9.59 1.41.59.51 0 1.02-.2 1.41-.59l7.78-7.78 2.81-2.81c.8-.78.8-2.07 0-2.86zM5.41 20L4 18.59l7.72-7.72 1.47 1.35L5.41 20z\"/>\n",
              "  </svg>\n",
              "      </button>\n",
              "      \n",
              "  <style>\n",
              "    .colab-df-container {\n",
              "      display:flex;\n",
              "      flex-wrap:wrap;\n",
              "      gap: 12px;\n",
              "    }\n",
              "\n",
              "    .colab-df-convert {\n",
              "      background-color: #E8F0FE;\n",
              "      border: none;\n",
              "      border-radius: 50%;\n",
              "      cursor: pointer;\n",
              "      display: none;\n",
              "      fill: #1967D2;\n",
              "      height: 32px;\n",
              "      padding: 0 0 0 0;\n",
              "      width: 32px;\n",
              "    }\n",
              "\n",
              "    .colab-df-convert:hover {\n",
              "      background-color: #E2EBFA;\n",
              "      box-shadow: 0px 1px 2px rgba(60, 64, 67, 0.3), 0px 1px 3px 1px rgba(60, 64, 67, 0.15);\n",
              "      fill: #174EA6;\n",
              "    }\n",
              "\n",
              "    [theme=dark] .colab-df-convert {\n",
              "      background-color: #3B4455;\n",
              "      fill: #D2E3FC;\n",
              "    }\n",
              "\n",
              "    [theme=dark] .colab-df-convert:hover {\n",
              "      background-color: #434B5C;\n",
              "      box-shadow: 0px 1px 3px 1px rgba(0, 0, 0, 0.15);\n",
              "      filter: drop-shadow(0px 1px 2px rgba(0, 0, 0, 0.3));\n",
              "      fill: #FFFFFF;\n",
              "    }\n",
              "  </style>\n",
              "\n",
              "      <script>\n",
              "        const buttonEl =\n",
              "          document.querySelector('#df-c08b7e85-e351-4208-abca-980395fc420c button.colab-df-convert');\n",
              "        buttonEl.style.display =\n",
              "          google.colab.kernel.accessAllowed ? 'block' : 'none';\n",
              "\n",
              "        async function convertToInteractive(key) {\n",
              "          const element = document.querySelector('#df-c08b7e85-e351-4208-abca-980395fc420c');\n",
              "          const dataTable =\n",
              "            await google.colab.kernel.invokeFunction('convertToInteractive',\n",
              "                                                     [key], {});\n",
              "          if (!dataTable) return;\n",
              "\n",
              "          const docLinkHtml = 'Like what you see? Visit the ' +\n",
              "            '<a target=\"_blank\" href=https://colab.research.google.com/notebooks/data_table.ipynb>data table notebook</a>'\n",
              "            + ' to learn more about interactive tables.';\n",
              "          element.innerHTML = '';\n",
              "          dataTable['output_type'] = 'display_data';\n",
              "          await google.colab.output.renderOutput(dataTable, element);\n",
              "          const docLink = document.createElement('div');\n",
              "          docLink.innerHTML = docLinkHtml;\n",
              "          element.appendChild(docLink);\n",
              "        }\n",
              "      </script>\n",
              "    </div>\n",
              "  </div>\n",
              "  "
            ]
          },
          "metadata": {},
          "execution_count": 110
        }
      ]
    },
    {
      "cell_type": "code",
      "source": [
        "range2 = (df['C-F'] == 2)"
      ],
      "metadata": {
        "id": "LdBB4h9rKVgk"
      },
      "execution_count": 111,
      "outputs": []
    },
    {
      "cell_type": "code",
      "source": [
        "range2_df = df.loc[range2, ['MLS', 'sold_price', 'zipcode', 'longitude', 'latitude', 'lot_acres', 'taxes', 'year_built', 'bedrooms', 'bathrooms', 'sqrt_ft', 'garage','fireplaces', 'N_F', 'C-F']]"
      ],
      "metadata": {
        "id": "3WhnQR95Kkr-"
      },
      "execution_count": 112,
      "outputs": []
    },
    {
      "cell_type": "code",
      "source": [
        "range2_df.shape"
      ],
      "metadata": {
        "colab": {
          "base_uri": "https://localhost:8080/"
        },
        "id": "cjSv3HPQKmkk",
        "outputId": "3965bdd4-4e3e-4036-efd1-8af7747e578c"
      },
      "execution_count": 113,
      "outputs": [
        {
          "output_type": "execute_result",
          "data": {
            "text/plain": [
              "(2534, 15)"
            ]
          },
          "metadata": {},
          "execution_count": 113
        }
      ]
    },
    {
      "cell_type": "code",
      "source": [
        "range3 = (df['C-F'] == 3)"
      ],
      "metadata": {
        "id": "Ke-hkxb0LDEl"
      },
      "execution_count": 114,
      "outputs": []
    },
    {
      "cell_type": "code",
      "source": [
        "range3_df = df.loc[range3, ['MLS', 'sold_price', 'zipcode', 'longitude', 'latitude', 'lot_acres', 'taxes', 'year_built', 'bedrooms', 'bathrooms', 'sqrt_ft', 'garage','fireplaces','N_F', 'C-F']]"
      ],
      "metadata": {
        "id": "_hTYbePfLI4k"
      },
      "execution_count": 115,
      "outputs": []
    },
    {
      "cell_type": "code",
      "source": [
        "range3_df.shape"
      ],
      "metadata": {
        "colab": {
          "base_uri": "https://localhost:8080/"
        },
        "id": "LBIfzGhpLOdc",
        "outputId": "33a59399-258b-4fdd-a586-90871eef9aa5"
      },
      "execution_count": 116,
      "outputs": [
        {
          "output_type": "execute_result",
          "data": {
            "text/plain": [
              "(75, 15)"
            ]
          },
          "metadata": {},
          "execution_count": 116
        }
      ]
    },
    {
      "cell_type": "code",
      "source": [
        "range4 = (df['C-F'] == 4)"
      ],
      "metadata": {
        "id": "iXy12gHtLkFO"
      },
      "execution_count": 117,
      "outputs": []
    },
    {
      "cell_type": "code",
      "source": [
        "range4_df = df.loc[range4, ['MLS', 'sold_price', 'zipcode', 'longitude', 'latitude', 'lot_acres', 'taxes', 'year_built', 'bedrooms', 'bathrooms', 'sqrt_ft', 'garage','fireplaces','N_F', 'C-F']]"
      ],
      "metadata": {
        "id": "3xxvC-lHMH2_"
      },
      "execution_count": 118,
      "outputs": []
    },
    {
      "cell_type": "code",
      "source": [
        "range4_df.shape"
      ],
      "metadata": {
        "colab": {
          "base_uri": "https://localhost:8080/"
        },
        "id": "mitaQ3qEMLkN",
        "outputId": "6008760a-9c81-4289-c787-90998e149fd2"
      },
      "execution_count": 119,
      "outputs": [
        {
          "output_type": "execute_result",
          "data": {
            "text/plain": [
              "(15, 15)"
            ]
          },
          "metadata": {},
          "execution_count": 119
        }
      ]
    },
    {
      "cell_type": "code",
      "source": [
        "class OurLinearRegression():\n",
        "  def fit(self, X, y, eta=1e-3, epochs=1e3, show_curve= False):\n",
        "    epochs = int(epochs)\n",
        "    N, D = X.shape\n",
        "    Y = y\n",
        "    #Stochastic Gradient Decendent\n",
        "    #Initialize the weights\n",
        "    self.W = np.random.randn(D)\n",
        "\n",
        "    J=np.zeros(epochs)\n",
        "\n",
        "    #Gradient Descent Step\n",
        "    for epoch in range(epochs):\n",
        "      Y_hat = self.predict(X)\n",
        "      J[epoch] = OLS(Y, Y_hat, N) #Calculate Error/loss\n",
        "      #Weights update rule\n",
        "      self.W -= eta*(1/N)*(X.T@(Y_hat-Y))\n",
        "    if show_curve:\n",
        "      plt.figure()\n",
        "      plt.plot(J)\n",
        "      plt.xlabel(\"epochs\")\n",
        "      plt.ylabel(\"$\\mathcal{J}$\")\n",
        "      plt.title(\"Training Curve\")\n",
        "      plt.show()\n",
        "  def predict(self, X):\n",
        "    return X@self.W"
      ],
      "metadata": {
        "id": "TSec8bMkMii8"
      },
      "execution_count": 120,
      "outputs": []
    },
    {
      "cell_type": "code",
      "source": [
        "def OLS(Y, Y_hat, N):\n",
        "  return (1/(2^N)*np.sum((Y-Y_hat)**2))\n",
        "def R2(Y, Y_hat):\n",
        "  return (1-(np.sum((Y-Y_hat)**2)/np.sum((Y-np.mean(Y))**2)))"
      ],
      "metadata": {
        "id": "OJJ4BMGDXfol"
      },
      "execution_count": 121,
      "outputs": []
    },
    {
      "cell_type": "markdown",
      "source": [
        "### Range1"
      ],
      "metadata": {
        "id": "BbtPnEGDsaYx"
      }
    },
    {
      "cell_type": "code",
      "source": [
        "range1_df.columns"
      ],
      "metadata": {
        "colab": {
          "base_uri": "https://localhost:8080/"
        },
        "id": "xoo03KA0tGHG",
        "outputId": "1d9f712e-b47d-4ddf-d4d0-bf56390e8407"
      },
      "execution_count": 122,
      "outputs": [
        {
          "output_type": "execute_result",
          "data": {
            "text/plain": [
              "Index(['MLS', 'sold_price', 'zipcode', 'longitude', 'latitude', 'lot_acres',\n",
              "       'taxes', 'year_built', 'bedrooms', 'bathrooms', 'sqrt_ft', 'garage',\n",
              "       'fireplaces', 'N_F', 'C-F'],\n",
              "      dtype='object')"
            ]
          },
          "metadata": {},
          "execution_count": 122
        }
      ]
    },
    {
      "cell_type": "code",
      "source": [
        "X_range1 = range1_df[['sqrt_ft', 'bedrooms' , 'lot_acres', 'N_F','sold_price']].copy()"
      ],
      "metadata": {
        "id": "su7dAUinXsWU"
      },
      "execution_count": 123,
      "outputs": []
    },
    {
      "cell_type": "code",
      "source": [
        "X_range1.shape"
      ],
      "metadata": {
        "colab": {
          "base_uri": "https://localhost:8080/"
        },
        "id": "Mw91S180444P",
        "outputId": "df129ca5-6319-4acd-8d29-ebdba94a8b39"
      },
      "execution_count": 124,
      "outputs": [
        {
          "output_type": "execute_result",
          "data": {
            "text/plain": [
              "(2372, 5)"
            ]
          },
          "metadata": {},
          "execution_count": 124
        }
      ]
    },
    {
      "cell_type": "code",
      "source": [
        "def min_max_scaling(column):\n",
        "    return (column - column.min())/(column.max() - column.min())"
      ],
      "metadata": {
        "id": "jVXV5diHo0nX"
      },
      "execution_count": 125,
      "outputs": []
    },
    {
      "cell_type": "code",
      "source": [
        "XR1 = X_range1.to_numpy()\n",
        "#XR1 = min_max_scaling(XR1)\n",
        "random.shuffle(XR1)\n",
        "trainR1_data = XR1[:int((len(XR1)+1)*.90)] #Remaining 90% to training set\n",
        "testR1_data = XR1[int((len(XR1)+1)*.90):] #Splits 10% data to test set"
      ],
      "metadata": {
        "id": "Fji8FNjheOhZ"
      },
      "execution_count": 126,
      "outputs": []
    },
    {
      "cell_type": "code",
      "source": [
        "trainR1_data.shape"
      ],
      "metadata": {
        "colab": {
          "base_uri": "https://localhost:8080/"
        },
        "id": "crycUZD0fBxR",
        "outputId": "48faef00-82b1-47af-d4c0-10f65a8337af"
      },
      "execution_count": 127,
      "outputs": [
        {
          "output_type": "execute_result",
          "data": {
            "text/plain": [
              "(2135, 5)"
            ]
          },
          "metadata": {},
          "execution_count": 127
        }
      ]
    },
    {
      "cell_type": "code",
      "source": [
        "testR1_data.shape"
      ],
      "metadata": {
        "colab": {
          "base_uri": "https://localhost:8080/"
        },
        "id": "_UILS13hfCo5",
        "outputId": "bf96451d-39f2-42c6-e63c-a28772e37ab4"
      },
      "execution_count": 128,
      "outputs": [
        {
          "output_type": "execute_result",
          "data": {
            "text/plain": [
              "(237, 5)"
            ]
          },
          "metadata": {},
          "execution_count": 128
        }
      ]
    },
    {
      "cell_type": "code",
      "source": [
        "corr = X_range1.corr()\n",
        "plt.figure(figsize=(20,8))\n",
        "sns.heatmap(corr, annot = True)"
      ],
      "metadata": {
        "colab": {
          "base_uri": "https://localhost:8080/",
          "height": 505
        },
        "id": "eo1Ui6g9hzOp",
        "outputId": "94a74495-966f-4183-9025-c7e4eff3bd2d"
      },
      "execution_count": 129,
      "outputs": [
        {
          "output_type": "execute_result",
          "data": {
            "text/plain": [
              "<matplotlib.axes._subplots.AxesSubplot at 0x7f2e1685a790>"
            ]
          },
          "metadata": {},
          "execution_count": 129
        },
        {
          "output_type": "display_data",
          "data": {
            "text/plain": [
              "<Figure size 1440x576 with 2 Axes>"
            ],
            "image/png": "[encoded data removed]"
          },
          "metadata": {
            "needs_background": "light"
          }
        }
      ]
    },
    {
      "cell_type": "code",
      "source": [
        "y_range1Tr=trainR1_data[:,0]"
      ],
      "metadata": {
        "id": "HAxul_WeZ7TV"
      },
      "execution_count": 130,
      "outputs": []
    },
    {
      "cell_type": "code",
      "source": [
        "y_range1Tr"
      ],
      "metadata": {
        "colab": {
          "base_uri": "https://localhost:8080/"
        },
        "id": "fmaKyHYqZ_5c",
        "outputId": "b25b77d0-fe76-4ece-d557-75e4ab47e154"
      },
      "execution_count": 131,
      "outputs": [
        {
          "output_type": "execute_result",
          "data": {
            "text/plain": [
              "array([12025., 12025., 10258., ...,  6242.,  5665.,  7284.])"
            ]
          },
          "metadata": {},
          "execution_count": 131
        }
      ]
    },
    {
      "cell_type": "code",
      "source": [
        "y_range1Tr.shape"
      ],
      "metadata": {
        "colab": {
          "base_uri": "https://localhost:8080/"
        },
        "id": "NpYcL35Na7ik",
        "outputId": "0d0fdcd9-17b6-4a1f-d73a-9453189c6159"
      },
      "execution_count": 132,
      "outputs": [
        {
          "output_type": "execute_result",
          "data": {
            "text/plain": [
              "(2135,)"
            ]
          },
          "metadata": {},
          "execution_count": 132
        }
      ]
    },
    {
      "cell_type": "code",
      "source": [
        "X_range1Tr=trainR1_data[:,1:]"
      ],
      "metadata": {
        "id": "lvu8OT0aaCLE"
      },
      "execution_count": 133,
      "outputs": []
    },
    {
      "cell_type": "code",
      "source": [
        "X_range1Tr.shape"
      ],
      "metadata": {
        "colab": {
          "base_uri": "https://localhost:8080/"
        },
        "id": "94Fg4ftMaJev",
        "outputId": "7a3817e0-aca7-4b72-81e9-39c02919016d"
      },
      "execution_count": 134,
      "outputs": [
        {
          "output_type": "execute_result",
          "data": {
            "text/plain": [
              "(2135, 4)"
            ]
          },
          "metadata": {},
          "execution_count": 134
        }
      ]
    },
    {
      "cell_type": "code",
      "source": [
        "y_range1Te=testR1_data[:,0]"
      ],
      "metadata": {
        "id": "dfa89pfEnlFP"
      },
      "execution_count": 135,
      "outputs": []
    },
    {
      "cell_type": "code",
      "source": [
        "y_range1Te.shape"
      ],
      "metadata": {
        "colab": {
          "base_uri": "https://localhost:8080/"
        },
        "id": "JXFrxkSFnx4K",
        "outputId": "e0695081-3e9d-4281-eddf-d4307ca475f6"
      },
      "execution_count": 136,
      "outputs": [
        {
          "output_type": "execute_result",
          "data": {
            "text/plain": [
              "(237,)"
            ]
          },
          "metadata": {},
          "execution_count": 136
        }
      ]
    },
    {
      "cell_type": "code",
      "source": [
        "X_range1Te=testR1_data[:,1:]"
      ],
      "metadata": {
        "id": "K28nUhkZn54-"
      },
      "execution_count": 137,
      "outputs": []
    },
    {
      "cell_type": "code",
      "source": [
        "X_range1Te.shape"
      ],
      "metadata": {
        "colab": {
          "base_uri": "https://localhost:8080/"
        },
        "id": "jiqV1Y41oAV2",
        "outputId": "fed4353b-5e31-498a-a597-7dccdb4b23d9"
      },
      "execution_count": 138,
      "outputs": [
        {
          "output_type": "execute_result",
          "data": {
            "text/plain": [
              "(237, 4)"
            ]
          },
          "metadata": {},
          "execution_count": 138
        }
      ]
    },
    {
      "cell_type": "code",
      "source": [
        "Reg = OurLinearRegression()"
      ],
      "metadata": {
        "id": "oJ79fjIiaOV8"
      },
      "execution_count": 139,
      "outputs": []
    },
    {
      "cell_type": "code",
      "source": [
        "Reg.fit(X_range1Tr, y_range1Tr, epochs = 1e3, eta=1e-14, show_curve=True)"
      ],
      "metadata": {
        "colab": {
          "base_uri": "https://localhost:8080/",
          "height": 295
        },
        "id": "l4tyOT63alon",
        "outputId": "ae51e006-fad5-4d6a-b6f6-25b66248775f"
      },
      "execution_count": 172,
      "outputs": [
        {
          "output_type": "display_data",
          "data": {
            "text/plain": [
              "<Figure size 432x288 with 1 Axes>"
            ],
            "image/png": "[encoded data removed]"
          },
          "metadata": {
            "needs_background": "light"
          }
        }
      ]
    },
    {
      "cell_type": "code",
      "source": [
        "y_hatR1Te=Reg.predict(X_range1Te)"
      ],
      "metadata": {
        "id": "zaQZbhbldVa0"
      },
      "execution_count": 141,
      "outputs": []
    },
    {
      "cell_type": "code",
      "source": [
        "R2(y_range1Te,y_hatR1Te)"
      ],
      "metadata": {
        "colab": {
          "base_uri": "https://localhost:8080/"
        },
        "id": "x66nSMZmgcDT",
        "outputId": "25bc77f0-62d2-427e-dfb3-3fb4b314b311"
      },
      "execution_count": 142,
      "outputs": [
        {
          "output_type": "execute_result",
          "data": {
            "text/plain": [
              "0.5932688381735663"
            ]
          },
          "metadata": {},
          "execution_count": 142
        }
      ]
    },
    {
      "cell_type": "code",
      "source": [
        "y_hatR1Tr=Reg.predict(X_range1Tr)"
      ],
      "metadata": {
        "id": "R7dnmpMKpa2f"
      },
      "execution_count": 143,
      "outputs": []
    },
    {
      "cell_type": "code",
      "source": [
        "R2(y_range1Tr,y_hatR1Tr)"
      ],
      "metadata": {
        "colab": {
          "base_uri": "https://localhost:8080/"
        },
        "id": "Lr_thyGVph5-",
        "outputId": "cbff5322-6d67-4d5f-c900-d157b880c716"
      },
      "execution_count": 144,
      "outputs": [
        {
          "output_type": "execute_result",
          "data": {
            "text/plain": [
              "0.67222773444424"
            ]
          },
          "metadata": {},
          "execution_count": 144
        }
      ]
    },
    {
      "cell_type": "markdown",
      "source": [
        "### Range 2"
      ],
      "metadata": {
        "id": "2QcFhB3lsSwy"
      }
    },
    {
      "cell_type": "code",
      "source": [
        "X_range2 = range2_df[['sqrt_ft', 'bedrooms' , 'N_F', 'sold_price']].copy()"
      ],
      "metadata": {
        "id": "m_JffeyLqzAJ"
      },
      "execution_count": 145,
      "outputs": []
    },
    {
      "cell_type": "code",
      "source": [
        "X_range2.shape"
      ],
      "metadata": {
        "colab": {
          "base_uri": "https://localhost:8080/"
        },
        "id": "AZBXYqQb3GzP",
        "outputId": "2a07a4ea-67e9-44ec-80e5-0573de02aec2"
      },
      "execution_count": 146,
      "outputs": [
        {
          "output_type": "execute_result",
          "data": {
            "text/plain": [
              "(2534, 4)"
            ]
          },
          "metadata": {},
          "execution_count": 146
        }
      ]
    },
    {
      "cell_type": "code",
      "source": [
        "XR2 = X_range2.to_numpy()\n",
        "#XR2 = min_max_scaling(XR2)\n",
        "random.shuffle(XR1)\n",
        "trainR2_data = XR2[:int((len(XR2)+1)*.90)] #Remaining 90% to training set\n",
        "testR2_data = XR2[int((len(XR2)+1)*.90):] #Splits 10% data to test set"
      ],
      "metadata": {
        "id": "RTAbHwZnq77B"
      },
      "execution_count": 147,
      "outputs": []
    },
    {
      "cell_type": "code",
      "source": [
        "y_range2Tr=trainR2_data[:,0]"
      ],
      "metadata": {
        "id": "AR0o4INmrPI-"
      },
      "execution_count": 148,
      "outputs": []
    },
    {
      "cell_type": "code",
      "source": [
        "X_range2Tr=trainR2_data[:,1:]"
      ],
      "metadata": {
        "id": "ZIYAXpnUrUyT"
      },
      "execution_count": 149,
      "outputs": []
    },
    {
      "cell_type": "code",
      "source": [
        "y_range2Te=testR2_data[:,0]"
      ],
      "metadata": {
        "id": "gKHAyccQrhzz"
      },
      "execution_count": 150,
      "outputs": []
    },
    {
      "cell_type": "code",
      "source": [
        "X_range2Te=testR2_data[:,1:]"
      ],
      "metadata": {
        "id": "pFfU2QOwrwZK"
      },
      "execution_count": 151,
      "outputs": []
    },
    {
      "cell_type": "code",
      "source": [
        "Reg.fit(X_range2Te, y_range2Te, epochs = 1e4, eta=1e-14, show_curve=True)"
      ],
      "metadata": {
        "colab": {
          "base_uri": "https://localhost:8080/",
          "height": 295
        },
        "id": "NcKjGu3jr3Cy",
        "outputId": "d1ba911c-dbb4-4287-ab08-7dde6feea3de"
      },
      "execution_count": 250,
      "outputs": [
        {
          "output_type": "display_data",
          "data": {
            "text/plain": [
              "<Figure size 432x288 with 1 Axes>"
            ],
            "image/png": "[encoded data removed]"
          },
          "metadata": {
            "needs_background": "light"
          }
        }
      ]
    },
    {
      "cell_type": "code",
      "source": [
        "y_hatR2Te=Reg.predict(X_range2Te)"
      ],
      "metadata": {
        "id": "bS9EFgber-zT"
      },
      "execution_count": 251,
      "outputs": []
    },
    {
      "cell_type": "code",
      "source": [
        "y_hatR2Tr=Reg.predict(X_range2Tr)"
      ],
      "metadata": {
        "id": "5WRC3dlqsEYF"
      },
      "execution_count": 252,
      "outputs": []
    },
    {
      "cell_type": "code",
      "source": [
        "R2(y_range2Te,y_hatR2Te)"
      ],
      "metadata": {
        "colab": {
          "base_uri": "https://localhost:8080/"
        },
        "id": "JON9UdjQsKRB",
        "outputId": "a2e21845-c2b4-4d83-e162-61e2df1ce8c0"
      },
      "execution_count": 253,
      "outputs": [
        {
          "output_type": "execute_result",
          "data": {
            "text/plain": [
              "0.2900993451439755"
            ]
          },
          "metadata": {},
          "execution_count": 253
        }
      ]
    },
    {
      "cell_type": "code",
      "source": [
        "R2(y_range2Tr,y_hatR2Tr)"
      ],
      "metadata": {
        "colab": {
          "base_uri": "https://localhost:8080/"
        },
        "id": "Y_JxD8oHsNs6",
        "outputId": "0893bd68-ad37-446f-81ef-67e002118e8f"
      },
      "execution_count": 224,
      "outputs": [
        {
          "output_type": "execute_result",
          "data": {
            "text/plain": [
              "0.526022097365239"
            ]
          },
          "metadata": {},
          "execution_count": 224
        }
      ]
    },
    {
      "cell_type": "markdown",
      "source": [
        "### Range 3"
      ],
      "metadata": {
        "id": "kpMJwkS6siex"
      }
    },
    {
      "cell_type": "code",
      "source": [
        "X_range3 = range3_df[['sqrt_ft', 'bedrooms', 'lot_acres', 'N_F', 'sold_price']].copy()"
      ],
      "metadata": {
        "id": "RY1aPiUVsmVE"
      },
      "execution_count": 157,
      "outputs": []
    },
    {
      "cell_type": "code",
      "source": [
        "XR3 = X_range3.to_numpy()\n",
        "#XR2 = min_max_scaling(XR2)\n",
        "random.shuffle(XR1)\n",
        "trainR3_data = XR3[:int((len(XR3)+1)*.90)] #Remaining 90% to training set\n",
        "testR3_data = XR3[int((len(XR3)+1)*.90):] #Splits 10% data to test set"
      ],
      "metadata": {
        "id": "WWxoIK82AgBP"
      },
      "execution_count": 158,
      "outputs": []
    },
    {
      "cell_type": "code",
      "source": [
        "X_range4 = range4_df[['sqrt_ft', 'bedrooms', 'lot_acres', 'N_F', 'sold_price']].copy()"
      ],
      "metadata": {
        "id": "teANJN79srRa"
      },
      "execution_count": 159,
      "outputs": []
    },
    {
      "cell_type": "code",
      "source": [
        "X_range3 = X_range3.to_numpy()"
      ],
      "metadata": {
        "id": "ncud7HE3steZ"
      },
      "execution_count": 160,
      "outputs": []
    },
    {
      "cell_type": "code",
      "source": [
        "X_range4 = X_range4.to_numpy()"
      ],
      "metadata": {
        "id": "TuHZncOKtABq"
      },
      "execution_count": 161,
      "outputs": []
    },
    {
      "cell_type": "code",
      "source": [
        "y_range3Tr=trainR3_data[:,0]"
      ],
      "metadata": {
        "id": "NdPuzMQctIza"
      },
      "execution_count": 162,
      "outputs": []
    },
    {
      "cell_type": "code",
      "source": [
        "X_range3Tr=trainR3_data[:,1:]"
      ],
      "metadata": {
        "id": "DAWILmOytaCp"
      },
      "execution_count": 163,
      "outputs": []
    },
    {
      "cell_type": "code",
      "source": [
        "y_range3Te=testR3_data[:,0]"
      ],
      "metadata": {
        "id": "8URTjILethTb"
      },
      "execution_count": 164,
      "outputs": []
    },
    {
      "cell_type": "code",
      "source": [
        "X_range3Te=testR3_data[:,1:]"
      ],
      "metadata": {
        "id": "A6EWaIqGtkiy"
      },
      "execution_count": 165,
      "outputs": []
    },
    {
      "cell_type": "code",
      "source": [
        "Reg.fit(X_range3Te, y_range3Te, epochs = 1e3, eta=1e-14, show_curve=True)"
      ],
      "metadata": {
        "colab": {
          "base_uri": "https://localhost:8080/",
          "height": 295
        },
        "id": "tLPlPhW1trhH",
        "outputId": "b273057f-499b-4f1b-9826-4d29962b0f67"
      },
      "execution_count": 166,
      "outputs": [
        {
          "output_type": "display_data",
          "data": {
            "text/plain": [
              "<Figure size 432x288 with 1 Axes>"
            ],
            "image/png": "[encoded data removed]"
          },
          "metadata": {
            "needs_background": "light"
          }
        }
      ]
    },
    {
      "cell_type": "code",
      "source": [
        "y_hatR3Te=Reg.predict(X_range3Te)"
      ],
      "metadata": {
        "id": "U0ZyEaJitt8D"
      },
      "execution_count": 167,
      "outputs": []
    },
    {
      "cell_type": "code",
      "source": [
        "y_hatR3Tr=Reg.predict(X_range3Tr)"
      ],
      "metadata": {
        "id": "IObKuwEctzCq"
      },
      "execution_count": 168,
      "outputs": []
    },
    {
      "cell_type": "code",
      "source": [
        "R2(y_range3Te,y_hatR3Te)"
      ],
      "metadata": {
        "colab": {
          "base_uri": "https://localhost:8080/"
        },
        "id": "JPvVA_set4j7",
        "outputId": "e8c93787-97b7-4b1b-b58d-5af950862ccf"
      },
      "execution_count": 169,
      "outputs": [
        {
          "output_type": "execute_result",
          "data": {
            "text/plain": [
              "-15.290192707540399"
            ]
          },
          "metadata": {},
          "execution_count": 169
        }
      ]
    },
    {
      "cell_type": "code",
      "source": [
        "R2(y_range3Tr,y_hatR3Tr)"
      ],
      "metadata": {
        "colab": {
          "base_uri": "https://localhost:8080/"
        },
        "id": "k2up-Ullt4s4",
        "outputId": "86e528ee-f340-4806-8f5f-62efb64b8b11"
      },
      "execution_count": 170,
      "outputs": [
        {
          "output_type": "execute_result",
          "data": {
            "text/plain": [
              "-0.29877036958796244"
            ]
          },
          "metadata": {},
          "execution_count": 170
        }
      ]
    },
    {
      "cell_type": "code",
      "source": [
        "X_range4.shape"
      ],
      "metadata": {
        "colab": {
          "base_uri": "https://localhost:8080/"
        },
        "id": "zAD0zIGB6pgp",
        "outputId": "2224158e-b83d-46ba-e069-887f60a9b168"
      },
      "execution_count": 171,
      "outputs": [
        {
          "output_type": "execute_result",
          "data": {
            "text/plain": [
              "(15, 5)"
            ]
          },
          "metadata": {},
          "execution_count": 171
        }
      ]
    }
  ]
}